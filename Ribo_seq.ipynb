{
  "nbformat": 4,
  "nbformat_minor": 0,
  "metadata": {
    "colab": {
      "provenance": [],
      "authorship_tag": "ABX9TyOBdhGsxUPH4+Oo+qavDKaL",
      "include_colab_link": true
    },
    "kernelspec": {
      "name": "python3",
      "display_name": "Python 3"
    },
    "language_info": {
      "name": "python"
    }
  },
  "cells": [
    {
      "cell_type": "markdown",
      "metadata": {
        "id": "view-in-github",
        "colab_type": "text"
      },
      "source": [
        "<a href=\"https://colab.research.google.com/github/olkidel/ngs_course/blob/main/Ribo_seq.ipynb\" target=\"_parent\"><img src=\"https://colab.research.google.com/assets/colab-badge.svg\" alt=\"Open In Colab\"/></a>"
      ]
    },
    {
      "cell_type": "code",
      "source": [
        "!pip uninstall -y numpy\n",
        "!pip install numpy==1.23.0\n",
        "!pip uninstall -y scipy\n",
        "!pip install scipy==1.8.1\n",
        "!pip install statsmodels==0.13.2"
      ],
      "metadata": {
        "colab": {
          "base_uri": "https://localhost:8080/",
          "height": 656
        },
        "id": "YoF9N8c4ulXT",
        "outputId": "375a5178-5e7b-4ce2-dcfb-c16bbb4f0cb4"
      },
      "execution_count": 1,
      "outputs": [
        {
          "output_type": "stream",
          "name": "stdout",
          "text": [
            "Found existing installation: numpy 1.23.0\n",
            "Uninstalling numpy-1.23.0:\n",
            "  Successfully uninstalled numpy-1.23.0\n",
            "Looking in indexes: https://pypi.org/simple, https://us-python.pkg.dev/colab-wheels/public/simple/\n",
            "Collecting numpy==1.23.0\n",
            "  Using cached numpy-1.23.0-cp38-cp38-manylinux_2_17_x86_64.manylinux2014_x86_64.whl (17.1 MB)\n",
            "Installing collected packages: numpy\n",
            "Successfully installed numpy-1.23.0\n"
          ]
        },
        {
          "output_type": "display_data",
          "data": {
            "application/vnd.colab-display-data+json": {
              "pip_warning": {
                "packages": [
                  "numpy"
                ]
              }
            }
          },
          "metadata": {}
        },
        {
          "output_type": "stream",
          "name": "stdout",
          "text": [
            "Found existing installation: scipy 1.8.1\n",
            "Uninstalling scipy-1.8.1:\n",
            "  Successfully uninstalled scipy-1.8.1\n",
            "Looking in indexes: https://pypi.org/simple, https://us-python.pkg.dev/colab-wheels/public/simple/\n",
            "Collecting scipy==1.8.1\n",
            "  Using cached scipy-1.8.1-cp38-cp38-manylinux_2_17_x86_64.manylinux2014_x86_64.whl (41.6 MB)\n",
            "Requirement already satisfied: numpy<1.25.0,>=1.17.3 in /usr/local/lib/python3.8/dist-packages (from scipy==1.8.1) (1.23.0)\n",
            "Installing collected packages: scipy\n",
            "Successfully installed scipy-1.8.1\n",
            "Looking in indexes: https://pypi.org/simple, https://us-python.pkg.dev/colab-wheels/public/simple/\n",
            "Requirement already satisfied: statsmodels==0.13.2 in /usr/local/lib/python3.8/dist-packages (0.13.2)\n",
            "Requirement already satisfied: pandas>=0.25 in /usr/local/lib/python3.8/dist-packages (from statsmodels==0.13.2) (1.5.2)\n",
            "Requirement already satisfied: numpy>=1.17 in /usr/local/lib/python3.8/dist-packages (from statsmodels==0.13.2) (1.23.0)\n",
            "Requirement already satisfied: packaging>=21.3 in /usr/local/lib/python3.8/dist-packages (from statsmodels==0.13.2) (21.3)\n",
            "Requirement already satisfied: patsy>=0.5.2 in /usr/local/lib/python3.8/dist-packages (from statsmodels==0.13.2) (0.5.3)\n",
            "Requirement already satisfied: scipy>=1.3 in /usr/local/lib/python3.8/dist-packages (from statsmodels==0.13.2) (1.8.1)\n",
            "Requirement already satisfied: pyparsing!=3.0.5,>=2.0.2 in /usr/local/lib/python3.8/dist-packages (from packaging>=21.3->statsmodels==0.13.2) (3.0.9)\n",
            "Requirement already satisfied: pytz>=2020.1 in /usr/local/lib/python3.8/dist-packages (from pandas>=0.25->statsmodels==0.13.2) (2022.6)\n",
            "Requirement already satisfied: python-dateutil>=2.8.1 in /usr/local/lib/python3.8/dist-packages (from pandas>=0.25->statsmodels==0.13.2) (2.8.2)\n",
            "Requirement already satisfied: six in /usr/local/lib/python3.8/dist-packages (from patsy>=0.5.2->statsmodels==0.13.2) (1.15.0)\n"
          ]
        }
      ]
    },
    {
      "cell_type": "code",
      "execution_count": 2,
      "metadata": {
        "id": "t9pL1RuCVZNr"
      },
      "outputs": [],
      "source": [
        "import numpy as np\n",
        "import pandas as pd"
      ]
    },
    {
      "cell_type": "code",
      "source": [
        "df = pd.read_csv('/content/01. RiboSeq_RNASeq_HCC_counts.tsv', sep='\\t')\n",
        "df = df.dropna()\n",
        "# df = df.set_index('geneSymbol')\n",
        "df.head()"
      ],
      "metadata": {
        "colab": {
          "base_uri": "https://localhost:8080/",
          "height": 334
        },
        "id": "0FJYwrx_ViX4",
        "outputId": "b40d191d-768e-4e6b-ffa0-c3da94009e46"
      },
      "execution_count": 3,
      "outputs": [
        {
          "output_type": "execute_result",
          "data": {
            "text/plain": [
              "               geneID geneSymbol  LC001-normal-RPF  LC001-tumor-RPF  \\\n",
              "0  ENSG00000000003.14     TSPAN6                 0                0   \n",
              "2  ENSG00000000419.12       DPM1               168              239   \n",
              "3  ENSG00000000457.13      SCYL3                65              121   \n",
              "4  ENSG00000000460.16   C1orf112                 8               43   \n",
              "5  ENSG00000000938.12        FGR                 0                6   \n",
              "\n",
              "   LC001-normal-RNA  LC001-tumor-RNA  LC033-normal-RPF  LC033-tumor-RPF  \\\n",
              "0               402              873                 0                0   \n",
              "2                88              187               114              439   \n",
              "3                60              106                36              163   \n",
              "4                18               70                16               76   \n",
              "5                19                9                14               13   \n",
              "\n",
              "   LC033-normal-RNA  LC033-tumor-RNA  ...  LC507-normal-RNA  LC507-tumor-RNA  \\\n",
              "0               301             1627  ...               218              457   \n",
              "2                66              201  ...                92              170   \n",
              "3                70              156  ...               127              176   \n",
              "4                 4               63  ...               124              437   \n",
              "5                61               24  ...                94               13   \n",
              "\n",
              "   LC508-normal-RPF  LC508-tumor-RPF  LC508-normal-RNA  LC508-tumor-RNA  \\\n",
              "0                 0                0               200              889   \n",
              "2               109              357                60              244   \n",
              "3                67              176                55              261   \n",
              "4                 7              167                34              201   \n",
              "5                 3                9                42               26   \n",
              "\n",
              "   LC509-normal-RPF  LC509-tumor-RPF  LC509-normal-RNA  LC509-tumor-RNA  \n",
              "0                 0                0               161            857.0  \n",
              "2               141              173                56             83.0  \n",
              "3                64              100                68            176.0  \n",
              "4                 6               61                 9             58.0  \n",
              "5                 7               10                26             57.0  \n",
              "\n",
              "[5 rows x 42 columns]"
            ],
            "text/html": [
              "\n",
              "  <div id=\"df-e487aa5c-0e29-4790-9de1-ae9df99b15db\">\n",
              "    <div class=\"colab-df-container\">\n",
              "      <div>\n",
              "<style scoped>\n",
              "    .dataframe tbody tr th:only-of-type {\n",
              "        vertical-align: middle;\n",
              "    }\n",
              "\n",
              "    .dataframe tbody tr th {\n",
              "        vertical-align: top;\n",
              "    }\n",
              "\n",
              "    .dataframe thead th {\n",
              "        text-align: right;\n",
              "    }\n",
              "</style>\n",
              "<table border=\"1\" class=\"dataframe\">\n",
              "  <thead>\n",
              "    <tr style=\"text-align: right;\">\n",
              "      <th></th>\n",
              "      <th>geneID</th>\n",
              "      <th>geneSymbol</th>\n",
              "      <th>LC001-normal-RPF</th>\n",
              "      <th>LC001-tumor-RPF</th>\n",
              "      <th>LC001-normal-RNA</th>\n",
              "      <th>LC001-tumor-RNA</th>\n",
              "      <th>LC033-normal-RPF</th>\n",
              "      <th>LC033-tumor-RPF</th>\n",
              "      <th>LC033-normal-RNA</th>\n",
              "      <th>LC033-tumor-RNA</th>\n",
              "      <th>...</th>\n",
              "      <th>LC507-normal-RNA</th>\n",
              "      <th>LC507-tumor-RNA</th>\n",
              "      <th>LC508-normal-RPF</th>\n",
              "      <th>LC508-tumor-RPF</th>\n",
              "      <th>LC508-normal-RNA</th>\n",
              "      <th>LC508-tumor-RNA</th>\n",
              "      <th>LC509-normal-RPF</th>\n",
              "      <th>LC509-tumor-RPF</th>\n",
              "      <th>LC509-normal-RNA</th>\n",
              "      <th>LC509-tumor-RNA</th>\n",
              "    </tr>\n",
              "  </thead>\n",
              "  <tbody>\n",
              "    <tr>\n",
              "      <th>0</th>\n",
              "      <td>ENSG00000000003.14</td>\n",
              "      <td>TSPAN6</td>\n",
              "      <td>0</td>\n",
              "      <td>0</td>\n",
              "      <td>402</td>\n",
              "      <td>873</td>\n",
              "      <td>0</td>\n",
              "      <td>0</td>\n",
              "      <td>301</td>\n",
              "      <td>1627</td>\n",
              "      <td>...</td>\n",
              "      <td>218</td>\n",
              "      <td>457</td>\n",
              "      <td>0</td>\n",
              "      <td>0</td>\n",
              "      <td>200</td>\n",
              "      <td>889</td>\n",
              "      <td>0</td>\n",
              "      <td>0</td>\n",
              "      <td>161</td>\n",
              "      <td>857.0</td>\n",
              "    </tr>\n",
              "    <tr>\n",
              "      <th>2</th>\n",
              "      <td>ENSG00000000419.12</td>\n",
              "      <td>DPM1</td>\n",
              "      <td>168</td>\n",
              "      <td>239</td>\n",
              "      <td>88</td>\n",
              "      <td>187</td>\n",
              "      <td>114</td>\n",
              "      <td>439</td>\n",
              "      <td>66</td>\n",
              "      <td>201</td>\n",
              "      <td>...</td>\n",
              "      <td>92</td>\n",
              "      <td>170</td>\n",
              "      <td>109</td>\n",
              "      <td>357</td>\n",
              "      <td>60</td>\n",
              "      <td>244</td>\n",
              "      <td>141</td>\n",
              "      <td>173</td>\n",
              "      <td>56</td>\n",
              "      <td>83.0</td>\n",
              "    </tr>\n",
              "    <tr>\n",
              "      <th>3</th>\n",
              "      <td>ENSG00000000457.13</td>\n",
              "      <td>SCYL3</td>\n",
              "      <td>65</td>\n",
              "      <td>121</td>\n",
              "      <td>60</td>\n",
              "      <td>106</td>\n",
              "      <td>36</td>\n",
              "      <td>163</td>\n",
              "      <td>70</td>\n",
              "      <td>156</td>\n",
              "      <td>...</td>\n",
              "      <td>127</td>\n",
              "      <td>176</td>\n",
              "      <td>67</td>\n",
              "      <td>176</td>\n",
              "      <td>55</td>\n",
              "      <td>261</td>\n",
              "      <td>64</td>\n",
              "      <td>100</td>\n",
              "      <td>68</td>\n",
              "      <td>176.0</td>\n",
              "    </tr>\n",
              "    <tr>\n",
              "      <th>4</th>\n",
              "      <td>ENSG00000000460.16</td>\n",
              "      <td>C1orf112</td>\n",
              "      <td>8</td>\n",
              "      <td>43</td>\n",
              "      <td>18</td>\n",
              "      <td>70</td>\n",
              "      <td>16</td>\n",
              "      <td>76</td>\n",
              "      <td>4</td>\n",
              "      <td>63</td>\n",
              "      <td>...</td>\n",
              "      <td>124</td>\n",
              "      <td>437</td>\n",
              "      <td>7</td>\n",
              "      <td>167</td>\n",
              "      <td>34</td>\n",
              "      <td>201</td>\n",
              "      <td>6</td>\n",
              "      <td>61</td>\n",
              "      <td>9</td>\n",
              "      <td>58.0</td>\n",
              "    </tr>\n",
              "    <tr>\n",
              "      <th>5</th>\n",
              "      <td>ENSG00000000938.12</td>\n",
              "      <td>FGR</td>\n",
              "      <td>0</td>\n",
              "      <td>6</td>\n",
              "      <td>19</td>\n",
              "      <td>9</td>\n",
              "      <td>14</td>\n",
              "      <td>13</td>\n",
              "      <td>61</td>\n",
              "      <td>24</td>\n",
              "      <td>...</td>\n",
              "      <td>94</td>\n",
              "      <td>13</td>\n",
              "      <td>3</td>\n",
              "      <td>9</td>\n",
              "      <td>42</td>\n",
              "      <td>26</td>\n",
              "      <td>7</td>\n",
              "      <td>10</td>\n",
              "      <td>26</td>\n",
              "      <td>57.0</td>\n",
              "    </tr>\n",
              "  </tbody>\n",
              "</table>\n",
              "<p>5 rows × 42 columns</p>\n",
              "</div>\n",
              "      <button class=\"colab-df-convert\" onclick=\"convertToInteractive('df-e487aa5c-0e29-4790-9de1-ae9df99b15db')\"\n",
              "              title=\"Convert this dataframe to an interactive table.\"\n",
              "              style=\"display:none;\">\n",
              "        \n",
              "  <svg xmlns=\"http://www.w3.org/2000/svg\" height=\"24px\"viewBox=\"0 0 24 24\"\n",
              "       width=\"24px\">\n",
              "    <path d=\"M0 0h24v24H0V0z\" fill=\"none\"/>\n",
              "    <path d=\"M18.56 5.44l.94 2.06.94-2.06 2.06-.94-2.06-.94-.94-2.06-.94 2.06-2.06.94zm-11 1L8.5 8.5l.94-2.06 2.06-.94-2.06-.94L8.5 2.5l-.94 2.06-2.06.94zm10 10l.94 2.06.94-2.06 2.06-.94-2.06-.94-.94-2.06-.94 2.06-2.06.94z\"/><path d=\"M17.41 7.96l-1.37-1.37c-.4-.4-.92-.59-1.43-.59-.52 0-1.04.2-1.43.59L10.3 9.45l-7.72 7.72c-.78.78-.78 2.05 0 2.83L4 21.41c.39.39.9.59 1.41.59.51 0 1.02-.2 1.41-.59l7.78-7.78 2.81-2.81c.8-.78.8-2.07 0-2.86zM5.41 20L4 18.59l7.72-7.72 1.47 1.35L5.41 20z\"/>\n",
              "  </svg>\n",
              "      </button>\n",
              "      \n",
              "  <style>\n",
              "    .colab-df-container {\n",
              "      display:flex;\n",
              "      flex-wrap:wrap;\n",
              "      gap: 12px;\n",
              "    }\n",
              "\n",
              "    .colab-df-convert {\n",
              "      background-color: #E8F0FE;\n",
              "      border: none;\n",
              "      border-radius: 50%;\n",
              "      cursor: pointer;\n",
              "      display: none;\n",
              "      fill: #1967D2;\n",
              "      height: 32px;\n",
              "      padding: 0 0 0 0;\n",
              "      width: 32px;\n",
              "    }\n",
              "\n",
              "    .colab-df-convert:hover {\n",
              "      background-color: #E2EBFA;\n",
              "      box-shadow: 0px 1px 2px rgba(60, 64, 67, 0.3), 0px 1px 3px 1px rgba(60, 64, 67, 0.15);\n",
              "      fill: #174EA6;\n",
              "    }\n",
              "\n",
              "    [theme=dark] .colab-df-convert {\n",
              "      background-color: #3B4455;\n",
              "      fill: #D2E3FC;\n",
              "    }\n",
              "\n",
              "    [theme=dark] .colab-df-convert:hover {\n",
              "      background-color: #434B5C;\n",
              "      box-shadow: 0px 1px 3px 1px rgba(0, 0, 0, 0.15);\n",
              "      filter: drop-shadow(0px 1px 2px rgba(0, 0, 0, 0.3));\n",
              "      fill: #FFFFFF;\n",
              "    }\n",
              "  </style>\n",
              "\n",
              "      <script>\n",
              "        const buttonEl =\n",
              "          document.querySelector('#df-e487aa5c-0e29-4790-9de1-ae9df99b15db button.colab-df-convert');\n",
              "        buttonEl.style.display =\n",
              "          google.colab.kernel.accessAllowed ? 'block' : 'none';\n",
              "\n",
              "        async function convertToInteractive(key) {\n",
              "          const element = document.querySelector('#df-e487aa5c-0e29-4790-9de1-ae9df99b15db');\n",
              "          const dataTable =\n",
              "            await google.colab.kernel.invokeFunction('convertToInteractive',\n",
              "                                                     [key], {});\n",
              "          if (!dataTable) return;\n",
              "\n",
              "          const docLinkHtml = 'Like what you see? Visit the ' +\n",
              "            '<a target=\"_blank\" href=https://colab.research.google.com/notebooks/data_table.ipynb>data table notebook</a>'\n",
              "            + ' to learn more about interactive tables.';\n",
              "          element.innerHTML = '';\n",
              "          dataTable['output_type'] = 'display_data';\n",
              "          await google.colab.output.renderOutput(dataTable, element);\n",
              "          const docLink = document.createElement('div');\n",
              "          docLink.innerHTML = docLinkHtml;\n",
              "          element.appendChild(docLink);\n",
              "        }\n",
              "      </script>\n",
              "    </div>\n",
              "  </div>\n",
              "  "
            ]
          },
          "metadata": {},
          "execution_count": 3
        }
      ]
    },
    {
      "cell_type": "markdown",
      "source": [
        "разделим на rna и ribo \n"
      ],
      "metadata": {
        "id": "fpSiGyZ9oPEU"
      }
    },
    {
      "cell_type": "code",
      "source": [
        "ribo = df[[col for col in df.columns if col.endswith(\"RPF\")]]\n",
        "rna = df[[col for col in df.columns if col.endswith(\"RNA\")]]"
      ],
      "metadata": {
        "id": "dnrllz1mVonu"
      },
      "execution_count": 4,
      "outputs": []
    },
    {
      "cell_type": "markdown",
      "source": [
        "**Опеределим корреляцию**\n",
        "\n",
        "Чисто теоретически конечно можно взять корреляцию Пирсона, но кажется у нас не так много данных ( по хорошему их еще и отнормировать бы ) + мы не уверены что они распределены нормально, так что возьмем Спирмена\n"
      ],
      "metadata": {
        "id": "KJ4K17mCvbuQ"
      }
    },
    {
      "cell_type": "code",
      "source": [
        "from scipy.stats import spearmanr, pearsonr\n",
        "corr = {ind: spearmanr(ribo.loc[ind].values, rna.loc[ind].values).correlation for ind in rna.index}\n",
        "\n",
        "\n"
      ],
      "metadata": {
        "colab": {
          "base_uri": "https://localhost:8080/"
        },
        "id": "RCEMIWwgoq19",
        "outputId": "6307b0e8-23c6-44f0-dfbb-9abae6cf4e7b"
      },
      "execution_count": 5,
      "outputs": [
        {
          "output_type": "stream",
          "name": "stderr",
          "text": [
            "/usr/local/lib/python3.8/dist-packages/scipy/stats/_stats_py.py:4529: SpearmanRConstantInputWarning: An input array is constant; the correlation coefficient is not defined.\n",
            "  warnings.warn(SpearmanRConstantInputWarning())\n"
          ]
        }
      ]
    },
    {
      "cell_type": "markdown",
      "source": [
        "g"
      ],
      "metadata": {
        "id": "V1tGGsmDAE5r"
      }
    },
    {
      "cell_type": "code",
      "source": [
        "na_counts = sum(int(np.isnan(val)) for val in list(corr.values()))\n",
        "correlated_counts = sum(np.abs(val)>0.7 for val in list(corr.values()))\n",
        "print(f'число генов где не менялась число каунто у рибосек(там были 0 ) {na_counts}, число генов где корееляция > 0.7 по модулю {correlated_counts}')"
      ],
      "metadata": {
        "colab": {
          "base_uri": "https://localhost:8080/"
        },
        "id": "qQQ24Oq3ADRU",
        "outputId": "54fcdabb-4c06-477d-bfb1-9093c7bcbf28"
      },
      "execution_count": 6,
      "outputs": [
        {
          "output_type": "stream",
          "name": "stdout",
          "text": [
            "число генов где не менялась число каунто у рибосек(там были 0 ) 581, число генов где корееляция > 0.7 по модулю 4455\n"
          ]
        }
      ]
    },
    {
      "cell_type": "markdown",
      "source": [
        "**Посмотрим на распределение корреляции** \n",
        "и на то какие гены в топе "
      ],
      "metadata": {
        "id": "ylur7ZOMCF5a"
      }
    },
    {
      "cell_type": "code",
      "source": [
        "import seaborn as sns\n",
        "sns.histplot(data=corr.values())\n",
        "\n",
        "\n"
      ],
      "metadata": {
        "colab": {
          "base_uri": "https://localhost:8080/",
          "height": 284
        },
        "id": "CTX9iTMUCLmD",
        "outputId": "96796aaf-2783-4c3c-e67c-750c19c7dcbe"
      },
      "execution_count": 7,
      "outputs": [
        {
          "output_type": "execute_result",
          "data": {
            "text/plain": [
              "<matplotlib.axes._subplots.AxesSubplot at 0x7f7bedde55e0>"
            ]
          },
          "metadata": {},
          "execution_count": 7
        },
        {
          "output_type": "display_data",
          "data": {
            "text/plain": [
              "<Figure size 432x288 with 1 Axes>"
            ],
            "image/png": "[encoded data removed]"
          },
          "metadata": {
            "needs_background": "light"
          }
        }
      ]
    },
    {
      "cell_type": "code",
      "source": [
        "corr_without_na = {id: cor for id, cor in corr.items() if not np.isnan(cor)}\n",
        "top_percentile = np.percentile(list(corr_without_na.values()), 95)\n",
        "low_percentile = np.percentile(list(corr_without_na.values()), 1)\n",
        "top_correlated_genes = [df.loc[id]['geneSymbol'] for id, cor in corr_without_na.items() if cor > top_percentile]\n",
        "low_correlated_genes = [df.loc[id]['geneSymbol'] for id, cor in corr_without_na.items() if cor > low_percentile]\n",
        "zero_correlated_genes = [df.loc[id]['geneSymbol'] for id, cor in corr_without_na.items() if cor > -0.005 and cor < 0.005]\n"
      ],
      "metadata": {
        "id": "bX94FSCV-MoU"
      },
      "execution_count": 8,
      "outputs": []
    },
    {
      "cell_type": "code",
      "source": [
        "top_correlated_genes[:5]"
      ],
      "metadata": {
        "colab": {
          "base_uri": "https://localhost:8080/"
        },
        "id": "28Fxhy3hEjdd",
        "outputId": "6cd14f13-8973-47f3-d1c8-c35a03270809"
      },
      "execution_count": 9,
      "outputs": [
        {
          "output_type": "execute_result",
          "data": {
            "text/plain": [
              "['FUCA2', 'ICA1', 'SLC7A2', 'PRSS22', 'TMEM98']"
            ]
          },
          "metadata": {},
          "execution_count": 9
        }
      ]
    },
    {
      "cell_type": "code",
      "source": [
        "low_correlated_genes[:5]"
      ],
      "metadata": {
        "colab": {
          "base_uri": "https://localhost:8080/"
        },
        "id": "pkgJi_OeE2JZ",
        "outputId": "ea4d6125-4196-4413-f9ab-2f4f057f837f"
      },
      "execution_count": 10,
      "outputs": [
        {
          "output_type": "execute_result",
          "data": {
            "text/plain": [
              "['DPM1', 'SCYL3', 'C1orf112', 'FGR', 'CFH']"
            ]
          },
          "metadata": {},
          "execution_count": 10
        }
      ]
    },
    {
      "cell_type": "code",
      "source": [
        "zero_correlated_genes[:5]"
      ],
      "metadata": {
        "colab": {
          "base_uri": "https://localhost:8080/"
        },
        "id": "2d42xkkJE5x_",
        "outputId": "87f7ed24-9547-4e74-cfa5-4823ec497259"
      },
      "execution_count": 11,
      "outputs": [
        {
          "output_type": "execute_result",
          "data": {
            "text/plain": [
              "['PNKP', 'LTK', 'CA11', 'LRCH4', 'UBE2D4']"
            ]
          },
          "metadata": {},
          "execution_count": 11
        }
      ]
    },
    {
      "cell_type": "markdown",
      "source": [
        "Не очень уверен, что этом причина, но видно что гены с высокой корреляцией часто расположи на UTR концах , например PRSS22 и TMEM98\n",
        "\n",
        "А вот со слабой корреляцией некоторые гены на самом деле являются частью кластера генов (и вот кто то имеет рахные варианты альтернативного сплайсинга) как напрмер UBE2D4\n",
        "\n",
        "Еще низкая корреляция у генов которые отвечают за регуляторные процессы кажется, то есть начинают активироваться при определенных условиях\n"
      ],
      "metadata": {
        "id": "i5Ey88-JMsrz"
      }
    },
    {
      "cell_type": "markdown",
      "source": [
        "**Проанализируйте распределение каунтов Ribo-seq**"
      ],
      "metadata": {
        "id": "7EvA24qTNOdv"
      }
    },
    {
      "cell_type": "code",
      "source": [
        "means = ribo.mean(axis=1)\n",
        "vars = ribo.var(axis=1)\n",
        "sns.scatterplot(means, vars)"
      ],
      "metadata": {
        "colab": {
          "base_uri": "https://localhost:8080/",
          "height": 353
        },
        "id": "4GNuSuFONSlf",
        "outputId": "94b3e991-c3ca-4d1a-b6d0-5f367300f4db"
      },
      "execution_count": 12,
      "outputs": [
        {
          "output_type": "stream",
          "name": "stderr",
          "text": [
            "/usr/local/lib/python3.8/dist-packages/seaborn/_decorators.py:36: FutureWarning: Pass the following variables as keyword args: x, y. From version 0.12, the only valid positional argument will be `data`, and passing other arguments without an explicit keyword will result in an error or misinterpretation.\n",
            "  warnings.warn(\n"
          ]
        },
        {
          "output_type": "execute_result",
          "data": {
            "text/plain": [
              "<matplotlib.axes._subplots.AxesSubplot at 0x7f7bedc83730>"
            ]
          },
          "metadata": {},
          "execution_count": 12
        },
        {
          "output_type": "display_data",
          "data": {
            "text/plain": [
              "<Figure size 432x288 with 1 Axes>"
            ],
            "image/png": "[encoded data removed]"
          },
          "metadata": {
            "needs_background": "light"
          }
        }
      ]
    },
    {
      "cell_type": "markdown",
      "source": [
        "ага, забыл что в логифмической шкале надо смотреть "
      ],
      "metadata": {
        "id": "e2TAOHBoPaJj"
      }
    },
    {
      "cell_type": "code",
      "source": [
        "import matplotlib.pyplot as plt\n",
        "\n",
        "fig, ax = plt.subplots(figsize=(16, 8))\n",
        "\n",
        "sns.regplot(np.log(means[vars!=0]), np.log(vars[vars!=0]), line_kws={'color': 'red'}, order=2)\n",
        "\n",
        "\n"
      ],
      "metadata": {
        "colab": {
          "base_uri": "https://localhost:8080/",
          "height": 560
        },
        "id": "Sv37PPotPCPn",
        "outputId": "23e61045-b6b2-4db0-fa64-ccf9a35efd45"
      },
      "execution_count": 13,
      "outputs": [
        {
          "output_type": "stream",
          "name": "stderr",
          "text": [
            "/usr/local/lib/python3.8/dist-packages/seaborn/_decorators.py:36: FutureWarning: Pass the following variables as keyword args: x, y. From version 0.12, the only valid positional argument will be `data`, and passing other arguments without an explicit keyword will result in an error or misinterpretation.\n",
            "  warnings.warn(\n"
          ]
        },
        {
          "output_type": "execute_result",
          "data": {
            "text/plain": [
              "<matplotlib.axes._subplots.AxesSubplot at 0x7f7bed7baa60>"
            ]
          },
          "metadata": {},
          "execution_count": 13
        },
        {
          "output_type": "display_data",
          "data": {
            "text/plain": [
              "<Figure size 1152x576 with 1 Axes>"
            ],
            "image/png": "[encoded data removed]"
          },
          "metadata": {
            "needs_background": "light"
          }
        }
      ]
    },
    {
      "cell_type": "markdown",
      "source": [
        "Дисперсия как будто выше среднего, однако это не гарантирует, что это NB-распредение\n",
        "\n",
        "ЧТобы проверить можно использовать критерий согласия пирсона(хи-квадрат критерий) (сделать это можно примерно как предлагается вот тут https://stats.stackexchange.com/questions/307814/negative-binomial-distribution и вот тут еще описан тест https://en.wikipedia.org/wiki/Goodness_of_fit)\n"
      ],
      "metadata": {
        "id": "7Pj0V-drSvhC"
      }
    },
    {
      "cell_type": "code",
      "source": [
        "from scipy.stats import kstest # да это колмогорова-смирнова теста , тоже подойдет для согласия\n",
        "import tqdm\n",
        "\n",
        "pvalues = []\n",
        "for i in tqdm.tqdm(ribo.index):\n",
        "  \n",
        "  sample = ribo.loc[i].values\n",
        "  if np.var(sample) == 0:\n",
        "    continue\n",
        "  p = np.mean(sample)/np.var(sample) \n",
        "  n = np.mean(sample)*p/(1-p)\n",
        "  pvalues.append(kstest(ribo.loc[i], 'nbinom', args=(n, p)).pvalue)\n"
      ],
      "metadata": {
        "colab": {
          "base_uri": "https://localhost:8080/"
        },
        "id": "tF28QiZAbP08",
        "outputId": "d77dfc5e-c7a7-477a-edd7-5f098282b4d7"
      },
      "execution_count": 14,
      "outputs": [
        {
          "output_type": "stream",
          "name": "stderr",
          "text": [
            "100%|██████████| 16257/16257 [00:32<00:00, 494.83it/s] \n"
          ]
        }
      ]
    },
    {
      "cell_type": "code",
      "source": [
        "sns.distplot(pvalues) # кажется есть некоторое количство образцов которые бы не прошли тест , но в целом явно если зафиттить всю модель то должно быть ок"
      ],
      "metadata": {
        "colab": {
          "base_uri": "https://localhost:8080/",
          "height": 342
        },
        "id": "qnqXMH55TEVi",
        "outputId": "4616d165-04a4-4272-a07b-e46e6eb4f560"
      },
      "execution_count": 15,
      "outputs": [
        {
          "output_type": "stream",
          "name": "stderr",
          "text": [
            "/usr/local/lib/python3.8/dist-packages/seaborn/distributions.py:2619: FutureWarning: `distplot` is a deprecated function and will be removed in a future version. Please adapt your code to use either `displot` (a figure-level function with similar flexibility) or `histplot` (an axes-level function for histograms).\n",
            "  warnings.warn(msg, FutureWarning)\n"
          ]
        },
        {
          "output_type": "execute_result",
          "data": {
            "text/plain": [
              "<matplotlib.axes._subplots.AxesSubplot at 0x7f7beaf32310>"
            ]
          },
          "metadata": {},
          "execution_count": 15
        },
        {
          "output_type": "display_data",
          "data": {
            "text/plain": [
              "<Figure size 432x288 with 1 Axes>"
            ],
            "image/png": "[encoded data removed]"
          },
          "metadata": {
            "needs_background": "light"
          }
        }
      ]
    },
    {
      "cell_type": "code",
      "source": [
        "!pip install git+https://github.com/owkin/PyDESeq2"
      ],
      "metadata": {
        "colab": {
          "base_uri": "https://localhost:8080/"
        },
        "id": "tDYkE2RSoMZO",
        "outputId": "68da7242-ddaf-4df0-a082-4144efe9899a"
      },
      "execution_count": 16,
      "outputs": [
        {
          "output_type": "stream",
          "name": "stdout",
          "text": [
            "Looking in indexes: https://pypi.org/simple, https://us-python.pkg.dev/colab-wheels/public/simple/\n",
            "Collecting git+https://github.com/owkin/PyDESeq2\n",
            "  Cloning https://github.com/owkin/PyDESeq2 to /tmp/pip-req-build-tbshtfzj\n",
            "  Running command git clone -q https://github.com/owkin/PyDESeq2 /tmp/pip-req-build-tbshtfzj\n",
            "  Installing build dependencies ... \u001b[?25l\u001b[?25hdone\n",
            "  Getting requirements to build wheel ... \u001b[?25l\u001b[?25hdone\n",
            "    Preparing wheel metadata ... \u001b[?25l\u001b[?25hdone\n",
            "Requirement already satisfied: jupyter in /usr/local/lib/python3.8/dist-packages (from pydeseq2==0.1) (1.0.0)\n",
            "Requirement already satisfied: numpy>=1.23.0 in /usr/local/lib/python3.8/dist-packages (from pydeseq2==0.1) (1.23.0)\n",
            "Requirement already satisfied: pandas>=1.4.0 in /usr/local/lib/python3.8/dist-packages (from pydeseq2==0.1) (1.5.2)\n",
            "Requirement already satisfied: scikit-learn>=1.1.0 in /usr/local/lib/python3.8/dist-packages (from pydeseq2==0.1) (1.2.0)\n",
            "Requirement already satisfied: statsmodels in /usr/local/lib/python3.8/dist-packages (from pydeseq2==0.1) (0.13.2)\n",
            "Requirement already satisfied: scipy>=1.8.0 in /usr/local/lib/python3.8/dist-packages (from pydeseq2==0.1) (1.8.1)\n",
            "Requirement already satisfied: pytz>=2020.1 in /usr/local/lib/python3.8/dist-packages (from pandas>=1.4.0->pydeseq2==0.1) (2022.6)\n",
            "Requirement already satisfied: python-dateutil>=2.8.1 in /usr/local/lib/python3.8/dist-packages (from pandas>=1.4.0->pydeseq2==0.1) (2.8.2)\n",
            "Requirement already satisfied: six>=1.5 in /usr/local/lib/python3.8/dist-packages (from python-dateutil>=2.8.1->pandas>=1.4.0->pydeseq2==0.1) (1.15.0)\n",
            "Requirement already satisfied: threadpoolctl>=2.0.0 in /usr/local/lib/python3.8/dist-packages (from scikit-learn>=1.1.0->pydeseq2==0.1) (3.1.0)\n",
            "Requirement already satisfied: joblib>=1.1.1 in /usr/local/lib/python3.8/dist-packages (from scikit-learn>=1.1.0->pydeseq2==0.1) (1.2.0)\n",
            "Requirement already satisfied: qtconsole in /usr/local/lib/python3.8/dist-packages (from jupyter->pydeseq2==0.1) (5.4.0)\n",
            "Requirement already satisfied: ipykernel in /usr/local/lib/python3.8/dist-packages (from jupyter->pydeseq2==0.1) (5.3.4)\n",
            "Requirement already satisfied: ipywidgets in /usr/local/lib/python3.8/dist-packages (from jupyter->pydeseq2==0.1) (7.7.1)\n",
            "Requirement already satisfied: nbconvert in /usr/local/lib/python3.8/dist-packages (from jupyter->pydeseq2==0.1) (5.6.1)\n",
            "Requirement already satisfied: notebook in /usr/local/lib/python3.8/dist-packages (from jupyter->pydeseq2==0.1) (5.7.16)\n",
            "Requirement already satisfied: jupyter-console in /usr/local/lib/python3.8/dist-packages (from jupyter->pydeseq2==0.1) (6.1.0)\n",
            "Requirement already satisfied: traitlets>=4.1.0 in /usr/local/lib/python3.8/dist-packages (from ipykernel->jupyter->pydeseq2==0.1) (5.7.1)\n",
            "Requirement already satisfied: tornado>=4.2 in /usr/local/lib/python3.8/dist-packages (from ipykernel->jupyter->pydeseq2==0.1) (6.0.4)\n",
            "Requirement already satisfied: jupyter-client in /usr/local/lib/python3.8/dist-packages (from ipykernel->jupyter->pydeseq2==0.1) (6.1.12)\n",
            "Requirement already satisfied: ipython>=5.0.0 in /usr/local/lib/python3.8/dist-packages (from ipykernel->jupyter->pydeseq2==0.1) (7.9.0)\n",
            "Requirement already satisfied: prompt-toolkit<2.1.0,>=2.0.0 in /usr/local/lib/python3.8/dist-packages (from ipython>=5.0.0->ipykernel->jupyter->pydeseq2==0.1) (2.0.10)\n",
            "Requirement already satisfied: pygments in /usr/local/lib/python3.8/dist-packages (from ipython>=5.0.0->ipykernel->jupyter->pydeseq2==0.1) (2.6.1)\n",
            "Requirement already satisfied: backcall in /usr/local/lib/python3.8/dist-packages (from ipython>=5.0.0->ipykernel->jupyter->pydeseq2==0.1) (0.2.0)\n",
            "Requirement already satisfied: pexpect in /usr/local/lib/python3.8/dist-packages (from ipython>=5.0.0->ipykernel->jupyter->pydeseq2==0.1) (4.8.0)\n",
            "Requirement already satisfied: jedi>=0.10 in /usr/local/lib/python3.8/dist-packages (from ipython>=5.0.0->ipykernel->jupyter->pydeseq2==0.1) (0.18.2)\n",
            "Requirement already satisfied: decorator in /usr/local/lib/python3.8/dist-packages (from ipython>=5.0.0->ipykernel->jupyter->pydeseq2==0.1) (4.4.2)\n",
            "Requirement already satisfied: setuptools>=18.5 in /usr/local/lib/python3.8/dist-packages (from ipython>=5.0.0->ipykernel->jupyter->pydeseq2==0.1) (65.6.3)\n",
            "Requirement already satisfied: pickleshare in /usr/local/lib/python3.8/dist-packages (from ipython>=5.0.0->ipykernel->jupyter->pydeseq2==0.1) (0.7.5)\n",
            "Requirement already satisfied: parso<0.9.0,>=0.8.0 in /usr/local/lib/python3.8/dist-packages (from jedi>=0.10->ipython>=5.0.0->ipykernel->jupyter->pydeseq2==0.1) (0.8.3)\n",
            "Requirement already satisfied: wcwidth in /usr/local/lib/python3.8/dist-packages (from prompt-toolkit<2.1.0,>=2.0.0->ipython>=5.0.0->ipykernel->jupyter->pydeseq2==0.1) (0.2.5)\n",
            "Requirement already satisfied: widgetsnbextension~=3.6.0 in /usr/local/lib/python3.8/dist-packages (from ipywidgets->jupyter->pydeseq2==0.1) (3.6.1)\n",
            "Requirement already satisfied: jupyterlab-widgets>=1.0.0 in /usr/local/lib/python3.8/dist-packages (from ipywidgets->jupyter->pydeseq2==0.1) (3.0.4)\n",
            "Requirement already satisfied: ipython-genutils~=0.2.0 in /usr/local/lib/python3.8/dist-packages (from ipywidgets->jupyter->pydeseq2==0.1) (0.2.0)\n",
            "Requirement already satisfied: terminado>=0.8.1 in /usr/local/lib/python3.8/dist-packages (from notebook->jupyter->pydeseq2==0.1) (0.13.3)\n",
            "Requirement already satisfied: nbformat in /usr/local/lib/python3.8/dist-packages (from notebook->jupyter->pydeseq2==0.1) (5.7.0)\n",
            "Requirement already satisfied: jinja2<=3.0.0 in /usr/local/lib/python3.8/dist-packages (from notebook->jupyter->pydeseq2==0.1) (2.11.3)\n",
            "Requirement already satisfied: jupyter-core>=4.4.0 in /usr/local/lib/python3.8/dist-packages (from notebook->jupyter->pydeseq2==0.1) (5.1.0)\n",
            "Requirement already satisfied: pyzmq>=17 in /usr/local/lib/python3.8/dist-packages (from notebook->jupyter->pydeseq2==0.1) (23.2.1)\n",
            "Requirement already satisfied: prometheus-client in /usr/local/lib/python3.8/dist-packages (from notebook->jupyter->pydeseq2==0.1) (0.15.0)\n",
            "Requirement already satisfied: Send2Trash in /usr/local/lib/python3.8/dist-packages (from notebook->jupyter->pydeseq2==0.1) (1.8.0)\n",
            "Requirement already satisfied: MarkupSafe>=0.23 in /usr/local/lib/python3.8/dist-packages (from jinja2<=3.0.0->notebook->jupyter->pydeseq2==0.1) (2.0.1)\n",
            "Requirement already satisfied: platformdirs>=2.5 in /usr/local/lib/python3.8/dist-packages (from jupyter-core>=4.4.0->notebook->jupyter->pydeseq2==0.1) (2.6.0)\n",
            "Requirement already satisfied: entrypoints>=0.2.2 in /usr/local/lib/python3.8/dist-packages (from nbconvert->jupyter->pydeseq2==0.1) (0.4)\n",
            "Requirement already satisfied: bleach in /usr/local/lib/python3.8/dist-packages (from nbconvert->jupyter->pydeseq2==0.1) (5.0.1)\n",
            "Requirement already satisfied: pandocfilters>=1.4.1 in /usr/local/lib/python3.8/dist-packages (from nbconvert->jupyter->pydeseq2==0.1) (1.5.0)\n",
            "Requirement already satisfied: testpath in /usr/local/lib/python3.8/dist-packages (from nbconvert->jupyter->pydeseq2==0.1) (0.6.0)\n",
            "Requirement already satisfied: mistune<2,>=0.8.1 in /usr/local/lib/python3.8/dist-packages (from nbconvert->jupyter->pydeseq2==0.1) (0.8.4)\n",
            "Requirement already satisfied: defusedxml in /usr/local/lib/python3.8/dist-packages (from nbconvert->jupyter->pydeseq2==0.1) (0.7.1)\n",
            "Requirement already satisfied: fastjsonschema in /usr/local/lib/python3.8/dist-packages (from nbformat->notebook->jupyter->pydeseq2==0.1) (2.16.2)\n",
            "Requirement already satisfied: jsonschema>=2.6 in /usr/local/lib/python3.8/dist-packages (from nbformat->notebook->jupyter->pydeseq2==0.1) (4.3.3)\n",
            "Requirement already satisfied: pyrsistent!=0.17.0,!=0.17.1,!=0.17.2,>=0.14.0 in /usr/local/lib/python3.8/dist-packages (from jsonschema>=2.6->nbformat->notebook->jupyter->pydeseq2==0.1) (0.19.2)\n",
            "Requirement already satisfied: importlib-resources>=1.4.0 in /usr/local/lib/python3.8/dist-packages (from jsonschema>=2.6->nbformat->notebook->jupyter->pydeseq2==0.1) (5.10.1)\n",
            "Requirement already satisfied: attrs>=17.4.0 in /usr/local/lib/python3.8/dist-packages (from jsonschema>=2.6->nbformat->notebook->jupyter->pydeseq2==0.1) (22.1.0)\n",
            "Requirement already satisfied: zipp>=3.1.0 in /usr/local/lib/python3.8/dist-packages (from importlib-resources>=1.4.0->jsonschema>=2.6->nbformat->notebook->jupyter->pydeseq2==0.1) (3.11.0)\n",
            "Requirement already satisfied: ptyprocess in /usr/local/lib/python3.8/dist-packages (from terminado>=0.8.1->notebook->jupyter->pydeseq2==0.1) (0.7.0)\n",
            "Requirement already satisfied: webencodings in /usr/local/lib/python3.8/dist-packages (from bleach->nbconvert->jupyter->pydeseq2==0.1) (0.5.1)\n",
            "Requirement already satisfied: qtpy>=2.0.1 in /usr/local/lib/python3.8/dist-packages (from qtconsole->jupyter->pydeseq2==0.1) (2.3.0)\n",
            "Requirement already satisfied: packaging in /usr/local/lib/python3.8/dist-packages (from qtpy>=2.0.1->qtconsole->jupyter->pydeseq2==0.1) (21.3)\n",
            "Requirement already satisfied: pyparsing!=3.0.5,>=2.0.2 in /usr/local/lib/python3.8/dist-packages (from packaging->qtpy>=2.0.1->qtconsole->jupyter->pydeseq2==0.1) (3.0.9)\n",
            "Requirement already satisfied: patsy>=0.5.2 in /usr/local/lib/python3.8/dist-packages (from statsmodels->pydeseq2==0.1) (0.5.3)\n"
          ]
        }
      ]
    },
    {
      "cell_type": "markdown",
      "source": [
        "**Начнем искать диффэкспрессированные гены**"
      ],
      "metadata": {
        "id": "or0fed1ord59"
      }
    },
    {
      "cell_type": "code",
      "source": [
        "import os\n",
        "import pickle as pkl\n",
        "\n",
        "from pydeseq2.DeseqDataSet import DeseqDataSet\n",
        "from pydeseq2.DeseqStats import DeseqStats\n",
        "from pydeseq2.utils import load_data"
      ],
      "metadata": {
        "id": "QWjsBZO2oPA_"
      },
      "execution_count": 17,
      "outputs": []
    },
    {
      "cell_type": "code",
      "source": [
        "AB, samples  = [], []\n",
        "for col in rna.columns:\n",
        "    if \"normal\" in col:\n",
        "        AB.append(\"normal\")\n",
        "    else:\n",
        "        AB.append(\"tumor\")\n",
        "    samples.append(col)\n",
        "        \n",
        "clinical = pd.DataFrame({\"sample\": samples, \"condition\": AB})\n",
        "clinical = clinical.set_index('sample')\n",
        "clinical.head()"
      ],
      "metadata": {
        "colab": {
          "base_uri": "https://localhost:8080/",
          "height": 238
        },
        "id": "nej18cA-vRTz",
        "outputId": "1c97178e-e416-449d-b0bc-b3cc702d812a"
      },
      "execution_count": 18,
      "outputs": [
        {
          "output_type": "execute_result",
          "data": {
            "text/plain": [
              "                 condition\n",
              "sample                    \n",
              "LC001-normal-RNA    normal\n",
              "LC001-tumor-RNA      tumor\n",
              "LC033-normal-RNA    normal\n",
              "LC033-tumor-RNA      tumor\n",
              "LC034-normal-RNA    normal"
            ],
            "text/html": [
              "\n",
              "  <div id=\"df-cd2c9a1c-272b-462e-94d1-4905c12fbde5\">\n",
              "    <div class=\"colab-df-container\">\n",
              "      <div>\n",
              "<style scoped>\n",
              "    .dataframe tbody tr th:only-of-type {\n",
              "        vertical-align: middle;\n",
              "    }\n",
              "\n",
              "    .dataframe tbody tr th {\n",
              "        vertical-align: top;\n",
              "    }\n",
              "\n",
              "    .dataframe thead th {\n",
              "        text-align: right;\n",
              "    }\n",
              "</style>\n",
              "<table border=\"1\" class=\"dataframe\">\n",
              "  <thead>\n",
              "    <tr style=\"text-align: right;\">\n",
              "      <th></th>\n",
              "      <th>condition</th>\n",
              "    </tr>\n",
              "    <tr>\n",
              "      <th>sample</th>\n",
              "      <th></th>\n",
              "    </tr>\n",
              "  </thead>\n",
              "  <tbody>\n",
              "    <tr>\n",
              "      <th>LC001-normal-RNA</th>\n",
              "      <td>normal</td>\n",
              "    </tr>\n",
              "    <tr>\n",
              "      <th>LC001-tumor-RNA</th>\n",
              "      <td>tumor</td>\n",
              "    </tr>\n",
              "    <tr>\n",
              "      <th>LC033-normal-RNA</th>\n",
              "      <td>normal</td>\n",
              "    </tr>\n",
              "    <tr>\n",
              "      <th>LC033-tumor-RNA</th>\n",
              "      <td>tumor</td>\n",
              "    </tr>\n",
              "    <tr>\n",
              "      <th>LC034-normal-RNA</th>\n",
              "      <td>normal</td>\n",
              "    </tr>\n",
              "  </tbody>\n",
              "</table>\n",
              "</div>\n",
              "      <button class=\"colab-df-convert\" onclick=\"convertToInteractive('df-cd2c9a1c-272b-462e-94d1-4905c12fbde5')\"\n",
              "              title=\"Convert this dataframe to an interactive table.\"\n",
              "              style=\"display:none;\">\n",
              "        \n",
              "  <svg xmlns=\"http://www.w3.org/2000/svg\" height=\"24px\"viewBox=\"0 0 24 24\"\n",
              "       width=\"24px\">\n",
              "    <path d=\"M0 0h24v24H0V0z\" fill=\"none\"/>\n",
              "    <path d=\"M18.56 5.44l.94 2.06.94-2.06 2.06-.94-2.06-.94-.94-2.06-.94 2.06-2.06.94zm-11 1L8.5 8.5l.94-2.06 2.06-.94-2.06-.94L8.5 2.5l-.94 2.06-2.06.94zm10 10l.94 2.06.94-2.06 2.06-.94-2.06-.94-.94-2.06-.94 2.06-2.06.94z\"/><path d=\"M17.41 7.96l-1.37-1.37c-.4-.4-.92-.59-1.43-.59-.52 0-1.04.2-1.43.59L10.3 9.45l-7.72 7.72c-.78.78-.78 2.05 0 2.83L4 21.41c.39.39.9.59 1.41.59.51 0 1.02-.2 1.41-.59l7.78-7.78 2.81-2.81c.8-.78.8-2.07 0-2.86zM5.41 20L4 18.59l7.72-7.72 1.47 1.35L5.41 20z\"/>\n",
              "  </svg>\n",
              "      </button>\n",
              "      \n",
              "  <style>\n",
              "    .colab-df-container {\n",
              "      display:flex;\n",
              "      flex-wrap:wrap;\n",
              "      gap: 12px;\n",
              "    }\n",
              "\n",
              "    .colab-df-convert {\n",
              "      background-color: #E8F0FE;\n",
              "      border: none;\n",
              "      border-radius: 50%;\n",
              "      cursor: pointer;\n",
              "      display: none;\n",
              "      fill: #1967D2;\n",
              "      height: 32px;\n",
              "      padding: 0 0 0 0;\n",
              "      width: 32px;\n",
              "    }\n",
              "\n",
              "    .colab-df-convert:hover {\n",
              "      background-color: #E2EBFA;\n",
              "      box-shadow: 0px 1px 2px rgba(60, 64, 67, 0.3), 0px 1px 3px 1px rgba(60, 64, 67, 0.15);\n",
              "      fill: #174EA6;\n",
              "    }\n",
              "\n",
              "    [theme=dark] .colab-df-convert {\n",
              "      background-color: #3B4455;\n",
              "      fill: #D2E3FC;\n",
              "    }\n",
              "\n",
              "    [theme=dark] .colab-df-convert:hover {\n",
              "      background-color: #434B5C;\n",
              "      box-shadow: 0px 1px 3px 1px rgba(0, 0, 0, 0.15);\n",
              "      filter: drop-shadow(0px 1px 2px rgba(0, 0, 0, 0.3));\n",
              "      fill: #FFFFFF;\n",
              "    }\n",
              "  </style>\n",
              "\n",
              "      <script>\n",
              "        const buttonEl =\n",
              "          document.querySelector('#df-cd2c9a1c-272b-462e-94d1-4905c12fbde5 button.colab-df-convert');\n",
              "        buttonEl.style.display =\n",
              "          google.colab.kernel.accessAllowed ? 'block' : 'none';\n",
              "\n",
              "        async function convertToInteractive(key) {\n",
              "          const element = document.querySelector('#df-cd2c9a1c-272b-462e-94d1-4905c12fbde5');\n",
              "          const dataTable =\n",
              "            await google.colab.kernel.invokeFunction('convertToInteractive',\n",
              "                                                     [key], {});\n",
              "          if (!dataTable) return;\n",
              "\n",
              "          const docLinkHtml = 'Like what you see? Visit the ' +\n",
              "            '<a target=\"_blank\" href=https://colab.research.google.com/notebooks/data_table.ipynb>data table notebook</a>'\n",
              "            + ' to learn more about interactive tables.';\n",
              "          element.innerHTML = '';\n",
              "          dataTable['output_type'] = 'display_data';\n",
              "          await google.colab.output.renderOutput(dataTable, element);\n",
              "          const docLink = document.createElement('div');\n",
              "          docLink.innerHTML = docLinkHtml;\n",
              "          element.appendChild(docLink);\n",
              "        }\n",
              "      </script>\n",
              "    </div>\n",
              "  </div>\n",
              "  "
            ]
          },
          "metadata": {},
          "execution_count": 18
        }
      ]
    },
    {
      "cell_type": "code",
      "source": [
        "rna_genes_to_keep = rna.columns[rna.sum(axis=0) >= 10]\n",
        "rna = rna[rna_genes_to_keep]"
      ],
      "metadata": {
        "id": "YOSUAYHo0GpZ"
      },
      "execution_count": 19,
      "outputs": []
    },
    {
      "cell_type": "code",
      "source": [
        "rna = rna.T"
      ],
      "metadata": {
        "id": "P9vMq_PF1RKk"
      },
      "execution_count": 20,
      "outputs": []
    },
    {
      "cell_type": "code",
      "source": [
        "dds = DeseqDataSet(\n",
        "    rna,\n",
        "    clinical=clinical,\n",
        "    design_factor=\"condition\",\n",
        "    refit_cooks=True,\n",
        ")"
      ],
      "metadata": {
        "id": "8lUXKGRaw7ZF"
      },
      "execution_count": 21,
      "outputs": []
    },
    {
      "cell_type": "code",
      "source": [
        "dds.deseq2()\n"
      ],
      "metadata": {
        "colab": {
          "base_uri": "https://localhost:8080/"
        },
        "id": "scKjacf0sDIc",
        "outputId": "28fd3e1c-611a-4c74-cefc-1e5410abbddc"
      },
      "execution_count": 22,
      "outputs": [
        {
          "output_type": "stream",
          "name": "stdout",
          "text": [
            "Fitting size factors...\n",
            "... done in 0.03 seconds.\n",
            "\n",
            "Fitting dispersions...\n",
            "... done in 42.98 seconds.\n",
            "\n",
            "Fitting dispersion trend curve...\n",
            "... done in 6.24 seconds.\n",
            "\n",
            "Fitting MAP dispersions...\n",
            "... done in 38.30 seconds.\n",
            "\n",
            "Fitting LFCs...\n",
            "... done in 24.83 seconds.\n",
            "\n",
            "Refitting 934 outliers.\n",
            "\n",
            "Fitting dispersions...\n",
            "... done in 1.66 seconds.\n",
            "\n",
            "Fitting MAP dispersions...\n",
            "... done in 1.83 seconds.\n",
            "\n",
            "Fitting LFCs...\n",
            "... done in 0.86 seconds.\n",
            "\n"
          ]
        }
      ]
    },
    {
      "cell_type": "code",
      "source": [
        "stat_res = DeseqStats(dds, n_cpus=8)"
      ],
      "metadata": {
        "id": "of2gKlYkzUOh"
      },
      "execution_count": 23,
      "outputs": []
    },
    {
      "cell_type": "code",
      "source": [
        "rna_res = stat_res.summary()"
      ],
      "metadata": {
        "colab": {
          "base_uri": "https://localhost:8080/"
        },
        "id": "oh3lF2FR01Uf",
        "outputId": "8a216a4b-3dcf-4e57-e531-3e0b9ca393b6"
      },
      "execution_count": 24,
      "outputs": [
        {
          "output_type": "stream",
          "name": "stdout",
          "text": [
            "Running Wald tests...\n",
            "... done in 14.35 seconds.\n",
            "\n"
          ]
        }
      ]
    },
    {
      "cell_type": "code",
      "source": [
        "rna_res = rna_res.join(df[['geneSymbol']]).sort_values('padj').set_index('geneSymbol') # получили результаты дифф экспрессированных генов"
      ],
      "metadata": {
        "id": "z0MtUUIq2_wD"
      },
      "execution_count": 25,
      "outputs": []
    },
    {
      "cell_type": "code",
      "source": [
        "rna_res.head()"
      ],
      "metadata": {
        "colab": {
          "base_uri": "https://localhost:8080/",
          "height": 238
        },
        "id": "P08wQZg03hK7",
        "outputId": "c9b70659-90d2-4e95-f81a-383ecdb9d02f"
      },
      "execution_count": 26,
      "outputs": [
        {
          "output_type": "execute_result",
          "data": {
            "text/plain": [
              "              baseMean  log2FoldChange     lfcSE       stat        pvalue  \\\n",
              "geneSymbol                                                                  \n",
              "CLEC4G      187.902511       -6.224580  0.473990 -13.132289  2.150569e-39   \n",
              "OIT3        207.433311       -4.190142  0.372332 -11.253790  2.218501e-29   \n",
              "AVPR1A      216.785200       -4.836002  0.446840 -10.822659  2.688609e-27   \n",
              "FCN2        154.170314       -5.701233  0.531761 -10.721419  8.075475e-27   \n",
              "INS-IGF2    517.466267       -5.942138  0.554230 -10.721420  8.075370e-27   \n",
              "\n",
              "                    padj  \n",
              "geneSymbol                \n",
              "CLEC4G      3.360264e-35  \n",
              "OIT3        1.733204e-25  \n",
              "AVPR1A      1.400317e-23  \n",
              "FCN2        2.523586e-23  \n",
              "INS-IGF2    2.523586e-23  "
            ],
            "text/html": [
              "\n",
              "  <div id=\"df-3f666d46-b02e-4445-b09f-959066feedab\">\n",
              "    <div class=\"colab-df-container\">\n",
              "      <div>\n",
              "<style scoped>\n",
              "    .dataframe tbody tr th:only-of-type {\n",
              "        vertical-align: middle;\n",
              "    }\n",
              "\n",
              "    .dataframe tbody tr th {\n",
              "        vertical-align: top;\n",
              "    }\n",
              "\n",
              "    .dataframe thead th {\n",
              "        text-align: right;\n",
              "    }\n",
              "</style>\n",
              "<table border=\"1\" class=\"dataframe\">\n",
              "  <thead>\n",
              "    <tr style=\"text-align: right;\">\n",
              "      <th></th>\n",
              "      <th>baseMean</th>\n",
              "      <th>log2FoldChange</th>\n",
              "      <th>lfcSE</th>\n",
              "      <th>stat</th>\n",
              "      <th>pvalue</th>\n",
              "      <th>padj</th>\n",
              "    </tr>\n",
              "    <tr>\n",
              "      <th>geneSymbol</th>\n",
              "      <th></th>\n",
              "      <th></th>\n",
              "      <th></th>\n",
              "      <th></th>\n",
              "      <th></th>\n",
              "      <th></th>\n",
              "    </tr>\n",
              "  </thead>\n",
              "  <tbody>\n",
              "    <tr>\n",
              "      <th>CLEC4G</th>\n",
              "      <td>187.902511</td>\n",
              "      <td>-6.224580</td>\n",
              "      <td>0.473990</td>\n",
              "      <td>-13.132289</td>\n",
              "      <td>2.150569e-39</td>\n",
              "      <td>3.360264e-35</td>\n",
              "    </tr>\n",
              "    <tr>\n",
              "      <th>OIT3</th>\n",
              "      <td>207.433311</td>\n",
              "      <td>-4.190142</td>\n",
              "      <td>0.372332</td>\n",
              "      <td>-11.253790</td>\n",
              "      <td>2.218501e-29</td>\n",
              "      <td>1.733204e-25</td>\n",
              "    </tr>\n",
              "    <tr>\n",
              "      <th>AVPR1A</th>\n",
              "      <td>216.785200</td>\n",
              "      <td>-4.836002</td>\n",
              "      <td>0.446840</td>\n",
              "      <td>-10.822659</td>\n",
              "      <td>2.688609e-27</td>\n",
              "      <td>1.400317e-23</td>\n",
              "    </tr>\n",
              "    <tr>\n",
              "      <th>FCN2</th>\n",
              "      <td>154.170314</td>\n",
              "      <td>-5.701233</td>\n",
              "      <td>0.531761</td>\n",
              "      <td>-10.721419</td>\n",
              "      <td>8.075475e-27</td>\n",
              "      <td>2.523586e-23</td>\n",
              "    </tr>\n",
              "    <tr>\n",
              "      <th>INS-IGF2</th>\n",
              "      <td>517.466267</td>\n",
              "      <td>-5.942138</td>\n",
              "      <td>0.554230</td>\n",
              "      <td>-10.721420</td>\n",
              "      <td>8.075370e-27</td>\n",
              "      <td>2.523586e-23</td>\n",
              "    </tr>\n",
              "  </tbody>\n",
              "</table>\n",
              "</div>\n",
              "      <button class=\"colab-df-convert\" onclick=\"convertToInteractive('df-3f666d46-b02e-4445-b09f-959066feedab')\"\n",
              "              title=\"Convert this dataframe to an interactive table.\"\n",
              "              style=\"display:none;\">\n",
              "        \n",
              "  <svg xmlns=\"http://www.w3.org/2000/svg\" height=\"24px\"viewBox=\"0 0 24 24\"\n",
              "       width=\"24px\">\n",
              "    <path d=\"M0 0h24v24H0V0z\" fill=\"none\"/>\n",
              "    <path d=\"M18.56 5.44l.94 2.06.94-2.06 2.06-.94-2.06-.94-.94-2.06-.94 2.06-2.06.94zm-11 1L8.5 8.5l.94-2.06 2.06-.94-2.06-.94L8.5 2.5l-.94 2.06-2.06.94zm10 10l.94 2.06.94-2.06 2.06-.94-2.06-.94-.94-2.06-.94 2.06-2.06.94z\"/><path d=\"M17.41 7.96l-1.37-1.37c-.4-.4-.92-.59-1.43-.59-.52 0-1.04.2-1.43.59L10.3 9.45l-7.72 7.72c-.78.78-.78 2.05 0 2.83L4 21.41c.39.39.9.59 1.41.59.51 0 1.02-.2 1.41-.59l7.78-7.78 2.81-2.81c.8-.78.8-2.07 0-2.86zM5.41 20L4 18.59l7.72-7.72 1.47 1.35L5.41 20z\"/>\n",
              "  </svg>\n",
              "      </button>\n",
              "      \n",
              "  <style>\n",
              "    .colab-df-container {\n",
              "      display:flex;\n",
              "      flex-wrap:wrap;\n",
              "      gap: 12px;\n",
              "    }\n",
              "\n",
              "    .colab-df-convert {\n",
              "      background-color: #E8F0FE;\n",
              "      border: none;\n",
              "      border-radius: 50%;\n",
              "      cursor: pointer;\n",
              "      display: none;\n",
              "      fill: #1967D2;\n",
              "      height: 32px;\n",
              "      padding: 0 0 0 0;\n",
              "      width: 32px;\n",
              "    }\n",
              "\n",
              "    .colab-df-convert:hover {\n",
              "      background-color: #E2EBFA;\n",
              "      box-shadow: 0px 1px 2px rgba(60, 64, 67, 0.3), 0px 1px 3px 1px rgba(60, 64, 67, 0.15);\n",
              "      fill: #174EA6;\n",
              "    }\n",
              "\n",
              "    [theme=dark] .colab-df-convert {\n",
              "      background-color: #3B4455;\n",
              "      fill: #D2E3FC;\n",
              "    }\n",
              "\n",
              "    [theme=dark] .colab-df-convert:hover {\n",
              "      background-color: #434B5C;\n",
              "      box-shadow: 0px 1px 3px 1px rgba(0, 0, 0, 0.15);\n",
              "      filter: drop-shadow(0px 1px 2px rgba(0, 0, 0, 0.3));\n",
              "      fill: #FFFFFF;\n",
              "    }\n",
              "  </style>\n",
              "\n",
              "      <script>\n",
              "        const buttonEl =\n",
              "          document.querySelector('#df-3f666d46-b02e-4445-b09f-959066feedab button.colab-df-convert');\n",
              "        buttonEl.style.display =\n",
              "          google.colab.kernel.accessAllowed ? 'block' : 'none';\n",
              "\n",
              "        async function convertToInteractive(key) {\n",
              "          const element = document.querySelector('#df-3f666d46-b02e-4445-b09f-959066feedab');\n",
              "          const dataTable =\n",
              "            await google.colab.kernel.invokeFunction('convertToInteractive',\n",
              "                                                     [key], {});\n",
              "          if (!dataTable) return;\n",
              "\n",
              "          const docLinkHtml = 'Like what you see? Visit the ' +\n",
              "            '<a target=\"_blank\" href=https://colab.research.google.com/notebooks/data_table.ipynb>data table notebook</a>'\n",
              "            + ' to learn more about interactive tables.';\n",
              "          element.innerHTML = '';\n",
              "          dataTable['output_type'] = 'display_data';\n",
              "          await google.colab.output.renderOutput(dataTable, element);\n",
              "          const docLink = document.createElement('div');\n",
              "          docLink.innerHTML = docLinkHtml;\n",
              "          element.appendChild(docLink);\n",
              "        }\n",
              "      </script>\n",
              "    </div>\n",
              "  </div>\n",
              "  "
            ]
          },
          "metadata": {},
          "execution_count": 26
        }
      ]
    },
    {
      "cell_type": "code",
      "source": [
        "from bioinfokit import visuz\n",
        "\n",
        "visuz.GeneExpression.volcano(df=rna_res.dropna(), lfc='log2FoldChange', pv='padj', sign_line=True, plotlegend=True, show=True)\n",
        "\n",
        "\n"
      ],
      "metadata": {
        "colab": {
          "base_uri": "https://localhost:8080/",
          "height": 359
        },
        "id": "aKIHkgvP3otD",
        "outputId": "decd8b0d-3da6-4cda-83ba-2ee7d1df2767"
      },
      "execution_count": 27,
      "outputs": [
        {
          "output_type": "stream",
          "name": "stderr",
          "text": [
            "WARNING:matplotlib.font_manager:findfont: Font family ['Arial'] not found. Falling back to DejaVu Sans.\n"
          ]
        },
        {
          "output_type": "display_data",
          "data": {
            "text/plain": [
              "<Figure size 360x360 with 1 Axes>"
            ],
            "image/png": "[encoded data removed]"
          },
          "metadata": {
            "needs_background": "light"
          }
        }
      ]
    },
    {
      "cell_type": "code",
      "source": [
        "ribo_genes_to_keep = ribo.columns[ribo.sum(axis=0) >= 10]\n",
        "ribo = ribo[ribo_genes_to_keep]"
      ],
      "metadata": {
        "id": "kWWGZv8r5DTJ"
      },
      "execution_count": 28,
      "outputs": []
    },
    {
      "cell_type": "code",
      "source": [
        "\n",
        "AB, samples  = [], []\n",
        "for col in ribo.columns:\n",
        "\n",
        "    if \"normal\" in col:\n",
        "        AB.append(\"normal\")\n",
        "    else:\n",
        "        AB.append(\"tumor\")\n",
        "    samples.append(col)\n",
        "        \n",
        "clinical = pd.DataFrame({\"sample\": samples, \"condition\": AB})\n",
        "clinical = clinical.set_index('sample')\n",
        "ribo = ribo.T\n"
      ],
      "metadata": {
        "id": "wOJeAJsv5Lso"
      },
      "execution_count": 32,
      "outputs": []
    },
    {
      "cell_type": "code",
      "source": [
        "dds = DeseqDataSet(\n",
        "    ribo,\n",
        "    clinical=clinical,\n",
        "    design_factor=\"condition\",\n",
        "\n",
        ")"
      ],
      "metadata": {
        "id": "IhEe4Li25Phh"
      },
      "execution_count": 33,
      "outputs": []
    },
    {
      "cell_type": "code",
      "source": [
        "dds.deseq2()\n",
        "\n"
      ],
      "metadata": {
        "colab": {
          "base_uri": "https://localhost:8080/"
        },
        "id": "c0mpxtHS5S6S",
        "outputId": "de479bb0-d6df-4ec3-ca20-4f0a56e5faad"
      },
      "execution_count": 34,
      "outputs": [
        {
          "output_type": "stream",
          "name": "stdout",
          "text": [
            "Fitting size factors...\n",
            "... done in 0.02 seconds.\n",
            "\n",
            "Fitting dispersions...\n",
            "... done in 32.13 seconds.\n",
            "\n",
            "Fitting dispersion trend curve...\n",
            "... done in 5.92 seconds.\n",
            "\n",
            "Fitting MAP dispersions...\n",
            "... done in 33.83 seconds.\n",
            "\n",
            "Fitting LFCs...\n",
            "... done in 14.55 seconds.\n",
            "\n",
            "Refitting 698 outliers.\n",
            "\n",
            "Fitting dispersions...\n",
            "... done in 1.27 seconds.\n",
            "\n",
            "Fitting MAP dispersions...\n",
            "... done in 1.12 seconds.\n",
            "\n",
            "Fitting LFCs...\n",
            "... done in 0.76 seconds.\n",
            "\n"
          ]
        }
      ]
    },
    {
      "cell_type": "code",
      "source": [
        "stat_res = DeseqStats(dds, n_cpus=8)\n",
        "ribo_res = stat_res.summary()\n",
        "ribo_res = ribo_res.join(df[['geneSymbol']]).sort_values('padj').set_index('geneSymbol') # получили результаты дифф экспрессированных генов\n",
        "ribo_res.head()"
      ],
      "metadata": {
        "colab": {
          "base_uri": "https://localhost:8080/",
          "height": 294
        },
        "id": "ChMxPnqc6sxH",
        "outputId": "a1caaf9f-7854-4216-d75e-6450a66ca4a6"
      },
      "execution_count": 35,
      "outputs": [
        {
          "output_type": "stream",
          "name": "stdout",
          "text": [
            "Running Wald tests...\n",
            "... done in 9.95 seconds.\n",
            "\n"
          ]
        },
        {
          "output_type": "execute_result",
          "data": {
            "text/plain": [
              "              baseMean  log2FoldChange     lfcSE       stat        pvalue  \\\n",
              "geneSymbol                                                                  \n",
              "CETP        234.786329       -3.661881  0.325381 -11.254132  2.209911e-29   \n",
              "OIT3        378.698231       -4.124409  0.385036 -10.711754  8.964694e-27   \n",
              "TIMD4       115.869138       -4.411219  0.424640 -10.388129  2.808084e-25   \n",
              "ADGRA3      351.339227       -3.789612  0.367740 -10.305147  6.678914e-25   \n",
              "CLEC4M       60.046296       -6.019403  0.594080 -10.132304  3.971783e-24   \n",
              "\n",
              "                    padj  \n",
              "geneSymbol                \n",
              "CETP        2.924375e-25  \n",
              "OIT3        5.931490e-23  \n",
              "TIMD4       1.238646e-21  \n",
              "ADGRA3      2.209552e-21  \n",
              "CLEC4M      1.051172e-20  "
            ],
            "text/html": [
              "\n",
              "  <div id=\"df-a388258b-b885-4d94-8f1e-b9c7dfffa4ee\">\n",
              "    <div class=\"colab-df-container\">\n",
              "      <div>\n",
              "<style scoped>\n",
              "    .dataframe tbody tr th:only-of-type {\n",
              "        vertical-align: middle;\n",
              "    }\n",
              "\n",
              "    .dataframe tbody tr th {\n",
              "        vertical-align: top;\n",
              "    }\n",
              "\n",
              "    .dataframe thead th {\n",
              "        text-align: right;\n",
              "    }\n",
              "</style>\n",
              "<table border=\"1\" class=\"dataframe\">\n",
              "  <thead>\n",
              "    <tr style=\"text-align: right;\">\n",
              "      <th></th>\n",
              "      <th>baseMean</th>\n",
              "      <th>log2FoldChange</th>\n",
              "      <th>lfcSE</th>\n",
              "      <th>stat</th>\n",
              "      <th>pvalue</th>\n",
              "      <th>padj</th>\n",
              "    </tr>\n",
              "    <tr>\n",
              "      <th>geneSymbol</th>\n",
              "      <th></th>\n",
              "      <th></th>\n",
              "      <th></th>\n",
              "      <th></th>\n",
              "      <th></th>\n",
              "      <th></th>\n",
              "    </tr>\n",
              "  </thead>\n",
              "  <tbody>\n",
              "    <tr>\n",
              "      <th>CETP</th>\n",
              "      <td>234.786329</td>\n",
              "      <td>-3.661881</td>\n",
              "      <td>0.325381</td>\n",
              "      <td>-11.254132</td>\n",
              "      <td>2.209911e-29</td>\n",
              "      <td>2.924375e-25</td>\n",
              "    </tr>\n",
              "    <tr>\n",
              "      <th>OIT3</th>\n",
              "      <td>378.698231</td>\n",
              "      <td>-4.124409</td>\n",
              "      <td>0.385036</td>\n",
              "      <td>-10.711754</td>\n",
              "      <td>8.964694e-27</td>\n",
              "      <td>5.931490e-23</td>\n",
              "    </tr>\n",
              "    <tr>\n",
              "      <th>TIMD4</th>\n",
              "      <td>115.869138</td>\n",
              "      <td>-4.411219</td>\n",
              "      <td>0.424640</td>\n",
              "      <td>-10.388129</td>\n",
              "      <td>2.808084e-25</td>\n",
              "      <td>1.238646e-21</td>\n",
              "    </tr>\n",
              "    <tr>\n",
              "      <th>ADGRA3</th>\n",
              "      <td>351.339227</td>\n",
              "      <td>-3.789612</td>\n",
              "      <td>0.367740</td>\n",
              "      <td>-10.305147</td>\n",
              "      <td>6.678914e-25</td>\n",
              "      <td>2.209552e-21</td>\n",
              "    </tr>\n",
              "    <tr>\n",
              "      <th>CLEC4M</th>\n",
              "      <td>60.046296</td>\n",
              "      <td>-6.019403</td>\n",
              "      <td>0.594080</td>\n",
              "      <td>-10.132304</td>\n",
              "      <td>3.971783e-24</td>\n",
              "      <td>1.051172e-20</td>\n",
              "    </tr>\n",
              "  </tbody>\n",
              "</table>\n",
              "</div>\n",
              "      <button class=\"colab-df-convert\" onclick=\"convertToInteractive('df-a388258b-b885-4d94-8f1e-b9c7dfffa4ee')\"\n",
              "              title=\"Convert this dataframe to an interactive table.\"\n",
              "              style=\"display:none;\">\n",
              "        \n",
              "  <svg xmlns=\"http://www.w3.org/2000/svg\" height=\"24px\"viewBox=\"0 0 24 24\"\n",
              "       width=\"24px\">\n",
              "    <path d=\"M0 0h24v24H0V0z\" fill=\"none\"/>\n",
              "    <path d=\"M18.56 5.44l.94 2.06.94-2.06 2.06-.94-2.06-.94-.94-2.06-.94 2.06-2.06.94zm-11 1L8.5 8.5l.94-2.06 2.06-.94-2.06-.94L8.5 2.5l-.94 2.06-2.06.94zm10 10l.94 2.06.94-2.06 2.06-.94-2.06-.94-.94-2.06-.94 2.06-2.06.94z\"/><path d=\"M17.41 7.96l-1.37-1.37c-.4-.4-.92-.59-1.43-.59-.52 0-1.04.2-1.43.59L10.3 9.45l-7.72 7.72c-.78.78-.78 2.05 0 2.83L4 21.41c.39.39.9.59 1.41.59.51 0 1.02-.2 1.41-.59l7.78-7.78 2.81-2.81c.8-.78.8-2.07 0-2.86zM5.41 20L4 18.59l7.72-7.72 1.47 1.35L5.41 20z\"/>\n",
              "  </svg>\n",
              "      </button>\n",
              "      \n",
              "  <style>\n",
              "    .colab-df-container {\n",
              "      display:flex;\n",
              "      flex-wrap:wrap;\n",
              "      gap: 12px;\n",
              "    }\n",
              "\n",
              "    .colab-df-convert {\n",
              "      background-color: #E8F0FE;\n",
              "      border: none;\n",
              "      border-radius: 50%;\n",
              "      cursor: pointer;\n",
              "      display: none;\n",
              "      fill: #1967D2;\n",
              "      height: 32px;\n",
              "      padding: 0 0 0 0;\n",
              "      width: 32px;\n",
              "    }\n",
              "\n",
              "    .colab-df-convert:hover {\n",
              "      background-color: #E2EBFA;\n",
              "      box-shadow: 0px 1px 2px rgba(60, 64, 67, 0.3), 0px 1px 3px 1px rgba(60, 64, 67, 0.15);\n",
              "      fill: #174EA6;\n",
              "    }\n",
              "\n",
              "    [theme=dark] .colab-df-convert {\n",
              "      background-color: #3B4455;\n",
              "      fill: #D2E3FC;\n",
              "    }\n",
              "\n",
              "    [theme=dark] .colab-df-convert:hover {\n",
              "      background-color: #434B5C;\n",
              "      box-shadow: 0px 1px 3px 1px rgba(0, 0, 0, 0.15);\n",
              "      filter: drop-shadow(0px 1px 2px rgba(0, 0, 0, 0.3));\n",
              "      fill: #FFFFFF;\n",
              "    }\n",
              "  </style>\n",
              "\n",
              "      <script>\n",
              "        const buttonEl =\n",
              "          document.querySelector('#df-a388258b-b885-4d94-8f1e-b9c7dfffa4ee button.colab-df-convert');\n",
              "        buttonEl.style.display =\n",
              "          google.colab.kernel.accessAllowed ? 'block' : 'none';\n",
              "\n",
              "        async function convertToInteractive(key) {\n",
              "          const element = document.querySelector('#df-a388258b-b885-4d94-8f1e-b9c7dfffa4ee');\n",
              "          const dataTable =\n",
              "            await google.colab.kernel.invokeFunction('convertToInteractive',\n",
              "                                                     [key], {});\n",
              "          if (!dataTable) return;\n",
              "\n",
              "          const docLinkHtml = 'Like what you see? Visit the ' +\n",
              "            '<a target=\"_blank\" href=https://colab.research.google.com/notebooks/data_table.ipynb>data table notebook</a>'\n",
              "            + ' to learn more about interactive tables.';\n",
              "          element.innerHTML = '';\n",
              "          dataTable['output_type'] = 'display_data';\n",
              "          await google.colab.output.renderOutput(dataTable, element);\n",
              "          const docLink = document.createElement('div');\n",
              "          docLink.innerHTML = docLinkHtml;\n",
              "          element.appendChild(docLink);\n",
              "        }\n",
              "      </script>\n",
              "    </div>\n",
              "  </div>\n",
              "  "
            ]
          },
          "metadata": {},
          "execution_count": 35
        }
      ]
    },
    {
      "cell_type": "code",
      "source": [
        "visuz.GeneExpression.volcano(df=ribo_res.dropna(), lfc='log2FoldChange', pv='padj', sign_line=True, plotlegend=True, show=True)"
      ],
      "metadata": {
        "colab": {
          "base_uri": "https://localhost:8080/",
          "height": 349
        },
        "id": "_vrOxKhD9AwS",
        "outputId": "e9358fd4-e061-4dbf-95ff-cfdc0075faf7"
      },
      "execution_count": 36,
      "outputs": [
        {
          "output_type": "display_data",
          "data": {
            "text/plain": [
              "<Figure size 360x360 with 1 Axes>"
            ],
            "image/png": "[encoded data removed]"
          },
          "metadata": {
            "needs_background": "light"
          }
        }
      ]
    },
    {
      "cell_type": "code",
      "source": [
        "len(set(ribo_res[ribo_res['padj']<0.05].index.values) & set(rna_res[rna_res['padj']<0.05].index.values))/len(set(ribo_res[ribo_res['padj']<0.05].index.values) | set(rna_res[rna_res['padj']<0.05].index.values))\n"
      ],
      "metadata": {
        "colab": {
          "base_uri": "https://localhost:8080/"
        },
        "id": "VY13XpYb-SvJ",
        "outputId": "ed987a92-75d3-4998-a517-ca8a4c9341ca"
      },
      "execution_count": 41,
      "outputs": [
        {
          "output_type": "execute_result",
          "data": {
            "text/plain": [
              "0.28841927303465764"
            ]
          },
          "metadata": {},
          "execution_count": 41
        }
      ]
    },
    {
      "cell_type": "markdown",
      "source": [
        "Видно что и графики отличаются и пересечение по генам ~28%"
      ],
      "metadata": {
        "id": "11xZTS27-RVE"
      }
    },
    {
      "cell_type": "code",
      "source": [
        "AB, samples, methods  = [], [], []\n",
        "\n",
        "for col in ribo.T.columns:\n",
        "\n",
        "    if \"normal\" in col:\n",
        "        AB.append(\"normal\")\n",
        "    else:\n",
        "        AB.append(\"tumor\")\n",
        "    samples.append(col)\n",
        "    methods.append('ribo')\n",
        "\n",
        "for col in rna.T.columns:\n",
        "\n",
        "    if \"normal\" in col:\n",
        "        AB.append(\"normal\")\n",
        "    else:\n",
        "        AB.append(\"tumor\")\n",
        "    samples.append(col)\n",
        "    methods.append('rna')\n",
        "        \n",
        "clinical = pd.DataFrame({\"sample\": samples, \"condition\": AB, 'method':methods})\n",
        "clinical = clinical.set_index('sample')\n",
        "\n"
      ],
      "metadata": {
        "id": "qAz_gqnq-PEY"
      },
      "execution_count": 47,
      "outputs": []
    },
    {
      "cell_type": "code",
      "source": [
        "whole_ds = pd.concat([ribo, rna])"
      ],
      "metadata": {
        "id": "bx6ORc_2_HJ7"
      },
      "execution_count": 48,
      "outputs": []
    },
    {
      "cell_type": "code",
      "source": [
        "# dds = DeseqDataSet(\n",
        "#     whole_ds,\n",
        "#     clinical=clinical,\n",
        "#     design_factor=\"condition + method + method:condition\",\n",
        "\n",
        "# )\n",
        "# dds.deseq2()\n",
        "\n"
      ],
      "metadata": {
        "id": "LvOAkXWL_C64"
      },
      "execution_count": 50,
      "outputs": []
    },
    {
      "cell_type": "markdown",
      "source": [
        "Поддержки двухуровневых моделей еще не завзли ( на гитхабе в доке к функции построения матрицы написано , что они сейчас над этим работают , но по ощущениям там прилично переписать надо "
      ],
      "metadata": {
        "id": "T00i7DIsB0EK"
      }
    },
    {
      "cell_type": "markdown",
      "source": [
        "**Анализ wig-файла**"
      ],
      "metadata": {
        "id": "TdlTqT6HCFZN"
      }
    },
    {
      "cell_type": "code",
      "source": [
        "! wget \"https://www.ncbi.nlm.nih.gov/sviewer/viewer.cgi?tool=portal&save=file&log$=seqview&db=nuccore&report=genbank&id=545778205&conwithfeat=on&hide-sequence=on&hide-cdd=on\" -O genome.gb\n"
      ],
      "metadata": {
        "colab": {
          "base_uri": "https://localhost:8080/"
        },
        "id": "nJqMzXsE9FQM",
        "outputId": "268a21bc-e7e4-4e54-a1fa-e1633973e838"
      },
      "execution_count": 51,
      "outputs": [
        {
          "output_type": "stream",
          "name": "stdout",
          "text": [
            "--2022-12-25 20:46:24--  https://www.ncbi.nlm.nih.gov/sviewer/viewer.cgi?tool=portal&save=file&log$=seqview&db=nuccore&report=genbank&id=545778205&conwithfeat=on&hide-sequence=on&hide-cdd=on\n",
            "Resolving www.ncbi.nlm.nih.gov (www.ncbi.nlm.nih.gov)... 130.14.29.110, 2607:f220:41e:4290::110\n",
            "Connecting to www.ncbi.nlm.nih.gov (www.ncbi.nlm.nih.gov)|130.14.29.110|:443... connected.\n",
            "HTTP request sent, awaiting response... 200 OK\n",
            "Length: unspecified [text/plain]\n",
            "Saving to: ‘genome.gb’\n",
            "\n",
            "genome.gb               [      <=>           ]   5.56M   141KB/s    in 41s     \n",
            "\n",
            "2022-12-25 20:47:07 (139 KB/s) - ‘genome.gb’ saved [5829756]\n",
            "\n"
          ]
        }
      ]
    },
    {
      "cell_type": "code",
      "source": [
        "df_f = pd.read_csv('02. RiboSeq_EColi_track_f.wig', sep='\\t')\n",
        "df_r = pd.read_csv('02. RiboSeq_EColi_track_r.wig', sep='\\t')"
      ],
      "metadata": {
        "id": "YwQXZSMfCWIt"
      },
      "execution_count": 61,
      "outputs": []
    },
    {
      "cell_type": "code",
      "source": [
        "!pip install biopython"
      ],
      "metadata": {
        "colab": {
          "base_uri": "https://localhost:8080/"
        },
        "id": "Tu3J-yXPEpex",
        "outputId": "f1a5023f-a4ca-4a55-eaef-93f85bc256c6"
      },
      "execution_count": 54,
      "outputs": [
        {
          "output_type": "stream",
          "name": "stdout",
          "text": [
            "Looking in indexes: https://pypi.org/simple, https://us-python.pkg.dev/colab-wheels/public/simple/\n",
            "Collecting biopython\n",
            "  Downloading biopython-1.80-cp38-cp38-manylinux_2_17_x86_64.manylinux2014_x86_64.whl (3.1 MB)\n",
            "\u001b[K     |████████████████████████████████| 3.1 MB 16.7 MB/s \n",
            "\u001b[?25hRequirement already satisfied: numpy in /usr/local/lib/python3.8/dist-packages (from biopython) (1.23.0)\n",
            "Installing collected packages: biopython\n",
            "Successfully installed biopython-1.80\n"
          ]
        }
      ]
    },
    {
      "cell_type": "code",
      "source": [
        "from Bio import GenBank\n",
        "\n",
        "genes_f_pos = {}\n",
        "genes_r_pos = {}\n",
        "\n",
        "\n",
        "\n",
        "with open(\"genome.gb\") as handle:\n",
        "    record = next(GenBank.parse(handle))\n",
        "    for feature in record.features:\n",
        "      if feature.key != \"CDS\":\n",
        "          continue\n",
        "      location = feature.location\n",
        "      if \"join\" in location:\n",
        "          continue\n",
        "\n",
        "      is_back = False\n",
        "      if location.startswith(\"complement\"):\n",
        "          location = location[len(\"complement(\"):-1]\n",
        "          is_back = True\n",
        "      \n",
        "      for q in feature.qualifiers:\n",
        "          if q.key == '/gene=':\n",
        "              gene = q.value[1:-1]\n",
        "              break\n",
        "      \n",
        "      start, end = location.split(\"..\")\n",
        "      start, end = int(start), int(end)\n",
        "      \n",
        "      if is_back:\n",
        "          genes_r_pos[gene] = start, end\n",
        "      else:\n",
        "          genes_f_pos[gene] = start, end"
      ],
      "metadata": {
        "id": "DPT_3aHACseq"
      },
      "execution_count": 65,
      "outputs": []
    },
    {
      "cell_type": "code",
      "source": [
        "df_f = df_f.reset_index()\n",
        "df_f.columns = ['start', 'val']\n",
        "\n",
        "df_r = df_r.reset_index()\n",
        "df_r.columns = ['start', 'val']\n"
      ],
      "metadata": {
        "id": "5RsK7Zk_ElP3"
      },
      "execution_count": 63,
      "outputs": []
    },
    {
      "cell_type": "code",
      "source": [
        "from collections import defaultdict\n",
        "f_gene_coverage = defaultdict(int)\n",
        "for start, count in  tqdm.tqdm(df_f[['start', 'val']].values):\n",
        "  for gene, (begin, end) in genes_f_pos.items():\n",
        "    if begin <= start <= end:\n",
        "      f_gene_coverage[start-begin] += count\n",
        "\n",
        "r_gene_coverage = defaultdict(int)\n",
        "for start, count in  tqdm.tqdm(df_r[['start', 'val']].values):\n",
        "  for gene, (begin, end) in genes_r_pos.items():\n",
        "    if begin <= start <= end:\n",
        "      r_gene_coverage[start-begin] += count\n",
        "    "
      ],
      "metadata": {
        "colab": {
          "base_uri": "https://localhost:8080/"
        },
        "id": "5-hs_s2WGTuu",
        "outputId": "5223f88e-b48f-499b-aa21-a9a9f364f72f"
      },
      "execution_count": 67,
      "outputs": [
        {
          "output_type": "stream",
          "name": "stderr",
          "text": [
            "100%|██████████| 621395/621395 [05:47<00:00, 1788.83it/s]\n",
            "100%|██████████| 643345/643345 [06:17<00:00, 1702.36it/s]\n"
          ]
        }
      ]
    },
    {
      "cell_type": "code",
      "source": [
        "f_gene_coverage = pd.DataFrame({\n",
        "    'offset': [key for key, _ in f_gene_coverage.items()],\n",
        "    'count': [val for _, val in f_gene_coverage.items()]\n",
        "})\n",
        "f_gene_coverage"
      ],
      "metadata": {
        "colab": {
          "base_uri": "https://localhost:8080/",
          "height": 424
        },
        "id": "ROM6tybbIzq8",
        "outputId": "3f222546-40a8-42fb-c266-f32acaae3090"
      },
      "execution_count": 69,
      "outputs": [
        {
          "output_type": "execute_result",
          "data": {
            "text/plain": [
              "      offset  count\n",
              "0          1  35766\n",
              "1          2  53857\n",
              "2          3  15873\n",
              "3          4  17313\n",
              "4          5  26522\n",
              "...      ...    ...\n",
              "4514    4200      2\n",
              "4515    4204     12\n",
              "4516    4206     10\n",
              "4517    4207      2\n",
              "4518    4209     10\n",
              "\n",
              "[4519 rows x 2 columns]"
            ],
            "text/html": [
              "\n",
              "  <div id=\"df-9b6671d1-4037-49da-a9f6-5983252505c3\">\n",
              "    <div class=\"colab-df-container\">\n",
              "      <div>\n",
              "<style scoped>\n",
              "    .dataframe tbody tr th:only-of-type {\n",
              "        vertical-align: middle;\n",
              "    }\n",
              "\n",
              "    .dataframe tbody tr th {\n",
              "        vertical-align: top;\n",
              "    }\n",
              "\n",
              "    .dataframe thead th {\n",
              "        text-align: right;\n",
              "    }\n",
              "</style>\n",
              "<table border=\"1\" class=\"dataframe\">\n",
              "  <thead>\n",
              "    <tr style=\"text-align: right;\">\n",
              "      <th></th>\n",
              "      <th>offset</th>\n",
              "      <th>count</th>\n",
              "    </tr>\n",
              "  </thead>\n",
              "  <tbody>\n",
              "    <tr>\n",
              "      <th>0</th>\n",
              "      <td>1</td>\n",
              "      <td>35766</td>\n",
              "    </tr>\n",
              "    <tr>\n",
              "      <th>1</th>\n",
              "      <td>2</td>\n",
              "      <td>53857</td>\n",
              "    </tr>\n",
              "    <tr>\n",
              "      <th>2</th>\n",
              "      <td>3</td>\n",
              "      <td>15873</td>\n",
              "    </tr>\n",
              "    <tr>\n",
              "      <th>3</th>\n",
              "      <td>4</td>\n",
              "      <td>17313</td>\n",
              "    </tr>\n",
              "    <tr>\n",
              "      <th>4</th>\n",
              "      <td>5</td>\n",
              "      <td>26522</td>\n",
              "    </tr>\n",
              "    <tr>\n",
              "      <th>...</th>\n",
              "      <td>...</td>\n",
              "      <td>...</td>\n",
              "    </tr>\n",
              "    <tr>\n",
              "      <th>4514</th>\n",
              "      <td>4200</td>\n",
              "      <td>2</td>\n",
              "    </tr>\n",
              "    <tr>\n",
              "      <th>4515</th>\n",
              "      <td>4204</td>\n",
              "      <td>12</td>\n",
              "    </tr>\n",
              "    <tr>\n",
              "      <th>4516</th>\n",
              "      <td>4206</td>\n",
              "      <td>10</td>\n",
              "    </tr>\n",
              "    <tr>\n",
              "      <th>4517</th>\n",
              "      <td>4207</td>\n",
              "      <td>2</td>\n",
              "    </tr>\n",
              "    <tr>\n",
              "      <th>4518</th>\n",
              "      <td>4209</td>\n",
              "      <td>10</td>\n",
              "    </tr>\n",
              "  </tbody>\n",
              "</table>\n",
              "<p>4519 rows × 2 columns</p>\n",
              "</div>\n",
              "      <button class=\"colab-df-convert\" onclick=\"convertToInteractive('df-9b6671d1-4037-49da-a9f6-5983252505c3')\"\n",
              "              title=\"Convert this dataframe to an interactive table.\"\n",
              "              style=\"display:none;\">\n",
              "        \n",
              "  <svg xmlns=\"http://www.w3.org/2000/svg\" height=\"24px\"viewBox=\"0 0 24 24\"\n",
              "       width=\"24px\">\n",
              "    <path d=\"M0 0h24v24H0V0z\" fill=\"none\"/>\n",
              "    <path d=\"M18.56 5.44l.94 2.06.94-2.06 2.06-.94-2.06-.94-.94-2.06-.94 2.06-2.06.94zm-11 1L8.5 8.5l.94-2.06 2.06-.94-2.06-.94L8.5 2.5l-.94 2.06-2.06.94zm10 10l.94 2.06.94-2.06 2.06-.94-2.06-.94-.94-2.06-.94 2.06-2.06.94z\"/><path d=\"M17.41 7.96l-1.37-1.37c-.4-.4-.92-.59-1.43-.59-.52 0-1.04.2-1.43.59L10.3 9.45l-7.72 7.72c-.78.78-.78 2.05 0 2.83L4 21.41c.39.39.9.59 1.41.59.51 0 1.02-.2 1.41-.59l7.78-7.78 2.81-2.81c.8-.78.8-2.07 0-2.86zM5.41 20L4 18.59l7.72-7.72 1.47 1.35L5.41 20z\"/>\n",
              "  </svg>\n",
              "      </button>\n",
              "      \n",
              "  <style>\n",
              "    .colab-df-container {\n",
              "      display:flex;\n",
              "      flex-wrap:wrap;\n",
              "      gap: 12px;\n",
              "    }\n",
              "\n",
              "    .colab-df-convert {\n",
              "      background-color: #E8F0FE;\n",
              "      border: none;\n",
              "      border-radius: 50%;\n",
              "      cursor: pointer;\n",
              "      display: none;\n",
              "      fill: #1967D2;\n",
              "      height: 32px;\n",
              "      padding: 0 0 0 0;\n",
              "      width: 32px;\n",
              "    }\n",
              "\n",
              "    .colab-df-convert:hover {\n",
              "      background-color: #E2EBFA;\n",
              "      box-shadow: 0px 1px 2px rgba(60, 64, 67, 0.3), 0px 1px 3px 1px rgba(60, 64, 67, 0.15);\n",
              "      fill: #174EA6;\n",
              "    }\n",
              "\n",
              "    [theme=dark] .colab-df-convert {\n",
              "      background-color: #3B4455;\n",
              "      fill: #D2E3FC;\n",
              "    }\n",
              "\n",
              "    [theme=dark] .colab-df-convert:hover {\n",
              "      background-color: #434B5C;\n",
              "      box-shadow: 0px 1px 3px 1px rgba(0, 0, 0, 0.15);\n",
              "      filter: drop-shadow(0px 1px 2px rgba(0, 0, 0, 0.3));\n",
              "      fill: #FFFFFF;\n",
              "    }\n",
              "  </style>\n",
              "\n",
              "      <script>\n",
              "        const buttonEl =\n",
              "          document.querySelector('#df-9b6671d1-4037-49da-a9f6-5983252505c3 button.colab-df-convert');\n",
              "        buttonEl.style.display =\n",
              "          google.colab.kernel.accessAllowed ? 'block' : 'none';\n",
              "\n",
              "        async function convertToInteractive(key) {\n",
              "          const element = document.querySelector('#df-9b6671d1-4037-49da-a9f6-5983252505c3');\n",
              "          const dataTable =\n",
              "            await google.colab.kernel.invokeFunction('convertToInteractive',\n",
              "                                                     [key], {});\n",
              "          if (!dataTable) return;\n",
              "\n",
              "          const docLinkHtml = 'Like what you see? Visit the ' +\n",
              "            '<a target=\"_blank\" href=https://colab.research.google.com/notebooks/data_table.ipynb>data table notebook</a>'\n",
              "            + ' to learn more about interactive tables.';\n",
              "          element.innerHTML = '';\n",
              "          dataTable['output_type'] = 'display_data';\n",
              "          await google.colab.output.renderOutput(dataTable, element);\n",
              "          const docLink = document.createElement('div');\n",
              "          docLink.innerHTML = docLinkHtml;\n",
              "          element.appendChild(docLink);\n",
              "        }\n",
              "      </script>\n",
              "    </div>\n",
              "  </div>\n",
              "  "
            ]
          },
          "metadata": {},
          "execution_count": 69
        }
      ]
    },
    {
      "cell_type": "code",
      "source": [
        "sns.histplot(f_gene_coverage, x='offset', weights='count', bins=100)"
      ],
      "metadata": {
        "colab": {
          "base_uri": "https://localhost:8080/",
          "height": 309
        },
        "id": "lYTsTT9TIsJ9",
        "outputId": "45d04d60-a83a-4866-d4d0-789b8c8a9d24"
      },
      "execution_count": 72,
      "outputs": [
        {
          "output_type": "execute_result",
          "data": {
            "text/plain": [
              "<matplotlib.axes._subplots.AxesSubplot at 0x7f7bdefe8a30>"
            ]
          },
          "metadata": {},
          "execution_count": 72
        },
        {
          "output_type": "display_data",
          "data": {
            "text/plain": [
              "<Figure size 432x288 with 1 Axes>"
            ],
            "image/png": "[encoded data removed]"
          },
          "metadata": {
            "needs_background": "light"
          }
        }
      ]
    },
    {
      "cell_type": "code",
      "source": [
        "r_gene_coverage = pd.DataFrame({\n",
        "    'offset': [key for key, _ in r_gene_coverage.items()],\n",
        "    'count': [val for _, val in r_gene_coverage.items()]\n",
        "})\n",
        "sns.histplot(r_gene_coverage, x='offset', weights='count', bins=100)"
      ],
      "metadata": {
        "colab": {
          "base_uri": "https://localhost:8080/",
          "height": 309
        },
        "id": "D3q5K7_XMSHZ",
        "outputId": "666d953e-bdcd-4bca-cb48-bc996630c2c0"
      },
      "execution_count": 75,
      "outputs": [
        {
          "output_type": "execute_result",
          "data": {
            "text/plain": [
              "<matplotlib.axes._subplots.AxesSubplot at 0x7f7bde87d460>"
            ]
          },
          "metadata": {},
          "execution_count": 75
        },
        {
          "output_type": "display_data",
          "data": {
            "text/plain": [
              "<Figure size 432x288 with 1 Axes>"
            ],
            "image/png": "[encoded data removed]"
          },
          "metadata": {
            "needs_background": "light"
          }
        }
      ]
    },
    {
      "cell_type": "markdown",
      "source": [
        "Видно что в начале ридов больше, это связанно с тем что записаны начала ридом \n",
        "\n",
        "Посмотрим на конкретный ген\n"
      ],
      "metadata": {
        "id": "30D3wqhiM9KQ"
      }
    },
    {
      "cell_type": "code",
      "source": [
        "f_gene_coverage = defaultdict(int)\n",
        "for start, count in  tqdm.tqdm(df_f[['start', 'val']].values):\n",
        "  begin, end = genes_f_pos['mog']\n",
        "  if begin <= start <= end:\n",
        "    f_gene_coverage[start-begin] += count\n"
      ],
      "metadata": {
        "colab": {
          "base_uri": "https://localhost:8080/"
        },
        "id": "fyYC6J7VNf6b",
        "outputId": "74c5b120-f13a-469f-afa4-91fe597d6bc9"
      },
      "execution_count": 118,
      "outputs": [
        {
          "output_type": "stream",
          "name": "stderr",
          "text": [
            "100%|██████████| 621395/621395 [00:01<00:00, 379397.97it/s]\n"
          ]
        }
      ]
    },
    {
      "cell_type": "code",
      "source": [
        "f_gene_coverage = pd.DataFrame({\n",
        "    'offset': [key for key, _ in f_gene_coverage.items()],\n",
        "    'count': [val for _, val in f_gene_coverage.items()]\n",
        "})\n",
        "sns.histplot(f_gene_coverage, x='offset', weights='count', bins=150)"
      ],
      "metadata": {
        "colab": {
          "base_uri": "https://localhost:8080/",
          "height": 298
        },
        "id": "IL6L9EBCNvMd",
        "outputId": "e580ee89-7704-41ab-8707-5f3144102ca3"
      },
      "execution_count": 119,
      "outputs": [
        {
          "output_type": "execute_result",
          "data": {
            "text/plain": [
              "<matplotlib.axes._subplots.AxesSubplot at 0x7f7be01ec670>"
            ]
          },
          "metadata": {},
          "execution_count": 119
        },
        {
          "output_type": "display_data",
          "data": {
            "text/plain": [
              "<Figure size 432x288 with 1 Axes>"
            ],
            "image/png": "[encoded data removed]"
          },
          "metadata": {
            "needs_background": "light"
          }
        }
      ]
    },
    {
      "cell_type": "markdown",
      "source": [
        "из неравномерности как будто в первой половине чуть больше ридов и пиков, но все равно не сильно понятна закономерность"
      ],
      "metadata": {
        "id": "SzKiz8EgPco0"
      }
    },
    {
      "cell_type": "code",
      "source": [
        "import plotly.express as px\n",
        "\n",
        "f_gene_coverage['color'] = f_gene_coverage.offset % 3\n",
        "f_gene_coverage['color'] = f_gene_coverage['color'].astype(str)\n",
        "\n",
        "fig = px.bar(f_gene_coverage, x=\"offset\", y='count', color='color')\n",
        "fig.show()"
      ],
      "metadata": {
        "colab": {
          "base_uri": "https://localhost:8080/",
          "height": 542
        },
        "id": "oD9AtXMXM3UB",
        "outputId": "568574cb-997b-4f9f-a8c2-d283b1407538"
      },
      "execution_count": 126,
      "outputs": [
        {
          "output_type": "display_data",
          "data": {
            "text/html": [
              "<html>\n",
              "<head><meta charset=\"utf-8\" /></head>\n",
              "<body>\n",
              "    <div>            <script src=\"https://cdnjs.cloudflare.com/ajax/libs/mathjax/2.7.5/MathJax.js?config=TeX-AMS-MML_SVG\"></script><script type=\"text/javascript\">if (window.MathJax) {MathJax.Hub.Config({SVG: {font: \"STIX-Web\"}});}</script>                <script type=\"text/javascript\">window.PlotlyConfig = {MathJaxConfig: 'local'};</script>\n",
              "        <script src=\"https://cdn.plot.ly/plotly-2.8.3.min.js\"></script>                <div id=\"6edea3d5-72e4-4086-8514-435bcfc2885f\" class=\"plotly-graph-div\" style=\"height:525px; width:100%;\"></div>            <script type=\"text/javascript\">                                    window.PLOTLYENV=window.PLOTLYENV || {};                                    if (document.getElementById(\"6edea3d5-72e4-4086-8514-435bcfc2885f\")) {                    Plotly.newPlot(                        \"6edea3d5-72e4-4086-8514-435bcfc2885f\",                        [{\"alignmentgroup\":\"True\",\"hovertemplate\":\"color=0<br>offset=%{x}<br>count=%{y}<extra></extra>\",\"legendgroup\":\"0\",\"marker\":{\"color\":\"#636efa\",\"pattern\":{\"shape\":\"\"}},\"name\":\"0\",\"offsetgroup\":\"0\",\"orientation\":\"v\",\"showlegend\":true,\"textposition\":\"auto\",\"x\":[0,6,18,21,27,39,42,45,48,54,66,69,72,81,90,99,102,105,108,111,117,120,126,129,132,135,138,141,147,150,159,165,168,171,174,183,186,189,195,204,207,210,219,222,225,231,234,240,243,252,255,261,267,273,276,279,282,294,297,303,306,309,312,315,318,336,342,351,354,357,360,372,381,384,390,393,396,402,417,429,435,447,450,453,456,459,462,468,474,483,486,489,495,498,501,510,513,516,519,528,531,537,546,549,552,555,558,561,567,570,573,576,582],\"xaxis\":\"x\",\"y\":[1,1,2,2,4,13,6,2,5,3,2,11,9,4,18,1,8,3,1,11,4,2,1,2,1,1,3,2,4,25,7,4,1,1,2,2,6,2,1,2,42,5,5,33,29,15,2,10,2,7,4,1,1,3,4,4,3,1,2,1,2,13,5,1,1,1,1,2,15,1,1,27,1,3,2,1,24,2,3,1,4,3,1,10,1,1,1,1,1,2,1,2,1,4,3,1,2,3,6,4,18,4,5,7,11,1,1,13,10,3,1,1,1],\"yaxis\":\"y\",\"type\":\"bar\"},{\"alignmentgroup\":\"True\",\"hovertemplate\":\"color=1<br>offset=%{x}<br>count=%{y}<extra></extra>\",\"legendgroup\":\"1\",\"marker\":{\"color\":\"#EF553B\",\"pattern\":{\"shape\":\"\"}},\"name\":\"1\",\"offsetgroup\":\"1\",\"orientation\":\"v\",\"showlegend\":true,\"textposition\":\"auto\",\"x\":[4,10,13,16,34,40,46,55,61,64,67,70,79,85,88,94,100,103,109,112,118,121,127,130,139,142,145,148,151,154,160,169,172,175,178,184,187,190,193,196,199,202,205,208,217,220,223,226,229,232,235,244,253,259,262,265,268,271,274,277,280,289,292,295,298,301,304,307,310,319,325,337,346,349,352,355,358,364,367,370,373,376,391,394,397,400,412,418,421,424,430,436,442,445,448,451,454,457,463,466,472,478,481,484,496,499,508,514,517,520,526,529,532,535,538,541,544,547,550,556,559,562,565,568,574,577],\"xaxis\":\"x\",\"y\":[4,2,3,4,8,16,4,18,3,5,11,2,2,1,1,3,80,3,1,3,3,2,1,2,13,23,8,19,1,17,2,1,1,2,1,1,1,2,1,9,4,3,2,13,1,6,5,3,4,11,2,7,3,1,2,2,7,2,2,24,1,8,2,1,14,4,1,7,3,2,1,1,4,26,1,46,2,6,5,6,23,7,2,18,9,6,2,1,9,1,1,8,2,1,1,1,9,4,1,2,4,6,1,4,1,6,1,1,2,4,3,1,14,6,2,10,6,1,3,4,1,10,1,2,1,2],\"yaxis\":\"y\",\"type\":\"bar\"},{\"alignmentgroup\":\"True\",\"hovertemplate\":\"color=2<br>offset=%{x}<br>count=%{y}<extra></extra>\",\"legendgroup\":\"2\",\"marker\":{\"color\":\"#00cc96\",\"pattern\":{\"shape\":\"\"}},\"name\":\"2\",\"offsetgroup\":\"2\",\"orientation\":\"v\",\"showlegend\":true,\"textposition\":\"auto\",\"x\":[5,14,20,23,35,38,41,44,47,50,53,56,59,62,65,68,71,89,95,98,101,104,107,110,116,128,131,134,140,143,146,149,155,161,164,167,170,173,176,182,188,191,194,206,209,215,221,224,227,230,233,236,239,242,248,254,260,263,266,269,275,278,281,284,287,290,296,299,305,308,311,314,323,335,338,341,344,347,350,356,359,362,365,371,374,377,383,386,389,392,395,398,401,404,410,413,419,428,431,440,443,446,449,455,458,467,479,482,485,488,491,500,503,506,518,521,524,527,530,536,542,548,554,557,560,566,569,581,584],\"xaxis\":\"x\",\"y\":[6,3,5,1,1,21,13,17,43,4,1,5,1,4,11,59,73,6,1,1,16,90,1,24,2,15,4,2,1,24,54,62,1,8,1,9,12,16,1,1,17,16,3,6,2,1,1,8,51,95,1,1,32,3,1,36,4,1,32,10,2,17,1,5,2,2,5,6,11,22,24,3,1,1,6,13,3,13,6,29,5,1,8,17,5,7,1,1,1,1,8,2,3,6,1,3,7,1,5,2,2,2,1,4,2,13,3,6,2,2,13,4,25,9,55,15,12,5,2,1,4,2,3,21,36,42,14,1,8],\"yaxis\":\"y\",\"type\":\"bar\"}],                        {\"template\":{\"data\":{\"bar\":[{\"error_x\":{\"color\":\"#2a3f5f\"},\"error_y\":{\"color\":\"#2a3f5f\"},\"marker\":{\"line\":{\"color\":\"#E5ECF6\",\"width\":0.5},\"pattern\":{\"fillmode\":\"overlay\",\"size\":10,\"solidity\":0.2}},\"type\":\"bar\"}],\"barpolar\":[{\"marker\":{\"line\":{\"color\":\"#E5ECF6\",\"width\":0.5},\"pattern\":{\"fillmode\":\"overlay\",\"size\":10,\"solidity\":0.2}},\"type\":\"barpolar\"}],\"carpet\":[{\"aaxis\":{\"endlinecolor\":\"#2a3f5f\",\"gridcolor\":\"white\",\"linecolor\":\"white\",\"minorgridcolor\":\"white\",\"startlinecolor\":\"#2a3f5f\"},\"baxis\":{\"endlinecolor\":\"#2a3f5f\",\"gridcolor\":\"white\",\"linecolor\":\"white\",\"minorgridcolor\":\"white\",\"startlinecolor\":\"#2a3f5f\"},\"type\":\"carpet\"}],\"choropleth\":[{\"colorbar\":{\"outlinewidth\":0,\"ticks\":\"\"},\"type\":\"choropleth\"}],\"contour\":[{\"colorbar\":{\"outlinewidth\":0,\"ticks\":\"\"},\"colorscale\":[[0.0,\"#0d0887\"],[0.1111111111111111,\"#46039f\"],[0.2222222222222222,\"#7201a8\"],[0.3333333333333333,\"#9c179e\"],[0.4444444444444444,\"#bd3786\"],[0.5555555555555556,\"#d8576b\"],[0.6666666666666666,\"#ed7953\"],[0.7777777777777778,\"#fb9f3a\"],[0.8888888888888888,\"#fdca26\"],[1.0,\"#f0f921\"]],\"type\":\"contour\"}],\"contourcarpet\":[{\"colorbar\":{\"outlinewidth\":0,\"ticks\":\"\"},\"type\":\"contourcarpet\"}],\"heatmap\":[{\"colorbar\":{\"outlinewidth\":0,\"ticks\":\"\"},\"colorscale\":[[0.0,\"#0d0887\"],[0.1111111111111111,\"#46039f\"],[0.2222222222222222,\"#7201a8\"],[0.3333333333333333,\"#9c179e\"],[0.4444444444444444,\"#bd3786\"],[0.5555555555555556,\"#d8576b\"],[0.6666666666666666,\"#ed7953\"],[0.7777777777777778,\"#fb9f3a\"],[0.8888888888888888,\"#fdca26\"],[1.0,\"#f0f921\"]],\"type\":\"heatmap\"}],\"heatmapgl\":[{\"colorbar\":{\"outlinewidth\":0,\"ticks\":\"\"},\"colorscale\":[[0.0,\"#0d0887\"],[0.1111111111111111,\"#46039f\"],[0.2222222222222222,\"#7201a8\"],[0.3333333333333333,\"#9c179e\"],[0.4444444444444444,\"#bd3786\"],[0.5555555555555556,\"#d8576b\"],[0.6666666666666666,\"#ed7953\"],[0.7777777777777778,\"#fb9f3a\"],[0.8888888888888888,\"#fdca26\"],[1.0,\"#f0f921\"]],\"type\":\"heatmapgl\"}],\"histogram\":[{\"marker\":{\"pattern\":{\"fillmode\":\"overlay\",\"size\":10,\"solidity\":0.2}},\"type\":\"histogram\"}],\"histogram2d\":[{\"colorbar\":{\"outlinewidth\":0,\"ticks\":\"\"},\"colorscale\":[[0.0,\"#0d0887\"],[0.1111111111111111,\"#46039f\"],[0.2222222222222222,\"#7201a8\"],[0.3333333333333333,\"#9c179e\"],[0.4444444444444444,\"#bd3786\"],[0.5555555555555556,\"#d8576b\"],[0.6666666666666666,\"#ed7953\"],[0.7777777777777778,\"#fb9f3a\"],[0.8888888888888888,\"#fdca26\"],[1.0,\"#f0f921\"]],\"type\":\"histogram2d\"}],\"histogram2dcontour\":[{\"colorbar\":{\"outlinewidth\":0,\"ticks\":\"\"},\"colorscale\":[[0.0,\"#0d0887\"],[0.1111111111111111,\"#46039f\"],[0.2222222222222222,\"#7201a8\"],[0.3333333333333333,\"#9c179e\"],[0.4444444444444444,\"#bd3786\"],[0.5555555555555556,\"#d8576b\"],[0.6666666666666666,\"#ed7953\"],[0.7777777777777778,\"#fb9f3a\"],[0.8888888888888888,\"#fdca26\"],[1.0,\"#f0f921\"]],\"type\":\"histogram2dcontour\"}],\"mesh3d\":[{\"colorbar\":{\"outlinewidth\":0,\"ticks\":\"\"},\"type\":\"mesh3d\"}],\"parcoords\":[{\"line\":{\"colorbar\":{\"outlinewidth\":0,\"ticks\":\"\"}},\"type\":\"parcoords\"}],\"pie\":[{\"automargin\":true,\"type\":\"pie\"}],\"scatter\":[{\"marker\":{\"colorbar\":{\"outlinewidth\":0,\"ticks\":\"\"}},\"type\":\"scatter\"}],\"scatter3d\":[{\"line\":{\"colorbar\":{\"outlinewidth\":0,\"ticks\":\"\"}},\"marker\":{\"colorbar\":{\"outlinewidth\":0,\"ticks\":\"\"}},\"type\":\"scatter3d\"}],\"scattercarpet\":[{\"marker\":{\"colorbar\":{\"outlinewidth\":0,\"ticks\":\"\"}},\"type\":\"scattercarpet\"}],\"scattergeo\":[{\"marker\":{\"colorbar\":{\"outlinewidth\":0,\"ticks\":\"\"}},\"type\":\"scattergeo\"}],\"scattergl\":[{\"marker\":{\"colorbar\":{\"outlinewidth\":0,\"ticks\":\"\"}},\"type\":\"scattergl\"}],\"scattermapbox\":[{\"marker\":{\"colorbar\":{\"outlinewidth\":0,\"ticks\":\"\"}},\"type\":\"scattermapbox\"}],\"scatterpolar\":[{\"marker\":{\"colorbar\":{\"outlinewidth\":0,\"ticks\":\"\"}},\"type\":\"scatterpolar\"}],\"scatterpolargl\":[{\"marker\":{\"colorbar\":{\"outlinewidth\":0,\"ticks\":\"\"}},\"type\":\"scatterpolargl\"}],\"scatterternary\":[{\"marker\":{\"colorbar\":{\"outlinewidth\":0,\"ticks\":\"\"}},\"type\":\"scatterternary\"}],\"surface\":[{\"colorbar\":{\"outlinewidth\":0,\"ticks\":\"\"},\"colorscale\":[[0.0,\"#0d0887\"],[0.1111111111111111,\"#46039f\"],[0.2222222222222222,\"#7201a8\"],[0.3333333333333333,\"#9c179e\"],[0.4444444444444444,\"#bd3786\"],[0.5555555555555556,\"#d8576b\"],[0.6666666666666666,\"#ed7953\"],[0.7777777777777778,\"#fb9f3a\"],[0.8888888888888888,\"#fdca26\"],[1.0,\"#f0f921\"]],\"type\":\"surface\"}],\"table\":[{\"cells\":{\"fill\":{\"color\":\"#EBF0F8\"},\"line\":{\"color\":\"white\"}},\"header\":{\"fill\":{\"color\":\"#C8D4E3\"},\"line\":{\"color\":\"white\"}},\"type\":\"table\"}]},\"layout\":{\"annotationdefaults\":{\"arrowcolor\":\"#2a3f5f\",\"arrowhead\":0,\"arrowwidth\":1},\"autotypenumbers\":\"strict\",\"coloraxis\":{\"colorbar\":{\"outlinewidth\":0,\"ticks\":\"\"}},\"colorscale\":{\"diverging\":[[0,\"#8e0152\"],[0.1,\"#c51b7d\"],[0.2,\"#de77ae\"],[0.3,\"#f1b6da\"],[0.4,\"#fde0ef\"],[0.5,\"#f7f7f7\"],[0.6,\"#e6f5d0\"],[0.7,\"#b8e186\"],[0.8,\"#7fbc41\"],[0.9,\"#4d9221\"],[1,\"#276419\"]],\"sequential\":[[0.0,\"#0d0887\"],[0.1111111111111111,\"#46039f\"],[0.2222222222222222,\"#7201a8\"],[0.3333333333333333,\"#9c179e\"],[0.4444444444444444,\"#bd3786\"],[0.5555555555555556,\"#d8576b\"],[0.6666666666666666,\"#ed7953\"],[0.7777777777777778,\"#fb9f3a\"],[0.8888888888888888,\"#fdca26\"],[1.0,\"#f0f921\"]],\"sequentialminus\":[[0.0,\"#0d0887\"],[0.1111111111111111,\"#46039f\"],[0.2222222222222222,\"#7201a8\"],[0.3333333333333333,\"#9c179e\"],[0.4444444444444444,\"#bd3786\"],[0.5555555555555556,\"#d8576b\"],[0.6666666666666666,\"#ed7953\"],[0.7777777777777778,\"#fb9f3a\"],[0.8888888888888888,\"#fdca26\"],[1.0,\"#f0f921\"]]},\"colorway\":[\"#636efa\",\"#EF553B\",\"#00cc96\",\"#ab63fa\",\"#FFA15A\",\"#19d3f3\",\"#FF6692\",\"#B6E880\",\"#FF97FF\",\"#FECB52\"],\"font\":{\"color\":\"#2a3f5f\"},\"geo\":{\"bgcolor\":\"white\",\"lakecolor\":\"white\",\"landcolor\":\"#E5ECF6\",\"showlakes\":true,\"showland\":true,\"subunitcolor\":\"white\"},\"hoverlabel\":{\"align\":\"left\"},\"hovermode\":\"closest\",\"mapbox\":{\"style\":\"light\"},\"paper_bgcolor\":\"white\",\"plot_bgcolor\":\"#E5ECF6\",\"polar\":{\"angularaxis\":{\"gridcolor\":\"white\",\"linecolor\":\"white\",\"ticks\":\"\"},\"bgcolor\":\"#E5ECF6\",\"radialaxis\":{\"gridcolor\":\"white\",\"linecolor\":\"white\",\"ticks\":\"\"}},\"scene\":{\"xaxis\":{\"backgroundcolor\":\"#E5ECF6\",\"gridcolor\":\"white\",\"gridwidth\":2,\"linecolor\":\"white\",\"showbackground\":true,\"ticks\":\"\",\"zerolinecolor\":\"white\"},\"yaxis\":{\"backgroundcolor\":\"#E5ECF6\",\"gridcolor\":\"white\",\"gridwidth\":2,\"linecolor\":\"white\",\"showbackground\":true,\"ticks\":\"\",\"zerolinecolor\":\"white\"},\"zaxis\":{\"backgroundcolor\":\"#E5ECF6\",\"gridcolor\":\"white\",\"gridwidth\":2,\"linecolor\":\"white\",\"showbackground\":true,\"ticks\":\"\",\"zerolinecolor\":\"white\"}},\"shapedefaults\":{\"line\":{\"color\":\"#2a3f5f\"}},\"ternary\":{\"aaxis\":{\"gridcolor\":\"white\",\"linecolor\":\"white\",\"ticks\":\"\"},\"baxis\":{\"gridcolor\":\"white\",\"linecolor\":\"white\",\"ticks\":\"\"},\"bgcolor\":\"#E5ECF6\",\"caxis\":{\"gridcolor\":\"white\",\"linecolor\":\"white\",\"ticks\":\"\"}},\"title\":{\"x\":0.05},\"xaxis\":{\"automargin\":true,\"gridcolor\":\"white\",\"linecolor\":\"white\",\"ticks\":\"\",\"title\":{\"standoff\":15},\"zerolinecolor\":\"white\",\"zerolinewidth\":2},\"yaxis\":{\"automargin\":true,\"gridcolor\":\"white\",\"linecolor\":\"white\",\"ticks\":\"\",\"title\":{\"standoff\":15},\"zerolinecolor\":\"white\",\"zerolinewidth\":2}}},\"xaxis\":{\"anchor\":\"y\",\"domain\":[0.0,1.0],\"title\":{\"text\":\"offset\"}},\"yaxis\":{\"anchor\":\"x\",\"domain\":[0.0,1.0],\"title\":{\"text\":\"count\"}},\"legend\":{\"title\":{\"text\":\"color\"},\"tracegroupgap\":0},\"margin\":{\"t\":60},\"barmode\":\"relative\"},                        {\"responsive\": true}                    ).then(function(){\n",
              "                            \n",
              "var gd = document.getElementById('6edea3d5-72e4-4086-8514-435bcfc2885f');\n",
              "var x = new MutationObserver(function (mutations, observer) {{\n",
              "        var display = window.getComputedStyle(gd).display;\n",
              "        if (!display || display === 'none') {{\n",
              "            console.log([gd, 'removed!']);\n",
              "            Plotly.purge(gd);\n",
              "            observer.disconnect();\n",
              "        }}\n",
              "}});\n",
              "\n",
              "// Listen for the removal of the full notebook cells\n",
              "var notebookContainer = gd.closest('#notebook-container');\n",
              "if (notebookContainer) {{\n",
              "    x.observe(notebookContainer, {childList: true});\n",
              "}}\n",
              "\n",
              "// Listen for the clearing of the current output cell\n",
              "var outputEl = gd.closest('.output');\n",
              "if (outputEl) {{\n",
              "    x.observe(outputEl, {childList: true});\n",
              "}}\n",
              "\n",
              "                        })                };                            </script>        </div>\n",
              "</body>\n",
              "</html>"
            ]
          },
          "metadata": {}
        }
      ]
    },
    {
      "cell_type": "markdown",
      "source": [
        "Если посмотреть то как будто зеленое идет через 3 и приобладает над остальным\n",
        "\n",
        "Посчитаем для большого числа генов"
      ],
      "metadata": {
        "id": "Pne9uoAlQ6R-"
      }
    },
    {
      "cell_type": "code",
      "source": [
        "from collections import defaultdict\n",
        "f_gene_coverage = defaultdict(int)\n",
        "for start, count in  tqdm.tqdm(df_f[['start', 'val']].values):\n",
        "  for gene, (begin, end) in genes_f_pos.items():\n",
        "    if begin <= start <= end:\n",
        "      f_gene_coverage[start-begin] += count\n",
        "\n",
        "    "
      ],
      "metadata": {
        "colab": {
          "base_uri": "https://localhost:8080/"
        },
        "id": "BwlocUn5Myyu",
        "outputId": "bad2251c-6b91-4329-e856-4e0bc872cbdd"
      },
      "execution_count": 127,
      "outputs": [
        {
          "output_type": "stream",
          "name": "stderr",
          "text": [
            "100%|██████████| 621395/621395 [06:07<00:00, 1693.11it/s]\n"
          ]
        }
      ]
    },
    {
      "cell_type": "code",
      "source": [
        "f_gene_coverage = pd.DataFrame({\n",
        "    'offset': [key for key, _ in f_gene_coverage.items()],\n",
        "    'count': [val for _, val in f_gene_coverage.items()]\n",
        "})\n",
        "f_gene_coverage['color'] = f_gene_coverage.offset % 3\n",
        "f_gene_coverage['color'] = f_gene_coverage['color'].astype(str)\n",
        "\n",
        "fig = px.bar(f_gene_coverage, x=\"offset\", y='count', color='color')\n",
        "fig.show()"
      ],
      "metadata": {
        "colab": {
          "base_uri": "https://localhost:8080/",
          "height": 542
        },
        "id": "fcNW0uZWRFig",
        "outputId": "53abfad5-3bea-4b4a-8dec-f964c0a9c9f4"
      },
      "execution_count": 130,
      "outputs": [
        {
          "output_type": "display_data",
          "data": {
            "text/html": [
              "<html>\n",
              "<head><meta charset=\"utf-8\" /></head>\n",
              "<body>\n",
              "    <div>            <script src=\"https://cdnjs.cloudflare.com/ajax/libs/mathjax/2.7.5/MathJax.js?config=TeX-AMS-MML_SVG\"></script><script type=\"text/javascript\">if (window.MathJax) {MathJax.Hub.Config({SVG: {font: \"STIX-Web\"}});}</script>                <script type=\"text/javascript\">window.PlotlyConfig = {MathJaxConfig: 'local'};</script>\n",
              "        <script src=\"https://cdn.plot.ly/plotly-2.8.3.min.js\"></script>                <div id=\"e1717ed1-2f12-4f76-aceb-165e98805d08\" class=\"plotly-graph-div\" style=\"height:525px; width:100%;\"></div>            <script type=\"text/javascript\">                                    window.PLOTLYENV=window.PLOTLYENV || {};                                    if (document.getElementById(\"e1717ed1-2f12-4f76-aceb-165e98805d08\")) {                    Plotly.newPlot(                        \"e1717ed1-2f12-4f76-aceb-165e98805d08\",                        [{\"alignmentgroup\":\"True\",\"hovertemplate\":\"color=1<br>offset=%{x}<br>count=%{y}<extra></extra>\",\"legendgroup\":\"1\",\"marker\":{\"color\":\"#636efa\",\"pattern\":{\"shape\":\"\"}},\"name\":\"1\",\"offsetgroup\":\"1\",\"orientation\":\"v\",\"showlegend\":true,\"textposition\":\"auto\",\"x\":[1,4,7,10,13,16,19,22,28,34,37,46,49,52,55,58,61,64,25,31,40,43,67,70,82,85,88,91,94,97,100,103,106,109,112,130,133,136,139,142,145,148,151,154,160,163,166,169,172,175,178,184,190,193,199,220,223,226,229,232,235,238,241,244,247,250,253,259,265,277,280,283,286,295,298,304,307,310,313,319,322,328,331,334,337,340,343,346,349,358,361,364,370,373,376,379,382,391,394,397,403,406,409,412,415,418,421,424,427,433,436,439,442,460,466,469,472,475,478,481,484,490,493,496,499,502,508,511,514,517,520,523,526,529,532,535,538,541,547,550,553,556,559,562,565,568,571,574,580,583,586,589,592,595,598,601,604,607,610,613,616,619,628,631,634,637,640,643,646,649,652,655,658,661,664,667,670,673,676,679,682,685,688,691,694,697,700,703,706,709,712,715,718,721,724,727,730,733,736,742,745,751,754,757,760,763,766,769,772,775,778,781,784,787,790,796,799,811,814,817,820,823,826,829,832,838,841,853,856,859,862,865,871,874,877,880,883,889,892,895,898,901,904,907,910,913,916,919,922,925,931,934,937,940,943,946,952,955,958,961,964,967,973,982,985,988,994,997,1000,1012,1015,1021,1024,1027,1030,1033,1036,1039,1042,1045,1048,1054,1060,1063,1066,1069,1072,1078,1081,1084,1087,1090,1093,1099,1102,1105,1108,1114,1117,1120,1123,1126,1129,1138,1141,1150,1153,1156,1159,1162,1171,1174,1177,1180,1183,1186,1189,1195,1198,1201,1204,1207,1210,1213,1216,1219,1222,1225,1228,1231,1237,1240,1252,1255,1258,1261,1270,1273,1279,1282,1285,1288,1294,1297,1300,1306,1309,1318,1321,1327,1330,1333,1336,1339,1342,1345,1348,1351,1354,1360,1363,1369,1372,1375,1378,1387,1390,1393,1396,1399,1402,1405,1411,1420,1423,1426,1429,1432,1435,1438,1441,1444,1447,1450,1453,1456,1459,1462,1465,1468,1471,1474,1483,1486,1492,1495,1498,1501,1507,1510,1513,1516,1519,1522,1528,1531,1540,1543,1549,1552,1561,1567,1573,1576,1579,1585,1591,1594,1600,1603,1606,1615,1624,1630,1633,1642,1645,1648,1651,1654,1666,1669,1672,1675,1678,1681,1690,1696,1699,1702,1705,1708,1711,1714,1717,1720,1726,1729,1732,1735,1738,1741,1744,1747,1750,1753,1756,1759,1768,1771,1774,1777,1780,1783,1786,1789,1792,1795,1798,1801,1804,1807,1813,1816,1819,1822,1825,1828,1831,1834,1837,1840,1843,1846,1852,1861,1864,1867,1870,1873,1876,1879,1885,1888,1891,1897,1900,1903,1906,1909,1912,1915,1918,1921,1930,1933,1936,1939,1942,1951,1954,1957,1963,1966,1969,1972,1975,1978,1981,1984,1987,1990,1996,1999,2002,2005,2008,2011,2014,2020,2023,2026,2029,2032,2035,2038,2041,2044,2047,2050,2053,2056,2059,2065,2068,2071,2074,2077,2080,2089,2092,2104,2107,2110,2113,2116,2119,2122,2128,2131,2134,2137,2143,2149,2152,2155,2158,2161,2167,2176,2179,2185,2188,2191,2194,2197,2200,2203,2206,2209,2212,2215,2224,2227,2230,2233,2242,2245,2248,2251,2254,2257,2260,2263,2266,2269,2275,2278,2281,2284,2287,2290,2293,2296,2299,2305,2308,2320,2323,2326,2329,2332,2335,2350,2359,2362,2365,2368,2371,2377,2380,2383,2386,2389,2392,2395,2401,2404,2407,2410,2413,2416,2422,2425,2428,2431,2434,2437,2440,2443,2446,2449,2452,2455,2458,2461,73,79,115,118,121,124,157,196,205,208,211,214,217,256,262,268,274,289,292,301,355,367,385,430,445,448,451,454,457,463,487,544,577,622,625,802,805,835,847,850,868,928,127,181,187,202,271,316,325,352,388,400,505,739,808,844,886,949,970,976,979,991,1009,1018,1051,1075,1096,1111,1132,1144,1147,1165,1168,1192,1243,1246,1249,1264,1267,1276,76,748,793,1003,1006,1057,1135,1234,1291,1303,1312,1315,1324,1357,1366,1381,1384,1408,1414,1417,1477,1480,1489,1504,1525,1534,1537,1546,1555,1558,1564,1570,1582,1588,1597,1609,1612,1618,1621,1627,1636,1639,1657,1660,1663,1684,1687,1693,1723,1762,1765,1810,1849,1855,1858,1882,1894,1924,1927,1945,1948,1960,1993,2017,2062,2083,2086,2095,2098,2101,2125,2140,2146,2164,2170,2173,2218,2221,2236,2239,2272,2311,2338,2341,2344,2353,2356,2374,2398,2419,2467,2470,2473,2476,2479,2485,2488,2491,2494,2497,2500,2503,2506,2509,2515,2521,2527,2533,2539,2542,2548,2551,2554,2557,2563,2566,2569,2572,2584,2587,2590,2593,2596,2599,2608,2614,2617,2623,2626,2629,2632,2641,2644,2647,2650,2656,2659,2662,2665,2671,2677,2680,2692,2695,2698,2701,2704,2707,2710,2716,2719,2722,2725,2728,2731,2737,2740,2743,2746,2752,2755,2758,2761,2764,2770,2773,2776,2779,2782,2788,2791,2794,2797,2800,2803,2806,2809,2812,2815,2182,2302,2314,2317,2347,2464,2482,2512,2518,2524,2530,2536,2545,2560,2575,2578,2581,2605,2611,2620,2635,2653,2668,2674,2683,2689,2713,2734,2749,2767,2785,2818,2821,2824,2827,2830,2833,2836,2839,2842,2845,2848,2851,2854,2857,2860,2863,2866,2869,2872,2875,2878,2881,2884,2887,2890,2896,2899,2902,2905,2908,2911,2914,2917,2920,2923,2926,2929,2932,2935,2938,2941,2944,2947,2950,2953,2956,2959,2962,2965,2968,2971,2974,2977,2980,2983,2986,2989,2992,2995,2998,3001,3004,3007,3010,3013,3016,3019,3022,3025,3028,3031,3034,3037,3040,3043,3046,3049,3052,3055,3058,3061,3064,3067,3070,3076,3079,3082,3085,3088,3091,3094,3097,3100,3103,3106,3109,3112,3115,3118,3121,3124,3127,3130,3133,3136,3139,3142,3145,3148,3151,3154,3157,3160,3163,3166,3169,3172,3175,3178,3181,3190,3193,3196,3199,3202,3205,3208,3211,3214,3217,3220,2602,2638,3073,3187,3223,3226,3232,3241,3247,3250,3253,3256,3259,3274,3277,3310,3316,3319,3322,3325,3328,3334,3349,3352,3358,3364,3370,3379,3382,3388,3391,3394,3397,3400,3406,3409,3412,3430,3436,3439,3442,3448,3457,3463,3472,3475,3478,3481,3184,3235,3271,3292,3295,3301,3313,3331,3337,3340,3343,3355,3628,3721,3865,3877,3964,4021,4120,4210,4231,4234,4258,3262,3265,3268,3289,3346,3367,3376,3421,3451,3460,3490,3496,3520,3550,3553,3583,3589,3592,3595,3598,3601,3607,3610,3616,3619,3625,3649,3652,3655,3658,3664,3667,3676,3685,3694,3697,3715,3730,3739,3745,3748,3754,3757,3769,3772,3778,3799,3802,3817,3826,3829,3835,3838,3850,3853,3862,3868,3871,3874,3766,3805,3901,3907,3919,3928,4024,4090,2686,3244,3280,3283,3286,3298,3304,3307,3361,3385,3445,3454,3466,3484,3487,3502,3505,3508,3526,3541,3547,3568,3571,3577,3637,3643,3682,3700,3706,3709,3724,3727,3733,3751,3784,3787,3790,3811,3814,3847,3859,3883,3886,3895,3910,3937,3940,3943,3949,3970,3988,3229,3238,3427,3433,3469,3499,3514,3523,3529,3532,3535,3538,3574,3586,3631,3640,3646,3670,3673,3688,3691,3712,3718,3775,3781,3793,3808,3880,3889,3892,3898,3904,3916,3922,3925,3946,3952,3961,3967,3973,3976,3979,3982,3985,3994,3997,4006,4009,4015,4018,4033,4042,4045,4048,4051,4057,4060,4063,4066,4072,4075,4078,4081,4093,4096,4099,4105,4108,4111,4129,4135,4153,4165,4171,4174,4180,4189,4192,4201,4213,4216,4219,4222,4225,4228,4237,4240,4246,4249,4264,4270,4273,4276,4285,4288,4291,4297,4306,4318,4321,4330,4333,4339,4342,4345,4351,4357,4381,4390,4399,4405,4408,4414,4429,4432,4438,4441,4456,4459,3703,3373,3511,3517,3544,3556,3604,3760,3796,3841,3844,3856,3634,4087,4144,4594,4597,3832,4444,4558,4663,4780,4939,5059,5080,5161,5275,5470,5563,5569,5575,5578,5593,5668,5671,5833,5845,5959,5977,6100,6190,6289,6328,6481,6517,6547,6553,6583,6730,6736,6775,6781,6868,6964,7042,7069,3424,3493,3559,2893,3562,3565,3580,3622,3679,3763,3823,3991,4069,4102,4132,4138,4147,4150,4159,4162,4195,4255,4282,4300,4303,4309,4312,4315,4348,4369,4378,4411,4420,4450,4453,3955,4183,3403,3415,3613,3661,3736,3742,3913,3931,3934,3958,4000,4003,4012,4027,3418,3820,4030,4036,4084,4117,4123,4126,4141,4156,4168,4177,4186,4198,4204,4207],\"xaxis\":\"x\",\"y\":[35766,17313,10077,10395,12257,14776,7793,6792,12493,10591,8905,10631,11409,26170,14987,22159,13217,9777,12019,10207,14489,14609,9305,15980,12913,19487,27461,17454,19090,11374,23942,9018,11639,14816,9364,17161,29564,11544,16392,12215,19611,11786,13614,18287,13622,14854,15155,16699,14170,14086,23036,13959,14248,16123,11705,11545,20444,28173,19666,8578,12953,11984,9793,23497,8685,16563,19825,9013,12098,13459,11724,9295,8186,12556,9622,12784,10347,10077,6460,8874,7158,9997,8738,10845,10138,13594,11977,6955,6283,6934,9507,6754,16611,8246,11462,5607,16410,30994,6099,7792,10255,8723,12682,7628,6051,8291,12178,7820,4968,7175,8931,6705,7842,6417,20285,5574,6116,7085,7818,7604,4982,8935,5885,6931,4192,6558,5810,9671,4881,5648,5829,5740,7169,7226,5988,9638,9212,5784,5250,4298,3475,4095,7316,6076,6414,4654,6630,10931,5044,5266,4609,9985,2988,7283,4637,10135,6483,9183,9998,18167,6033,7578,3949,4260,4938,6333,7106,7262,3543,4628,3104,3333,2792,3245,3149,4349,8233,3742,6273,3632,4716,6846,11922,11317,9062,3885,4199,3334,3493,3702,4450,3784,3825,3623,4517,5679,4134,3906,3909,7143,6103,3730,2799,4623,3649,3114,3926,4079,4435,7262,3061,4599,2880,2772,3621,4743,3377,2414,3373,8197,3127,5077,10498,7147,4300,3114,3301,4416,3504,4989,3547,8686,2251,4859,13024,7172,3337,4522,7376,3061,2396,3492,2926,2389,4412,4018,3428,3468,6505,3119,2268,2836,3350,3638,4860,2048,7334,5027,2746,2295,2634,2862,3731,2032,2833,2869,4225,2603,2712,2485,1985,2133,4749,1834,3008,2174,3254,3278,2538,1924,2771,3558,2223,2136,2236,1954,3141,1526,2579,2920,2500,3054,2435,2081,2197,3497,1849,3361,2580,2624,2476,3414,3388,1696,3029,4059,4696,3224,1244,2906,1474,4215,5107,3430,1781,1756,2428,1251,1296,2620,1839,2175,1607,1177,4630,2396,3161,1613,1658,1826,1450,1638,3088,2109,1285,1224,2093,796,4792,1540,1779,1605,2833,1660,1266,2400,1717,1025,964,2416,1767,1610,1171,1451,1629,993,1105,3130,1383,1050,1589,1897,1354,641,1026,1049,817,882,1516,1297,753,2082,793,793,1948,1174,771,1418,2116,761,562,862,1643,1305,1306,1176,1333,968,763,1463,978,1091,2400,908,1586,1114,770,595,871,536,1557,1029,704,1999,704,625,1035,585,476,636,964,1032,1889,812,1153,675,699,1467,479,958,686,706,473,1176,904,4261,643,739,998,1571,1001,984,532,983,535,490,883,814,1689,362,407,488,408,803,348,888,717,474,927,941,720,423,361,475,515,693,257,622,339,1465,543,981,460,377,647,616,268,643,565,444,372,341,307,670,568,435,487,310,594,604,1241,697,300,346,216,279,1082,275,264,404,254,227,1083,219,326,510,319,333,456,602,495,260,255,145,459,265,707,629,483,135,179,359,218,207,306,321,449,212,332,207,364,644,282,382,303,461,139,354,202,390,638,249,264,678,302,858,200,334,180,207,160,241,205,395,191,352,291,419,330,566,482,476,199,133,466,326,129,233,840,1434,505,418,202,152,117,197,206,315,743,402,161,455,221,640,185,141,120,247,207,157,210,247,211,176,264,214,528,1196,190,195,179,338,282,217,225,214,180,432,201,255,283,373,163,525,143,303,263,194,263,241,351,403,230,179,178,286,134,238,289,468,215,198,513,107,822,165,167,211,234,120,134,82,197,363,135,313,562,334,252,298,918,205,340,163,967,300,14077,14558,12789,12155,10907,11680,31974,12629,30240,10688,8291,10956,18232,10150,16299,14700,6950,17050,13390,6377,13402,8871,9614,7886,5870,7520,6542,6341,7789,6171,9171,13816,6400,4352,6650,5786,3844,3442,2783,3658,5550,3376,13060,10082,10228,19002,20963,7564,11274,5513,9140,4985,6860,5424,3773,3753,3615,5342,2967,2882,3459,2378,1931,2244,2596,1493,1952,8057,1636,2482,2445,1304,2310,2048,1555,1752,1849,1957,1983,689,11520,5483,2793,2098,2713,2175,1877,1599,2205,1561,892,1657,2145,1327,2085,1451,1153,886,1622,1870,791,956,798,1414,1586,608,1573,1593,541,2219,1574,437,544,811,1012,555,1771,605,560,441,1052,868,688,915,865,629,402,639,603,1054,314,497,459,310,240,330,413,381,1445,247,167,134,338,359,157,432,517,91,329,233,306,213,489,85,264,661,428,204,339,184,371,247,164,159,357,230,331,104,63,209,133,368,256,115,115,124,94,111,136,88,114,123,262,173,81,106,54,252,208,338,175,49,70,170,91,114,400,692,139,317,169,83,301,150,62,65,85,485,104,106,59,279,101,15,115,79,106,131,203,211,169,44,55,79,101,1084,816,565,277,61,80,347,55,72,67,26,33,112,114,159,70,127,203,375,86,145,242,48,139,257,132,120,179,93,97,153,306,22,41,605,151,354,1394,2659,96,119,573,130,101,120,1024,251,170,149,154,140,85,130,137,49,372,51,292,50,38,280,133,373,284,103,40,73,46,61,254,48,17,60,95,27,18,44,95,65,36,391,279,106,185,25,528,22,53,40,69,157,49,78,184,45,89,39,494,44,19,53,255,67,104,52,55,41,21,50,372,97,47,22,82,37,17,13,51,43,139,32,171,56,817,42,173,19,27,18,20,38,42,112,130,9,48,243,397,99,24,154,262,45,124,80,39,176,207,48,112,27,25,171,62,134,13,53,180,24,37,15,19,61,89,58,724,827,143,228,229,31,95,323,44,183,74,93,76,86,23,79,41,46,58,40,46,35,272,391,63,17,31,89,917,337,54,113,234,26,57,41,40,21,30,19,147,33,19,22,64,612,24,33,27,50,101,492,32,48,122,50,58,21,115,233,15,35,49,49,211,17,13,27,15,19,18,33,30,26,34,32,18,53,278,79,10,43,90,46,118,53,82,227,29,43,21,8,82,142,86,334,1126,22,323,2,11,4,44,38,103,44,110,108,200,12,17,34,125,29,54,107,1265,22,18,11,20,69,37,50,120,29,300,13,17,26,6,16,35,114,25,43,3,18,5,61,19,35,12,5,29,19,54,53,35,78,11,70,14,136,146,16,31,32,9,327,25,98,11,22,142,79,98,996,23,55,11,11,10,28,99,84,170,114,52,87,309,219,17,9,19,29,24,71,190,59,15,133,237,44,120,50,17,87,53,79,161,166,15,110,21,24,5,18,73,45,31,47,177,32,709,170,23,65,11,141,25,146,73,123,61,9,298,17,32,47,28,144,9,17,28,416,16,471,106,26,10,40,35,159,61,28,55,9,104,132,53,136,19,43,36,20,171,7,137,24,41,103,21,105,18,29,11,57,38,27,5,6,3,14,11,6,5,34,16,5,183,5,6,12,8,3,26,35,34,17,160,3,12,12,145,7,20,91,5,38,26,570,7,7,14,7,5,3,4,1,1,67,30,4,1,3,2,9,37,3,3,1,2,1,10,1,1,1,4,6,1,2,4,1,2,9,8,2,1,35,87,133,7,17,245,25,18,17,29,26,24,55,8,4,1,1,20,1,1,1,1,2,1,1,1,2,2,1,3,1,1,2,3,1,1,1,1,2,1,1,1,1,2,1,1,1,1,1,1,3,2,3,1,1,2,13,5,64,50,21,41,33,9,24,44,39,67,80,2,8,44,19,47,45,9,15,1,1,4,1,1,2,1,9,1,1,1,1,1,4,33,7,17,502,18,47,16,5,73,21,52,6,206,3,4,5,14,13,3,21,23,5,4,9,39,11,3,6,6,8,12,2],\"yaxis\":\"y\",\"type\":\"bar\"},{\"alignmentgroup\":\"True\",\"hovertemplate\":\"color=2<br>offset=%{x}<br>count=%{y}<extra></extra>\",\"legendgroup\":\"2\",\"marker\":{\"color\":\"#EF553B\",\"pattern\":{\"shape\":\"\"}},\"name\":\"2\",\"offsetgroup\":\"2\",\"orientation\":\"v\",\"showlegend\":true,\"textposition\":\"auto\",\"x\":[2,5,11,14,17,23,29,32,35,38,44,47,50,53,56,59,65,8,20,26,41,62,68,71,77,80,86,89,92,95,98,101,104,107,113,116,131,134,137,140,143,146,152,155,158,161,164,167,170,173,179,185,191,194,200,203,215,218,221,227,230,233,236,239,242,245,248,251,254,263,266,269,272,275,281,284,287,290,296,299,302,305,314,317,320,326,329,332,335,338,341,344,347,359,362,365,371,374,377,380,383,386,389,392,395,398,404,407,410,413,416,422,425,428,434,437,440,443,446,449,452,458,461,464,467,470,476,479,482,488,491,497,500,503,506,509,518,521,524,527,530,533,536,539,542,551,554,560,563,566,569,572,575,578,581,584,587,590,596,599,602,605,608,611,614,617,620,623,629,632,635,638,644,647,653,656,662,665,668,671,674,677,680,683,689,692,695,698,701,704,707,710,713,716,719,722,725,728,731,734,737,740,743,746,749,752,755,758,761,764,767,770,773,776,779,782,785,791,812,818,821,824,827,833,836,839,842,848,854,857,860,863,866,869,875,878,881,884,887,890,893,899,902,905,911,914,917,920,923,926,929,935,938,941,944,947,953,956,959,962,965,968,971,974,980,986,989,998,1010,1013,1016,1019,1022,1025,1028,1034,1037,1040,1043,1046,1049,1055,1061,1067,1070,1073,1079,1082,1085,1088,1091,1094,1097,1100,1103,1106,1109,1112,1115,1118,1121,1124,1127,1130,1133,1139,1142,1145,1148,1151,1154,1157,1163,1169,1172,1175,1178,1181,1184,1187,1193,1196,1199,1202,1205,1208,1211,1214,1217,1220,1223,1226,1229,1232,1238,1241,1247,1250,1253,1256,1259,1262,1265,1277,1283,1286,1289,1292,1295,1298,1301,1304,1310,1313,1319,1322,1325,1328,1331,1337,1340,1343,1346,1349,1352,1355,1358,1364,1370,1373,1376,1382,1385,1388,1391,1400,1409,1412,1415,1421,1424,1427,1430,1433,1436,1442,1445,1454,1457,1460,1463,1466,1469,1472,1475,1481,1487,1490,1496,1499,1502,1505,1508,1511,1514,1517,1520,1523,1526,1529,1532,1535,1538,1541,1547,1550,1553,1556,1559,1562,1565,1568,1571,1574,1577,1580,1583,1586,1589,1592,1601,1604,1607,1610,1616,1619,1622,1625,1628,1631,1637,1640,1643,1646,1649,1652,1655,1658,1661,1664,1667,1670,1673,1676,1679,1682,1685,1688,1691,1694,1697,1700,1703,1706,1709,1712,1715,1718,1721,1724,1727,1733,1736,1739,1742,1745,1748,1751,1754,1757,1772,1775,1781,1784,1787,1790,1793,1796,1799,1802,1805,1808,1814,1817,1820,1823,1826,1829,1832,1835,1838,1841,1844,1850,1853,1856,1859,1862,1865,1868,1871,1874,1877,1880,1883,1886,1889,1895,1898,1901,1907,1910,1913,1916,1919,1922,1928,1931,1934,1937,1940,1946,1949,1958,1961,1964,1967,1970,1973,1976,1982,1988,1991,1994,1997,2000,2003,2006,2009,2012,2015,2018,2024,2027,2030,2033,2036,2039,2042,2048,2054,2057,2060,2063,2066,2069,2072,2075,2081,2084,2087,2090,2093,2096,2099,2102,2105,2108,2111,2114,2117,2120,2123,2126,2132,2135,2138,2144,2147,2150,2153,2156,2159,2162,2168,2171,2174,2180,2186,2192,2195,2198,2201,2204,2207,2210,2216,2219,2225,2228,2231,2234,2237,2240,2243,2246,2249,2252,2255,2258,2261,2264,2267,2270,2276,2279,2282,2285,2288,2291,2294,2297,2300,2306,2312,2315,2321,2324,2330,2333,2336,2339,2348,2351,2357,2360,2363,2366,2369,2375,2378,2381,2384,2387,2390,2396,2399,2402,2408,2411,2414,2423,2426,2429,2432,2435,2438,2441,2444,2447,2450,2453,2456,2459,83,110,119,122,125,128,149,182,188,197,206,209,212,224,257,260,278,293,311,323,350,353,356,368,419,431,455,473,485,548,626,641,650,659,788,794,803,809,815,830,845,851,872,896,908,932,74,176,308,401,494,512,515,545,557,593,686,797,806,950,977,983,992,995,1004,1007,1052,1058,1064,1076,1160,1166,1190,1244,1268,1271,1274,1280,800,1001,1031,1136,1235,1307,1316,1334,1361,1367,1379,1394,1397,1403,1418,1439,1448,1451,1478,1484,1493,1544,1595,1598,1613,1634,1730,1760,1763,1766,1769,1778,1811,1847,1892,1904,1406,1925,1943,1952,1979,1985,2021,2078,2129,2141,2165,2177,2183,2189,2222,2273,2303,2309,2318,2327,2342,2354,2393,2405,2417,2420,2462,2465,2468,2471,2474,2477,2483,2486,2489,2492,2495,2498,2501,2507,2510,2513,2516,2522,2525,2531,2534,2537,2546,2549,2552,2555,2558,2564,2567,2570,2585,2588,2591,2594,2597,2600,2606,2618,2624,2627,2633,2636,2642,2648,2651,2654,2660,2663,2666,2672,2675,2678,2681,2687,2693,2696,2699,2702,2705,2708,2711,2714,2717,2720,2723,2726,2729,2732,2735,2738,2741,2747,2750,2753,2756,2759,2762,2765,2768,2771,2774,2777,2780,2783,2786,2789,2792,2795,2798,2801,2804,2807,2810,2813,2816,1955,2045,2051,2213,2345,2372,2480,2504,2528,2540,2543,2573,2576,2579,2582,2603,2609,2612,2615,2621,2630,2639,2645,2657,2669,2684,2690,2744,2819,2822,2825,2828,2831,2834,2837,2840,2843,2846,2849,2852,2855,2858,2861,2864,2867,2870,2873,2876,2879,2882,2885,2888,2891,2894,2897,2900,2903,2906,2909,2912,2915,2918,2921,2924,2927,2930,2933,2936,2939,2942,2945,2948,2951,2954,2957,2960,2963,2966,2969,2975,2978,2981,2984,2987,2990,2993,2996,2999,3002,3005,3008,3011,3014,3017,3020,3023,3026,3029,3032,3035,3041,3044,3047,3050,3053,3056,3059,3062,3065,3068,3071,3074,3077,3080,3083,3086,3089,3092,3095,3098,3101,3104,3110,3113,3116,3119,3122,3125,3131,3134,3137,3140,3143,3146,3149,3152,3155,3158,3161,3164,3167,3170,3173,3176,3179,3182,3188,3191,3194,3197,3200,3203,3206,3209,3212,3215,3218,3221,2519,2561,3233,3251,3257,3260,3266,3269,3272,3287,3296,3299,3308,3314,3317,3326,3329,3332,3350,3371,3380,3383,3386,3389,3392,3395,3398,3401,3407,3416,3437,3440,3443,3446,3449,3452,3455,3458,3464,3467,3470,3473,3476,3479,3185,3230,3245,3275,3284,3290,3293,3311,3320,3335,3338,3344,3347,3569,3860,3881,4031,4043,4055,4076,4079,4085,4088,4091,4127,4184,4259,4274,2972,3038,3224,3242,3248,3254,3263,3323,3353,3377,3410,3422,3488,3491,3494,3509,3521,3527,3536,3566,3575,3587,3593,3596,3605,3611,3623,3629,3638,3644,3650,3653,3662,3665,3686,3695,3698,3701,3716,3722,3737,3740,3758,3764,3767,3770,3773,3776,3782,3785,3794,3797,3800,3803,3824,3827,3830,3836,3848,3854,3863,3872,3875,3878,3518,3545,3788,4010,4064,4187,3107,3227,3239,3281,3302,3341,3428,3431,3434,3461,3497,3503,3539,3548,3554,3557,3578,3584,3608,3626,3632,3635,3641,3656,3659,3677,3680,3704,3707,3710,3713,3725,3728,3734,3752,3779,3791,3806,3809,3815,3842,3851,3866,3890,3899,3908,3911,3920,3923,3938,3944,3947,3950,3965,3968,3971,3977,3980,3983,3128,3278,3305,3356,3359,3368,3404,3413,3425,3482,3500,3506,3512,3515,3524,3530,3533,3551,3560,3581,3590,3599,3602,3614,3620,3647,3671,3683,3689,3719,3746,3749,3755,3761,3812,3845,3857,3884,3887,3893,3896,3905,3917,3926,3929,3932,3935,3941,3953,3962,3974,3986,3995,3998,4007,4013,4016,4019,4022,4025,4028,4040,4046,4052,4061,4073,4094,4100,4103,4106,4109,4118,4121,4130,4139,4142,4145,4151,4157,4166,4169,4172,4178,4190,4193,4196,4199,4202,4205,4208,4214,4217,4220,4223,4226,4229,4232,4235,4238,4241,4244,4253,4256,4262,4265,4268,4271,4277,4286,4289,4304,4316,4319,4322,4325,4328,4331,4340,4343,4346,4352,4355,4358,4361,4364,4367,4382,4391,4397,4400,4406,4409,4412,4415,4421,4430,4433,4439,4442,4448,4457,4460,3236,3365,3374,3485,3563,3617,3692,3731,3818,3839,3869,3542,3668,4049,4349,4523,4598,4163,4535,4613,4703,4769,4850,4937,5054,5081,5165,5555,5585,5594,5639,5720,5861,5951,5969,6059,6221,6263,6314,6359,6386,6425,6476,6500,6509,6554,6578,6686,6704,6725,6728,6740,6743,6773,6776,6779,6797,6842,6875,6884,6887,6971,7010,7013,7016,7019,7034,7070,3419,3572,3674,3821,3956,3992,4058,4112,4115,4133,4136,4175,4211,4250,4280,4283,4292,4313,4370,4376,4379,4418,4424,4454,4082,4097,4034,3362,3743,3833,3902,3914,3959,3989,4001,4004,4037,4067,4070,4124,4148,4160,4181],\"xaxis\":\"x\",\"y\":[53857,26522,12703,30040,22117,14743,11528,18726,21389,16084,15465,15414,36980,26444,28327,31377,19703,33019,13715,15367,22528,21934,18130,15005,16187,41431,30686,22576,20954,17391,25375,25687,30259,16928,18733,14011,28338,46276,18934,23126,28097,23927,21572,42895,28911,21422,37227,19482,19025,20123,32348,18667,28605,20340,19018,24857,12029,16958,23788,23034,28695,12149,14415,13038,20002,30246,25193,26291,13056,14456,17587,28704,19366,19781,10574,12895,16572,15947,37906,11797,12585,19780,11222,9579,9045,23460,18413,20333,17858,15479,12033,15272,10838,10706,11059,16181,13517,9627,9938,10353,10205,10446,13150,13023,12335,13742,11081,16623,12372,14135,10210,23088,10932,9666,8523,10470,9390,63083,11597,17131,7916,9082,10164,17009,11301,11671,7892,15544,11566,10385,9757,11661,7825,8492,6541,9569,6611,8501,5482,11975,13401,21798,8009,25263,17014,5848,9013,8778,7848,7571,7390,23436,13488,9603,7672,4984,9433,8015,7064,5512,7316,6409,8689,8758,7089,10609,7512,6789,9404,9178,11183,10007,9667,7050,5741,5495,8853,8749,5554,6524,4778,10294,11466,6877,7110,8971,7125,6777,4905,23831,6249,6420,10497,5519,14062,3756,5965,9185,5934,4465,9373,12130,5224,6489,4108,4435,4195,9006,8554,4152,5628,14092,14534,8951,5278,4522,4593,3066,6389,6429,5107,4026,6415,6042,4161,5573,4643,8090,7155,6913,3466,6144,15742,2990,6456,7438,4784,4718,4985,5497,5803,9300,3173,6689,10129,3888,2795,3709,6131,5143,2968,2790,3912,5585,3575,4592,8068,3932,5652,4111,7015,4538,5308,6579,5103,3357,3047,2881,3576,3483,3006,6786,3911,7860,3161,4939,1883,4075,3187,4919,3142,3659,2999,2486,3631,3365,1848,5467,3496,3865,3512,4374,3284,3896,2685,4001,4400,2151,2312,5294,3109,3098,2721,2584,4979,4234,5763,21328,2487,3120,7694,5111,2271,3286,2367,3059,2952,3337,2496,2587,2500,2647,1972,3219,4243,2686,3739,2843,2903,3256,3735,2275,1501,2436,5931,3719,5034,2310,4143,3112,1541,2949,2742,2403,2202,3948,2618,19751,7549,1927,2303,2068,1549,2412,1534,2129,2184,2567,2725,2028,1737,1642,2078,1995,9598,2776,851,1581,1929,1592,811,1099,2116,1529,1489,1144,2150,1091,3417,967,1902,1196,3116,1415,1288,1420,1670,2346,1022,1205,1573,1119,1132,1638,1543,1292,1115,1163,1135,763,1002,2027,1231,1787,1408,1472,1611,2293,904,1002,1056,2897,3481,1122,1501,1899,1323,1235,2536,3195,1533,1426,1010,1573,883,742,1689,1707,1661,917,827,1559,1169,708,1091,906,581,737,1079,2091,1236,1501,2335,1963,754,732,2630,802,1078,2085,3260,1473,1182,764,637,590,585,855,930,654,794,1043,1127,689,548,1305,754,766,1305,664,738,558,1292,863,873,708,502,572,1534,395,1188,869,585,558,680,721,1128,1209,519,576,1252,691,886,1780,970,437,1721,442,423,1078,1023,430,552,779,731,1170,956,650,795,499,1124,516,496,502,816,662,279,732,715,503,1281,1243,350,332,214,250,865,1288,372,573,426,389,247,556,503,1035,272,946,410,391,704,338,360,374,854,1373,727,320,438,697,663,401,521,513,466,247,383,326,303,800,186,179,644,218,995,433,988,473,974,553,475,277,777,247,419,737,381,214,252,270,494,541,559,380,635,386,621,507,250,202,253,400,208,510,763,296,799,407,420,220,510,385,393,240,209,182,394,498,169,336,472,419,410,571,526,534,953,803,361,270,244,264,398,501,341,200,253,190,328,524,876,326,421,621,321,421,521,1454,574,260,512,227,236,289,183,940,168,183,287,235,368,362,360,488,406,168,203,136,252,151,420,265,435,174,359,775,590,336,361,212,404,520,1466,222,14196,12940,30281,20193,23991,27478,22069,23574,79442,15960,28110,20952,14070,22821,12200,10654,31939,19107,13073,18752,10710,10237,12651,10391,10829,9164,9709,15837,10595,7013,7871,6406,4653,4178,4407,9430,8294,10200,5930,5742,6256,4912,7638,3528,3054,3255,20198,22036,16572,9326,9797,8820,6803,8994,10093,6344,9616,6741,6556,5517,4147,4917,2746,4039,2691,3253,2469,4109,2903,3573,3331,2132,3780,3054,1557,1838,1879,3760,5860,3658,3062,1777,2074,1851,1866,1169,2569,1942,1333,1442,1693,1452,1472,1703,1605,1523,1460,1387,1783,1047,1330,1997,1122,808,479,743,946,482,880,765,1622,416,652,516,2227,449,371,552,429,356,525,644,486,148,580,257,332,484,425,319,164,130,685,1030,118,428,502,180,206,404,244,107,200,343,441,220,179,219,453,280,155,400,388,420,345,300,106,165,349,289,230,170,195,170,351,207,339,140,338,168,995,77,319,303,348,442,76,439,434,171,174,347,211,65,308,449,126,206,130,276,220,209,76,148,55,43,441,2334,357,253,699,193,178,483,119,61,809,264,122,73,150,53,91,159,163,656,192,1251,177,340,155,224,560,75,63,160,224,127,285,49,77,144,245,25,146,526,405,297,498,420,98,234,129,203,689,189,507,666,254,214,230,392,122,99,353,81,158,115,1971,33,138,139,108,110,572,20,271,296,601,56,784,62,121,48,108,239,126,81,47,1144,353,41,54,75,67,155,32,62,92,164,40,122,208,20,34,116,167,112,30,89,1940,910,145,43,193,31,61,354,734,36,49,73,295,157,31,196,96,91,150,57,181,625,85,282,37,200,52,32,77,91,235,103,172,353,216,114,57,69,124,144,329,54,165,429,75,242,45,22,30,37,208,72,194,56,155,843,117,23,55,53,204,78,104,209,262,350,34,207,32,177,279,31,44,277,233,272,136,236,73,65,213,60,158,47,207,169,97,42,64,247,3309,195,68,140,158,130,31,15,5,74,149,382,56,36,61,72,144,45,348,25,104,66,31,186,100,14,63,53,81,19,78,17,55,16,36,80,89,96,112,1121,242,72,46,169,22,34,212,41,41,166,168,23,68,81,86,84,27,238,30,84,31,273,28,49,10,9,44,23,265,35,16,10,33,6,21,49,298,244,83,309,14,385,104,101,181,164,12,44,88,16,252,421,26,45,192,158,39,99,33,164,36,174,13,886,107,21,51,351,44,10,31,103,100,9,20,208,33,56,127,33,61,182,46,116,98,10,42,110,76,181,29,22,41,760,151,22,305,231,16,10,60,30,429,35,4,17,340,27,29,107,19,24,21,48,23,320,86,208,32,248,132,50,32,491,38,21,190,196,90,55,25,24,77,27,120,57,103,19,613,58,29,34,116,123,187,25,12,32,86,182,106,33,67,287,517,99,11,85,15,40,25,51,45,50,191,54,191,2,138,39,247,202,7,631,7,72,64,98,28,12,57,91,12,266,44,48,40,15,52,217,203,83,113,280,20,36,21,27,13,166,26,28,68,64,557,79,24,36,48,150,22,87,88,111,122,135,122,94,90,63,93,102,3688,254,42,22,30,4,24,8,5,5,10,41,4,23,5,46,144,347,248,1,2,125,35,34,8,17,29,131,19,24,41,5,24,66,32,8,2,3,2,4,2,6,3,7,4,15,7,5,16,13,5,8,13,9,9,4,1,6,2,1,8,5,5,1,4,6,5,1,3,12,5,29,6,1,2,2,7,2,6,6,12,9,1,1,10,22,67,224,148,225,69,225,24,87,24,89,370,29,1,1,1,11,1,1,1,1,1,1,1,1,1,1,3,1,1,1,1,1,1,1,1,1,1,1,1,1,1,2,1,2,1,1,1,1,8,1,2,2,1,2,1,1,1,1,3,1,3,1,1,1,1,3,123,50,14,230,119,106,13,79,2,123,8,36,44,1,1,9,2,14,1,1,9,2,1,2,98,2,46,392,72,20,52,49,13,31,614,49,19,13,72,15,38,39,2],\"yaxis\":\"y\",\"type\":\"bar\"},{\"alignmentgroup\":\"True\",\"hovertemplate\":\"color=0<br>offset=%{x}<br>count=%{y}<extra></extra>\",\"legendgroup\":\"0\",\"marker\":{\"color\":\"#00cc96\",\"pattern\":{\"shape\":\"\"}},\"name\":\"0\",\"offsetgroup\":\"0\",\"orientation\":\"v\",\"showlegend\":true,\"textposition\":\"auto\",\"x\":[3,12,15,24,30,33,39,45,48,51,54,57,60,63,0,6,9,18,21,27,36,42,78,81,84,87,90,93,96,99,102,105,108,129,132,135,138,141,144,147,150,159,162,165,168,171,180,186,189,192,195,201,204,213,216,225,228,231,234,237,240,243,246,249,252,255,258,264,282,285,288,291,297,300,303,309,321,324,327,330,333,336,339,342,345,348,357,372,378,381,387,396,399,402,405,408,411,417,420,423,429,438,441,447,450,459,462,465,468,471,474,477,480,486,492,501,504,510,513,516,522,525,528,531,537,540,546,549,558,561,564,567,570,576,582,585,588,591,594,600,603,606,609,612,615,627,630,633,636,639,642,645,648,657,663,666,669,675,678,681,684,687,693,696,699,702,705,708,711,714,717,720,723,726,729,732,735,738,741,744,747,750,753,756,759,765,768,774,780,783,786,789,792,798,813,816,819,822,825,828,834,840,846,849,852,855,858,864,867,870,876,879,882,885,888,891,900,903,906,909,912,915,918,921,927,930,933,936,942,945,948,951,954,957,960,966,981,987,990,993,996,999,1002,1005,1008,1011,1014,1017,1023,1026,1035,1038,1041,1059,1062,1065,1068,1071,1074,1080,1083,1089,1092,1095,1098,1101,1104,1107,1110,1113,1116,1119,1125,1128,1131,1134,1137,1140,1143,1149,1152,1155,1158,1161,1164,1173,1176,1182,1185,1188,1191,1197,1200,1203,1206,1209,1212,1215,1218,1221,1224,1227,1230,1233,1239,1245,1251,1254,1260,1263,1269,1281,1284,1287,1290,1293,1296,1299,1302,1305,1308,1311,1314,1320,1323,1326,1329,1332,1335,1338,1341,1344,1347,1350,1353,1359,1362,1365,1371,1377,1383,1386,1389,1392,1404,1410,1413,1416,1419,1422,1425,1428,1431,1434,1440,1446,1458,1467,1476,1488,1491,1494,1500,1503,1506,1509,1512,1515,1518,1521,1524,1527,1530,1533,1539,1542,1548,1551,1554,1560,1563,1566,1569,1575,1578,1581,1590,1593,1602,1605,1608,1617,1641,1644,1647,1650,1653,1659,1662,1665,1668,1671,1674,1680,1689,1692,1695,1701,1704,1707,1713,1716,1719,1731,1734,1737,1743,1746,1752,1755,1761,1767,1773,1782,1785,1788,1794,1797,1800,1809,1818,1821,1824,1827,1830,1833,1836,1839,1842,1845,1848,1854,1857,1860,1869,1872,1878,1884,1887,1890,1893,1896,1899,1902,1905,1908,1917,1923,1929,1932,1935,1938,1941,1944,1950,1953,1965,1968,1974,1977,1983,1986,1989,1992,1995,1998,2001,2004,2007,2010,2016,2019,2022,2025,2028,2031,2034,2037,2040,2043,2046,2052,2055,2058,2061,2064,2067,2070,2073,2076,2085,2091,2103,2106,2109,2112,2115,2118,2121,2127,2130,2133,2136,2142,2145,2148,2151,2154,2157,2163,2166,2169,2175,2178,2181,2184,2187,2190,2193,2196,2199,2202,2205,2208,2214,2217,2223,2232,2235,2238,2241,2250,2253,2256,2259,2262,2265,2271,2274,2280,2286,2289,2292,2298,2301,2307,2316,2319,2322,2325,2331,2334,2349,2358,2361,2364,2367,2370,2373,2376,2379,2385,2388,2391,2397,2400,2406,2409,2412,2415,2418,2424,2427,2430,2433,2436,2439,2442,2445,2448,2451,2454,2457,2460,66,69,72,111,114,117,120,156,198,207,210,219,261,270,276,279,294,306,312,315,351,375,390,393,426,432,435,444,453,489,534,543,555,573,579,597,624,651,654,690,771,777,804,831,861,873,894,897,924,75,123,174,177,222,267,273,318,354,360,363,366,369,414,456,483,495,498,507,519,552,618,621,660,762,795,843,939,963,969,972,975,978,984,1020,1029,1044,1047,1050,1053,1077,1086,1122,1146,1167,1170,1179,1194,1236,1266,1272,1275,1278,153,183,126,384,672,801,807,810,837,1032,1056,1242,1248,1257,1317,1356,1374,1380,1395,1398,1401,1407,1437,1443,1449,1452,1455,1461,1464,1470,1473,1479,1482,1485,1497,1536,1545,1557,1572,1584,1587,1596,1599,1611,1614,1620,1623,1626,1629,1632,1635,1638,1656,1677,1683,1686,1698,1710,1722,1725,1728,1740,1749,1758,1764,1770,1776,1779,1791,1803,1806,1812,1815,1851,1863,1866,1875,1881,1911,1914,1368,1920,1926,1959,1962,1971,1980,2013,2049,2079,2082,2088,2094,2097,2100,2124,2139,2160,2172,2211,2220,2226,2229,2244,2247,2268,2277,2283,2310,2328,2343,2346,2355,2382,2394,2421,2463,2466,2469,2472,2475,2478,2481,2484,2487,2490,2493,2496,2499,2502,2505,2508,2511,2514,2517,2523,2526,2529,2532,2535,2538,2547,2550,2553,2556,2559,2562,2565,2568,2571,2583,2586,2592,2595,2598,2601,2604,2613,2616,2628,2631,2634,2637,2640,2643,2646,2649,2652,2658,2661,2664,2667,2670,2673,2676,2679,2688,2691,2694,2697,2700,2703,2706,2709,2712,2715,2718,2724,2727,2730,2733,2736,2739,2745,2748,2751,2754,2757,2760,2766,2769,2772,2775,2778,2781,2784,2787,2793,2796,2799,2802,2805,2808,2811,2814,1947,1956,2295,2304,2313,2337,2340,2352,2403,2520,2541,2544,2574,2577,2580,2607,2610,2619,2622,2625,2655,2682,2685,2721,2763,2820,2823,2826,2829,2832,2835,2838,2841,2844,2847,2850,2853,2856,2859,2862,2868,2871,2877,2880,2883,2886,2889,2892,2895,2898,2901,2904,2907,2910,2913,2916,2919,2922,2925,2928,2931,2934,2937,2943,2946,2949,2952,2955,2958,2961,2964,2967,2970,2973,2976,2979,2982,2985,2988,2991,2994,3000,3003,3006,3009,3012,3015,3018,3021,3024,3033,3036,3039,3042,3045,3048,3051,3054,3057,3060,3063,3066,3069,3072,3078,3081,3084,3087,3090,3093,3096,3099,3102,3105,3111,3114,3117,3123,3126,3132,3135,3141,3144,3147,3150,3153,3156,3159,3162,3165,3168,3171,3174,3177,3180,3183,3186,3189,3192,3195,3198,3201,3204,3207,3210,3213,3216,3219,2589,2997,3027,3075,3120,3138,3234,3237,3243,3258,3273,3276,3282,3288,3309,3315,3318,3321,3324,3327,3330,3351,3360,3363,3369,3372,3384,3387,3390,3393,3402,3405,3435,3438,3441,3447,3453,3459,3468,3474,3477,3030,3285,3300,3333,3336,3339,3345,3378,3720,3837,3879,3882,3984,4023,4131,4230,4272,2865,2940,3240,3255,3279,3312,3354,3399,3420,3426,3432,3444,3450,3489,3492,3498,3525,3549,3564,3570,3582,3591,3594,3597,3600,3609,3621,3627,3642,3645,3648,3651,3657,3660,3663,3666,3678,3684,3696,3705,3717,3732,3750,3756,3765,3768,3771,3780,3786,3795,3810,3849,3852,3855,3876,3303,3504,3888,3915,4044,4104,2874,3108,3222,3252,3261,3267,3270,3291,3348,3375,3408,3411,3429,3465,3480,3495,3507,3513,3516,3540,3543,3555,3573,3603,3630,3687,3702,3714,3735,3744,3747,3759,3783,3792,3807,3813,3816,3819,3861,3864,3867,3906,3921,3936,3942,3945,3960,3963,3969,3975,3129,3228,3246,3264,3294,3306,3342,3381,3414,3423,3456,3462,3471,3510,3519,3528,3531,3534,3552,3561,3567,3585,3588,3612,3615,3639,3669,3672,3690,3723,3738,3741,3774,3777,3804,3822,3825,3831,3834,3840,3846,3858,3873,3885,3891,3897,3909,3912,3918,3924,3927,3933,3948,3951,3954,3966,3978,3981,3990,3999,4005,4011,4014,4017,4020,4026,4029,4032,4038,4041,4047,4053,4056,4059,4062,4065,4068,4071,4074,4077,4083,4086,4092,4095,4107,4110,4119,4128,4137,4140,4158,4161,4167,4170,4173,4176,4179,4197,4212,4215,4218,4221,4224,4227,4233,4239,4242,4251,4257,4263,4266,4269,4281,4290,4293,4317,4320,4332,4347,4353,4356,4362,4368,4377,4380,4392,4398,4404,4407,4410,4413,4428,4431,4437,4440,4443,4458,3537,3606,2790,2817,3225,3357,3366,3396,3579,3618,3636,3654,3675,3681,3726,3789,3798,3843,3894,3900,4284,4563,4578,4596,4164,4599,4746,5058,5148,5298,5409,5481,5517,5586,5595,5628,5637,5664,5712,5820,5925,6015,6054,6087,6111,6129,6387,6408,6519,6522,6699,6729,6738,6741,6777,6837,6885,6951,6957,6987,7044,7065,7068,2742,3483,3417,3633,3729,3939,3987,3996,4035,4080,4089,4098,4101,4146,4260,4299,4302,4308,4311,4314,4335,4383,4416,4419,4434,4449,4452,4455,3486,3231,3249,3297,3501,3522,3546,3558,3576,3624,3699,3708,3753,3762,3870,3903,3930,3957,3993,4002,3693,3711,3801,3828,3972,4008,4050,4113,4116,4122,4125,4134,4143,4149,4152,4155,4182,4185,4188,4191,4194,4200,4206,4209],\"xaxis\":\"x\",\"y\":[15873,6917,11791,7360,13384,10836,9689,13282,6810,13976,9684,21440,12998,10615,65321,10354,10105,11708,6216,18216,9667,8973,8959,12072,7630,13753,9946,9623,10108,10539,10541,7991,10735,10893,11126,9252,9839,11381,7866,11448,9374,8726,7152,6978,10870,9784,12247,16726,12710,7724,11699,10371,62662,6065,7509,8631,9478,243752,8577,4827,6349,6644,12039,7115,8819,10887,4526,10344,5486,6606,5938,8284,8101,8708,5307,6752,5486,5267,6310,7835,14277,6578,6805,5358,4922,3620,4756,4391,5398,7222,6120,4763,7836,4035,4636,7379,4552,5679,6394,5081,4612,4553,5067,5396,4920,5021,3734,6167,3735,4234,4550,3432,4492,6012,26917,3390,5113,9058,3450,3279,7223,2913,3400,5286,7345,6844,3143,2699,3662,6108,3255,2837,3575,14242,2625,3949,4185,3538,2658,4223,3043,4855,2898,3436,3934,3031,5056,3062,3104,4349,2754,2611,3178,2755,2075,4133,3635,6136,3231,3598,4806,7378,4265,3110,2678,4725,4132,2160,2970,3278,2799,3469,3161,3442,4029,3139,2066,4467,2374,5558,2392,6509,2662,2498,2141,2364,4245,3542,1922,2812,1804,2035,2761,3135,1918,2365,2124,4620,5675,2287,3255,2343,2349,2894,1797,1620,2148,3335,2988,1730,2480,1979,2344,2349,3480,2151,1916,1939,2122,1746,2417,2263,1623,1768,1865,1909,3591,1852,3298,2304,1977,2794,2582,1372,1562,2192,1143,1694,2994,2182,1203,1856,2112,2825,1123,2062,1362,1634,2361,1123,2987,3189,1612,1244,1058,1748,1824,1134,1535,1399,1272,4971,1214,953,1844,1774,10062,2368,3487,1545,4429,1745,1869,2513,1057,1345,1324,2310,1668,1499,2575,1945,1025,879,1113,1344,1710,1555,1286,1494,1627,1410,1533,1902,1985,784,912,1050,1044,1185,1070,726,1152,1036,1454,880,1883,2382,1524,740,622,1797,1161,1196,1924,2891,2477,1142,703,989,696,1311,997,782,724,1015,1307,752,2197,1438,835,807,634,1496,814,793,1193,2344,1083,549,396,417,533,429,640,783,1315,530,530,956,1000,948,909,789,638,829,1242,598,459,563,1742,841,370,527,562,393,523,727,492,1122,2350,1176,460,776,491,617,488,391,369,817,1139,743,406,380,623,488,308,1927,845,544,490,431,809,442,433,972,658,822,575,383,14956,422,524,206,317,340,559,439,443,675,391,323,355,394,401,979,365,258,217,419,530,236,1294,257,306,215,414,580,200,354,240,366,219,226,174,322,506,455,392,286,187,303,402,267,195,221,156,572,185,265,337,337,166,754,268,430,131,189,365,198,138,374,159,255,363,112,250,276,363,136,130,306,204,356,208,679,327,241,333,180,161,206,514,345,196,288,218,78,236,192,182,129,104,348,110,192,207,159,281,240,259,416,151,157,77,80,282,231,228,379,139,1328,458,75,336,86,96,169,156,169,85,270,359,115,307,120,392,220,316,226,92,379,103,320,168,471,186,132,111,156,251,174,163,1236,193,75,88,213,500,94,118,185,269,475,128,160,265,263,238,484,318,268,422,243,421,523,111,198,147,178,123,192,96,57,58,96,39,73,50,99,131,149,396,62,234,360,310,55,198,129,319,182,691,42,7866,7408,7633,17832,8598,8541,11397,22277,6566,9243,9011,8497,7448,7984,5254,9566,8921,5232,7445,3297,6855,4596,5788,4130,6474,4946,4559,9943,5223,6254,4997,5410,3682,9224,5492,3054,2800,2195,2404,2320,2849,2436,2634,4856,2204,3102,2560,2368,1734,9848,9130,10626,19998,7810,14178,4806,4318,6624,5487,8619,4782,4485,7216,4057,3252,3322,5816,4167,3745,7492,4466,2515,2365,3683,5005,2196,4599,1922,1950,1532,1753,2042,4416,2440,1075,913,1891,1496,1231,1205,1575,1636,2603,1580,1291,17466,1382,906,1760,708,946,989,9553,7632,8744,4917,5301,4512,3844,3467,2258,3334,3881,1434,1336,1575,1695,555,581,1143,1468,532,787,3422,1025,424,667,823,618,362,857,458,561,299,356,594,377,1400,586,715,779,717,579,400,303,786,236,516,665,398,852,599,596,549,2768,428,282,179,291,477,337,1480,533,534,153,620,274,371,310,358,417,473,404,395,251,192,177,445,474,155,408,160,605,130,212,162,222,133,108,290,206,199,226,480,136,569,230,156,373,182,233,99,300,95,146,173,124,194,240,272,149,206,117,354,121,150,129,81,564,37,74,127,113,69,81,63,187,93,78,124,153,102,290,144,91,109,87,178,171,33,86,161,260,73,44,45,178,95,145,65,230,169,81,102,53,79,67,170,110,34,44,63,57,62,97,40,146,54,49,263,114,98,411,91,28,109,120,40,52,72,59,254,103,480,48,146,192,68,98,49,57,181,96,32,67,54,115,59,196,70,110,163,31,51,24,71,110,56,208,60,70,42,43,161,131,780,473,109,193,324,248,193,151,160,250,83,133,133,45,77,90,95,115,52,176,116,56,218,107,84,193,210,67,99,24,54,77,136,16,129,12,26,42,16,11,11,31,140,64,26,41,15,22,39,46,61,115,15,360,13,294,21,468,51,22,42,141,130,130,66,25,10,314,130,75,10,23,37,129,31,10,17,21,63,17,36,106,533,32,45,22,48,12,24,36,16,37,30,172,19,16,28,49,56,18,27,25,42,29,35,44,45,42,23,114,61,52,24,139,13,9,11,33,36,44,43,54,14,43,59,49,74,235,18,337,40,38,100,118,15,27,25,174,120,190,65,331,28,35,48,70,120,657,71,298,287,95,32,24,19,19,17,66,14,47,66,45,21,71,13,14,35,23,42,28,29,460,23,57,20,140,8,56,433,81,46,53,18,11,16,9,42,8,58,5,49,21,7,165,77,341,5,19,24,75,16,25,72,306,138,18,1,10,112,32,41,124,18,107,14,18,31,64,6,53,55,11,27,38,48,61,138,24,83,80,19,34,137,21,42,9,22,23,54,41,26,19,203,72,7,31,5,12,11,128,38,31,571,35,154,123,18,13,71,64,25,37,5,13,30,16,12,10,68,18,7,20,7,10,20,25,589,45,17,12,42,55,410,168,146,33,46,16,19,24,31,16,65,18,7,28,7,44,31,32,9,69,36,11,10,21,4,43,24,15,155,205,74,174,35,2,34,21,48,32,21,26,53,10,27,9,28,49,40,236,14,23,42,20,115,26,11,37,51,36,33,15,10,31,40,42,13,24,8,21,2,86,39,16,40,30,68,216,13,43,13,21,114,21,80,2,15,14,10,32,12,15,88,9,18,21,16,8,124,11,79,25,41,159,13,5,16,3,9,47,3,5,26,148,13,148,13,23,8,16,19,2,38,2,20,9,14,68,103,13,6,61,11,15,8,33,9,47,14,986,6,29,16,2,2,2,8,26,12,5,1,2,4,2,6,1,3,6,1,2,4,1,4,1,5,3,4,2,3,8,5,12,2,26,2,1,25,51,19,33,49,8,8,12,26,28,63,46,76,10,33,174,10,17,16,32,18,1,1,1,39,1,1,1,1,1,1,1,2,1,1,1,1,2,1,1,1,2,1,1,1,1,1,1,3,1,1,1,1,1,1,1,2,1,1,2,1,2,1,20,66,17,49,60,23,12,41,18,5,98,8,51,3,1,1,1,3,1,3,1,1,1,4,2,4,4,4,41,22,36,57,65,18,15,36,15,34,6,49,5,64,29,13,9,16,5,493,6,7,10,5,3,3,1,6,10,27,37,17,67,51,7,3,26,3,5,181,129,2,10,10],\"yaxis\":\"y\",\"type\":\"bar\"}],                        {\"template\":{\"data\":{\"bar\":[{\"error_x\":{\"color\":\"#2a3f5f\"},\"error_y\":{\"color\":\"#2a3f5f\"},\"marker\":{\"line\":{\"color\":\"#E5ECF6\",\"width\":0.5},\"pattern\":{\"fillmode\":\"overlay\",\"size\":10,\"solidity\":0.2}},\"type\":\"bar\"}],\"barpolar\":[{\"marker\":{\"line\":{\"color\":\"#E5ECF6\",\"width\":0.5},\"pattern\":{\"fillmode\":\"overlay\",\"size\":10,\"solidity\":0.2}},\"type\":\"barpolar\"}],\"carpet\":[{\"aaxis\":{\"endlinecolor\":\"#2a3f5f\",\"gridcolor\":\"white\",\"linecolor\":\"white\",\"minorgridcolor\":\"white\",\"startlinecolor\":\"#2a3f5f\"},\"baxis\":{\"endlinecolor\":\"#2a3f5f\",\"gridcolor\":\"white\",\"linecolor\":\"white\",\"minorgridcolor\":\"white\",\"startlinecolor\":\"#2a3f5f\"},\"type\":\"carpet\"}],\"choropleth\":[{\"colorbar\":{\"outlinewidth\":0,\"ticks\":\"\"},\"type\":\"choropleth\"}],\"contour\":[{\"colorbar\":{\"outlinewidth\":0,\"ticks\":\"\"},\"colorscale\":[[0.0,\"#0d0887\"],[0.1111111111111111,\"#46039f\"],[0.2222222222222222,\"#7201a8\"],[0.3333333333333333,\"#9c179e\"],[0.4444444444444444,\"#bd3786\"],[0.5555555555555556,\"#d8576b\"],[0.6666666666666666,\"#ed7953\"],[0.7777777777777778,\"#fb9f3a\"],[0.8888888888888888,\"#fdca26\"],[1.0,\"#f0f921\"]],\"type\":\"contour\"}],\"contourcarpet\":[{\"colorbar\":{\"outlinewidth\":0,\"ticks\":\"\"},\"type\":\"contourcarpet\"}],\"heatmap\":[{\"colorbar\":{\"outlinewidth\":0,\"ticks\":\"\"},\"colorscale\":[[0.0,\"#0d0887\"],[0.1111111111111111,\"#46039f\"],[0.2222222222222222,\"#7201a8\"],[0.3333333333333333,\"#9c179e\"],[0.4444444444444444,\"#bd3786\"],[0.5555555555555556,\"#d8576b\"],[0.6666666666666666,\"#ed7953\"],[0.7777777777777778,\"#fb9f3a\"],[0.8888888888888888,\"#fdca26\"],[1.0,\"#f0f921\"]],\"type\":\"heatmap\"}],\"heatmapgl\":[{\"colorbar\":{\"outlinewidth\":0,\"ticks\":\"\"},\"colorscale\":[[0.0,\"#0d0887\"],[0.1111111111111111,\"#46039f\"],[0.2222222222222222,\"#7201a8\"],[0.3333333333333333,\"#9c179e\"],[0.4444444444444444,\"#bd3786\"],[0.5555555555555556,\"#d8576b\"],[0.6666666666666666,\"#ed7953\"],[0.7777777777777778,\"#fb9f3a\"],[0.8888888888888888,\"#fdca26\"],[1.0,\"#f0f921\"]],\"type\":\"heatmapgl\"}],\"histogram\":[{\"marker\":{\"pattern\":{\"fillmode\":\"overlay\",\"size\":10,\"solidity\":0.2}},\"type\":\"histogram\"}],\"histogram2d\":[{\"colorbar\":{\"outlinewidth\":0,\"ticks\":\"\"},\"colorscale\":[[0.0,\"#0d0887\"],[0.1111111111111111,\"#46039f\"],[0.2222222222222222,\"#7201a8\"],[0.3333333333333333,\"#9c179e\"],[0.4444444444444444,\"#bd3786\"],[0.5555555555555556,\"#d8576b\"],[0.6666666666666666,\"#ed7953\"],[0.7777777777777778,\"#fb9f3a\"],[0.8888888888888888,\"#fdca26\"],[1.0,\"#f0f921\"]],\"type\":\"histogram2d\"}],\"histogram2dcontour\":[{\"colorbar\":{\"outlinewidth\":0,\"ticks\":\"\"},\"colorscale\":[[0.0,\"#0d0887\"],[0.1111111111111111,\"#46039f\"],[0.2222222222222222,\"#7201a8\"],[0.3333333333333333,\"#9c179e\"],[0.4444444444444444,\"#bd3786\"],[0.5555555555555556,\"#d8576b\"],[0.6666666666666666,\"#ed7953\"],[0.7777777777777778,\"#fb9f3a\"],[0.8888888888888888,\"#fdca26\"],[1.0,\"#f0f921\"]],\"type\":\"histogram2dcontour\"}],\"mesh3d\":[{\"colorbar\":{\"outlinewidth\":0,\"ticks\":\"\"},\"type\":\"mesh3d\"}],\"parcoords\":[{\"line\":{\"colorbar\":{\"outlinewidth\":0,\"ticks\":\"\"}},\"type\":\"parcoords\"}],\"pie\":[{\"automargin\":true,\"type\":\"pie\"}],\"scatter\":[{\"marker\":{\"colorbar\":{\"outlinewidth\":0,\"ticks\":\"\"}},\"type\":\"scatter\"}],\"scatter3d\":[{\"line\":{\"colorbar\":{\"outlinewidth\":0,\"ticks\":\"\"}},\"marker\":{\"colorbar\":{\"outlinewidth\":0,\"ticks\":\"\"}},\"type\":\"scatter3d\"}],\"scattercarpet\":[{\"marker\":{\"colorbar\":{\"outlinewidth\":0,\"ticks\":\"\"}},\"type\":\"scattercarpet\"}],\"scattergeo\":[{\"marker\":{\"colorbar\":{\"outlinewidth\":0,\"ticks\":\"\"}},\"type\":\"scattergeo\"}],\"scattergl\":[{\"marker\":{\"colorbar\":{\"outlinewidth\":0,\"ticks\":\"\"}},\"type\":\"scattergl\"}],\"scattermapbox\":[{\"marker\":{\"colorbar\":{\"outlinewidth\":0,\"ticks\":\"\"}},\"type\":\"scattermapbox\"}],\"scatterpolar\":[{\"marker\":{\"colorbar\":{\"outlinewidth\":0,\"ticks\":\"\"}},\"type\":\"scatterpolar\"}],\"scatterpolargl\":[{\"marker\":{\"colorbar\":{\"outlinewidth\":0,\"ticks\":\"\"}},\"type\":\"scatterpolargl\"}],\"scatterternary\":[{\"marker\":{\"colorbar\":{\"outlinewidth\":0,\"ticks\":\"\"}},\"type\":\"scatterternary\"}],\"surface\":[{\"colorbar\":{\"outlinewidth\":0,\"ticks\":\"\"},\"colorscale\":[[0.0,\"#0d0887\"],[0.1111111111111111,\"#46039f\"],[0.2222222222222222,\"#7201a8\"],[0.3333333333333333,\"#9c179e\"],[0.4444444444444444,\"#bd3786\"],[0.5555555555555556,\"#d8576b\"],[0.6666666666666666,\"#ed7953\"],[0.7777777777777778,\"#fb9f3a\"],[0.8888888888888888,\"#fdca26\"],[1.0,\"#f0f921\"]],\"type\":\"surface\"}],\"table\":[{\"cells\":{\"fill\":{\"color\":\"#EBF0F8\"},\"line\":{\"color\":\"white\"}},\"header\":{\"fill\":{\"color\":\"#C8D4E3\"},\"line\":{\"color\":\"white\"}},\"type\":\"table\"}]},\"layout\":{\"annotationdefaults\":{\"arrowcolor\":\"#2a3f5f\",\"arrowhead\":0,\"arrowwidth\":1},\"autotypenumbers\":\"strict\",\"coloraxis\":{\"colorbar\":{\"outlinewidth\":0,\"ticks\":\"\"}},\"colorscale\":{\"diverging\":[[0,\"#8e0152\"],[0.1,\"#c51b7d\"],[0.2,\"#de77ae\"],[0.3,\"#f1b6da\"],[0.4,\"#fde0ef\"],[0.5,\"#f7f7f7\"],[0.6,\"#e6f5d0\"],[0.7,\"#b8e186\"],[0.8,\"#7fbc41\"],[0.9,\"#4d9221\"],[1,\"#276419\"]],\"sequential\":[[0.0,\"#0d0887\"],[0.1111111111111111,\"#46039f\"],[0.2222222222222222,\"#7201a8\"],[0.3333333333333333,\"#9c179e\"],[0.4444444444444444,\"#bd3786\"],[0.5555555555555556,\"#d8576b\"],[0.6666666666666666,\"#ed7953\"],[0.7777777777777778,\"#fb9f3a\"],[0.8888888888888888,\"#fdca26\"],[1.0,\"#f0f921\"]],\"sequentialminus\":[[0.0,\"#0d0887\"],[0.1111111111111111,\"#46039f\"],[0.2222222222222222,\"#7201a8\"],[0.3333333333333333,\"#9c179e\"],[0.4444444444444444,\"#bd3786\"],[0.5555555555555556,\"#d8576b\"],[0.6666666666666666,\"#ed7953\"],[0.7777777777777778,\"#fb9f3a\"],[0.8888888888888888,\"#fdca26\"],[1.0,\"#f0f921\"]]},\"colorway\":[\"#636efa\",\"#EF553B\",\"#00cc96\",\"#ab63fa\",\"#FFA15A\",\"#19d3f3\",\"#FF6692\",\"#B6E880\",\"#FF97FF\",\"#FECB52\"],\"font\":{\"color\":\"#2a3f5f\"},\"geo\":{\"bgcolor\":\"white\",\"lakecolor\":\"white\",\"landcolor\":\"#E5ECF6\",\"showlakes\":true,\"showland\":true,\"subunitcolor\":\"white\"},\"hoverlabel\":{\"align\":\"left\"},\"hovermode\":\"closest\",\"mapbox\":{\"style\":\"light\"},\"paper_bgcolor\":\"white\",\"plot_bgcolor\":\"#E5ECF6\",\"polar\":{\"angularaxis\":{\"gridcolor\":\"white\",\"linecolor\":\"white\",\"ticks\":\"\"},\"bgcolor\":\"#E5ECF6\",\"radialaxis\":{\"gridcolor\":\"white\",\"linecolor\":\"white\",\"ticks\":\"\"}},\"scene\":{\"xaxis\":{\"backgroundcolor\":\"#E5ECF6\",\"gridcolor\":\"white\",\"gridwidth\":2,\"linecolor\":\"white\",\"showbackground\":true,\"ticks\":\"\",\"zerolinecolor\":\"white\"},\"yaxis\":{\"backgroundcolor\":\"#E5ECF6\",\"gridcolor\":\"white\",\"gridwidth\":2,\"linecolor\":\"white\",\"showbackground\":true,\"ticks\":\"\",\"zerolinecolor\":\"white\"},\"zaxis\":{\"backgroundcolor\":\"#E5ECF6\",\"gridcolor\":\"white\",\"gridwidth\":2,\"linecolor\":\"white\",\"showbackground\":true,\"ticks\":\"\",\"zerolinecolor\":\"white\"}},\"shapedefaults\":{\"line\":{\"color\":\"#2a3f5f\"}},\"ternary\":{\"aaxis\":{\"gridcolor\":\"white\",\"linecolor\":\"white\",\"ticks\":\"\"},\"baxis\":{\"gridcolor\":\"white\",\"linecolor\":\"white\",\"ticks\":\"\"},\"bgcolor\":\"#E5ECF6\",\"caxis\":{\"gridcolor\":\"white\",\"linecolor\":\"white\",\"ticks\":\"\"}},\"title\":{\"x\":0.05},\"xaxis\":{\"automargin\":true,\"gridcolor\":\"white\",\"linecolor\":\"white\",\"ticks\":\"\",\"title\":{\"standoff\":15},\"zerolinecolor\":\"white\",\"zerolinewidth\":2},\"yaxis\":{\"automargin\":true,\"gridcolor\":\"white\",\"linecolor\":\"white\",\"ticks\":\"\",\"title\":{\"standoff\":15},\"zerolinecolor\":\"white\",\"zerolinewidth\":2}}},\"xaxis\":{\"anchor\":\"y\",\"domain\":[0.0,1.0],\"title\":{\"text\":\"offset\"}},\"yaxis\":{\"anchor\":\"x\",\"domain\":[0.0,1.0],\"title\":{\"text\":\"count\"}},\"legend\":{\"title\":{\"text\":\"color\"},\"tracegroupgap\":0},\"margin\":{\"t\":60},\"barmode\":\"relative\"},                        {\"responsive\": true}                    ).then(function(){\n",
              "                            \n",
              "var gd = document.getElementById('e1717ed1-2f12-4f76-aceb-165e98805d08');\n",
              "var x = new MutationObserver(function (mutations, observer) {{\n",
              "        var display = window.getComputedStyle(gd).display;\n",
              "        if (!display || display === 'none') {{\n",
              "            console.log([gd, 'removed!']);\n",
              "            Plotly.purge(gd);\n",
              "            observer.disconnect();\n",
              "        }}\n",
              "}});\n",
              "\n",
              "// Listen for the removal of the full notebook cells\n",
              "var notebookContainer = gd.closest('#notebook-container');\n",
              "if (notebookContainer) {{\n",
              "    x.observe(notebookContainer, {childList: true});\n",
              "}}\n",
              "\n",
              "// Listen for the clearing of the current output cell\n",
              "var outputEl = gd.closest('.output');\n",
              "if (outputEl) {{\n",
              "    x.observe(outputEl, {childList: true});\n",
              "}}\n",
              "\n",
              "                        })                };                            </script>        </div>\n",
              "</body>\n",
              "</html>"
            ]
          },
          "metadata": {}
        }
      ]
    },
    {
      "cell_type": "markdown",
      "source": [
        "непонятно из графика"
      ],
      "metadata": {
        "id": "32MO0AuMQ4PC"
      }
    },
    {
      "cell_type": "code",
      "source": [
        "print(f_gene_coverage.groupby('color')['count'].sum())\n",
        "print(f_gene_coverage.groupby('color')['count'].mean())"
      ],
      "metadata": {
        "colab": {
          "base_uri": "https://localhost:8080/"
        },
        "id": "GaUyVa7qSm6h",
        "outputId": "247d85fb-d326-49b0-b5eb-7146e603b377"
      },
      "execution_count": 136,
      "outputs": [
        {
          "output_type": "stream",
          "name": "stdout",
          "text": [
            "color\n",
            "0    2702867\n",
            "1    3462544\n",
            "2    5190712\n",
            "Name: count, dtype: int64\n",
            "color\n",
            "0    1801.911333\n",
            "1    2311.444593\n",
            "2    3412.696910\n",
            "Name: count, dtype: float64\n"
          ]
        }
      ]
    },
    {
      "cell_type": "markdown",
      "source": [
        "видно теперь что есть сдвигом на котором сильно больше прочтений"
      ],
      "metadata": {
        "id": "5mqDb-GBTQGd"
      }
    },
    {
      "cell_type": "markdown",
      "source": [
        "посчитаем RPKM и TPM , отличаются они в нормировке, и кажется что TPM не обладает проблемой того что экспрессия одного гена может потянуть сильно другие гены, так как мы нормируем на общее число"
      ],
      "metadata": {
        "id": "mToanjprXSTu"
      }
    },
    {
      "cell_type": "code",
      "source": [
        "from collections import defaultdict\n",
        "f_gene_coverage = defaultdict(int)\n",
        "for start, count in  tqdm.tqdm(df_f[['start', 'val']].values):\n",
        "  for gene, (begin, end) in genes_f_pos.items():\n",
        "    if begin <= start <= end:\n",
        "      f_gene_coverage[gene] += count\n",
        "\n",
        "r_gene_coverage = defaultdict(int)\n",
        "for start, count in  tqdm.tqdm(df_r[['start', 'val']].values):\n",
        "  for gene, (begin, end) in genes_r_pos.items():\n",
        "    if begin <= start <= end:\n",
        "      r_gene_coverage[gene] += count\n",
        "    "
      ],
      "metadata": {
        "colab": {
          "base_uri": "https://localhost:8080/"
        },
        "id": "ym0c-hyLTKw1",
        "outputId": "23610bd0-e8aa-448f-beed-32eec24e9bf5"
      },
      "execution_count": 137,
      "outputs": [
        {
          "output_type": "stream",
          "name": "stderr",
          "text": [
            "100%|██████████| 621395/621395 [05:50<00:00, 1773.37it/s]\n",
            "100%|██████████| 643345/643345 [07:09<00:00, 1498.09it/s]\n"
          ]
        }
      ]
    },
    {
      "cell_type": "code",
      "source": [
        "genes_df = {'gene':[],\n",
        "            'reads': [],\n",
        "            'length': [],\n",
        "            'start': [],\n",
        "            'end': []}\n",
        "for gene, reads in f_gene_coverage.items():\n",
        "  genes_df['gene'].append(gene)\n",
        "  genes_df['reads'].append(reads)\n",
        "  genes_df['start'].append(genes_f_pos[gene][0])\n",
        "  genes_df['end'].append(genes_f_pos[gene][1])\n",
        "  genes_df['length'].append(genes_f_pos[gene][1] - genes_f_pos[gene][0]+1)\n",
        "\n",
        "for gene, reads in r_gene_coverage.items():\n",
        "  genes_df['gene'].append(gene)\n",
        "  genes_df['reads'].append(reads)\n",
        "  genes_df['start'].append(genes_r_pos[gene][0])\n",
        "  genes_df['end'].append(genes_r_pos[gene][1])\n",
        "  genes_df['length'].append(genes_r_pos[gene][1] - genes_r_pos[gene][0]+1)"
      ],
      "metadata": {
        "id": "TSTLedpSXNZp"
      },
      "execution_count": 152,
      "outputs": []
    },
    {
      "cell_type": "code",
      "source": [
        "genes_df = pd.DataFrame(genes_df)"
      ],
      "metadata": {
        "id": "Z_W4DJzfYYWf"
      },
      "execution_count": 154,
      "outputs": []
    },
    {
      "cell_type": "code",
      "source": [
        "genes_df.head()"
      ],
      "metadata": {
        "colab": {
          "base_uri": "https://localhost:8080/",
          "height": 206
        },
        "id": "eKEZcpeUYfs1",
        "outputId": "6e90d47c-e994-460f-8c89-283a4a3a7218"
      },
      "execution_count": 155,
      "outputs": [
        {
          "output_type": "execute_result",
          "data": {
            "text/plain": [
              "   gene  reads  length  start   end\n",
              "0  thrL    811      66    190   255\n",
              "1  thrA  34298    2463    337  2799\n",
              "2  thrB   6705     933   2801  3733\n",
              "3  thrC  19613    1287   3734  5020\n",
              "4  yaaX    121     297   5234  5530"
            ],
            "text/html": [
              "\n",
              "  <div id=\"df-39596192-5b7b-45f9-8d91-22ec26c7c62b\">\n",
              "    <div class=\"colab-df-container\">\n",
              "      <div>\n",
              "<style scoped>\n",
              "    .dataframe tbody tr th:only-of-type {\n",
              "        vertical-align: middle;\n",
              "    }\n",
              "\n",
              "    .dataframe tbody tr th {\n",
              "        vertical-align: top;\n",
              "    }\n",
              "\n",
              "    .dataframe thead th {\n",
              "        text-align: right;\n",
              "    }\n",
              "</style>\n",
              "<table border=\"1\" class=\"dataframe\">\n",
              "  <thead>\n",
              "    <tr style=\"text-align: right;\">\n",
              "      <th></th>\n",
              "      <th>gene</th>\n",
              "      <th>reads</th>\n",
              "      <th>length</th>\n",
              "      <th>start</th>\n",
              "      <th>end</th>\n",
              "    </tr>\n",
              "  </thead>\n",
              "  <tbody>\n",
              "    <tr>\n",
              "      <th>0</th>\n",
              "      <td>thrL</td>\n",
              "      <td>811</td>\n",
              "      <td>66</td>\n",
              "      <td>190</td>\n",
              "      <td>255</td>\n",
              "    </tr>\n",
              "    <tr>\n",
              "      <th>1</th>\n",
              "      <td>thrA</td>\n",
              "      <td>34298</td>\n",
              "      <td>2463</td>\n",
              "      <td>337</td>\n",
              "      <td>2799</td>\n",
              "    </tr>\n",
              "    <tr>\n",
              "      <th>2</th>\n",
              "      <td>thrB</td>\n",
              "      <td>6705</td>\n",
              "      <td>933</td>\n",
              "      <td>2801</td>\n",
              "      <td>3733</td>\n",
              "    </tr>\n",
              "    <tr>\n",
              "      <th>3</th>\n",
              "      <td>thrC</td>\n",
              "      <td>19613</td>\n",
              "      <td>1287</td>\n",
              "      <td>3734</td>\n",
              "      <td>5020</td>\n",
              "    </tr>\n",
              "    <tr>\n",
              "      <th>4</th>\n",
              "      <td>yaaX</td>\n",
              "      <td>121</td>\n",
              "      <td>297</td>\n",
              "      <td>5234</td>\n",
              "      <td>5530</td>\n",
              "    </tr>\n",
              "  </tbody>\n",
              "</table>\n",
              "</div>\n",
              "      <button class=\"colab-df-convert\" onclick=\"convertToInteractive('df-39596192-5b7b-45f9-8d91-22ec26c7c62b')\"\n",
              "              title=\"Convert this dataframe to an interactive table.\"\n",
              "              style=\"display:none;\">\n",
              "        \n",
              "  <svg xmlns=\"http://www.w3.org/2000/svg\" height=\"24px\"viewBox=\"0 0 24 24\"\n",
              "       width=\"24px\">\n",
              "    <path d=\"M0 0h24v24H0V0z\" fill=\"none\"/>\n",
              "    <path d=\"M18.56 5.44l.94 2.06.94-2.06 2.06-.94-2.06-.94-.94-2.06-.94 2.06-2.06.94zm-11 1L8.5 8.5l.94-2.06 2.06-.94-2.06-.94L8.5 2.5l-.94 2.06-2.06.94zm10 10l.94 2.06.94-2.06 2.06-.94-2.06-.94-.94-2.06-.94 2.06-2.06.94z\"/><path d=\"M17.41 7.96l-1.37-1.37c-.4-.4-.92-.59-1.43-.59-.52 0-1.04.2-1.43.59L10.3 9.45l-7.72 7.72c-.78.78-.78 2.05 0 2.83L4 21.41c.39.39.9.59 1.41.59.51 0 1.02-.2 1.41-.59l7.78-7.78 2.81-2.81c.8-.78.8-2.07 0-2.86zM5.41 20L4 18.59l7.72-7.72 1.47 1.35L5.41 20z\"/>\n",
              "  </svg>\n",
              "      </button>\n",
              "      \n",
              "  <style>\n",
              "    .colab-df-container {\n",
              "      display:flex;\n",
              "      flex-wrap:wrap;\n",
              "      gap: 12px;\n",
              "    }\n",
              "\n",
              "    .colab-df-convert {\n",
              "      background-color: #E8F0FE;\n",
              "      border: none;\n",
              "      border-radius: 50%;\n",
              "      cursor: pointer;\n",
              "      display: none;\n",
              "      fill: #1967D2;\n",
              "      height: 32px;\n",
              "      padding: 0 0 0 0;\n",
              "      width: 32px;\n",
              "    }\n",
              "\n",
              "    .colab-df-convert:hover {\n",
              "      background-color: #E2EBFA;\n",
              "      box-shadow: 0px 1px 2px rgba(60, 64, 67, 0.3), 0px 1px 3px 1px rgba(60, 64, 67, 0.15);\n",
              "      fill: #174EA6;\n",
              "    }\n",
              "\n",
              "    [theme=dark] .colab-df-convert {\n",
              "      background-color: #3B4455;\n",
              "      fill: #D2E3FC;\n",
              "    }\n",
              "\n",
              "    [theme=dark] .colab-df-convert:hover {\n",
              "      background-color: #434B5C;\n",
              "      box-shadow: 0px 1px 3px 1px rgba(0, 0, 0, 0.15);\n",
              "      filter: drop-shadow(0px 1px 2px rgba(0, 0, 0, 0.3));\n",
              "      fill: #FFFFFF;\n",
              "    }\n",
              "  </style>\n",
              "\n",
              "      <script>\n",
              "        const buttonEl =\n",
              "          document.querySelector('#df-39596192-5b7b-45f9-8d91-22ec26c7c62b button.colab-df-convert');\n",
              "        buttonEl.style.display =\n",
              "          google.colab.kernel.accessAllowed ? 'block' : 'none';\n",
              "\n",
              "        async function convertToInteractive(key) {\n",
              "          const element = document.querySelector('#df-39596192-5b7b-45f9-8d91-22ec26c7c62b');\n",
              "          const dataTable =\n",
              "            await google.colab.kernel.invokeFunction('convertToInteractive',\n",
              "                                                     [key], {});\n",
              "          if (!dataTable) return;\n",
              "\n",
              "          const docLinkHtml = 'Like what you see? Visit the ' +\n",
              "            '<a target=\"_blank\" href=https://colab.research.google.com/notebooks/data_table.ipynb>data table notebook</a>'\n",
              "            + ' to learn more about interactive tables.';\n",
              "          element.innerHTML = '';\n",
              "          dataTable['output_type'] = 'display_data';\n",
              "          await google.colab.output.renderOutput(dataTable, element);\n",
              "          const docLink = document.createElement('div');\n",
              "          docLink.innerHTML = docLinkHtml;\n",
              "          element.appendChild(docLink);\n",
              "        }\n",
              "      </script>\n",
              "    </div>\n",
              "  </div>\n",
              "  "
            ]
          },
          "metadata": {},
          "execution_count": 155
        }
      ]
    },
    {
      "cell_type": "code",
      "source": [
        "genes_df = genes_df.set_index('gene')"
      ],
      "metadata": {
        "id": "dSELQuDYYidp"
      },
      "execution_count": 156,
      "outputs": []
    },
    {
      "cell_type": "code",
      "source": [
        "genes_df['RPKM'] = genes_df['reads']/((genes_df[\"length\"] / 1000)* (genes_df[\"reads\"].sum() / 1000000))"
      ],
      "metadata": {
        "id": "ZBc7vM4wYk73"
      },
      "execution_count": 157,
      "outputs": []
    },
    {
      "cell_type": "code",
      "source": [
        "genes_df['TPM'] = genes_df['reads']/(genes_df[\"length\"] / 1000)\n",
        "genes_df['TPM'] /= genes_df['TPM'].sum()/1000000"
      ],
      "metadata": {
        "id": "dbOpMFEjY89y"
      },
      "execution_count": 158,
      "outputs": []
    },
    {
      "cell_type": "code",
      "source": [
        "genes_df.head()"
      ],
      "metadata": {
        "colab": {
          "base_uri": "https://localhost:8080/",
          "height": 238
        },
        "id": "23u8_IgYZJjH",
        "outputId": "85f4fa07-b301-4141-b0d3-108efa452d30"
      },
      "execution_count": 159,
      "outputs": [
        {
          "output_type": "execute_result",
          "data": {
            "text/plain": [
              "      reads  length  start   end        RPKM         TPM\n",
              "gene                                                    \n",
              "thrL    811      66    190   255  507.488347  304.785070\n",
              "thrA  34298    2463    337  2799  575.113471  345.399063\n",
              "thrB   6705     933   2801  3733  296.801639  178.251794\n",
              "thrC  19613    1287   3734  5020  629.382463  377.991690\n",
              "yaaX    121     297   5234  5530   16.825891   10.105218"
            ],
            "text/html": [
              "\n",
              "  <div id=\"df-b591bf61-d9c6-474f-8870-c56efddccc31\">\n",
              "    <div class=\"colab-df-container\">\n",
              "      <div>\n",
              "<style scoped>\n",
              "    .dataframe tbody tr th:only-of-type {\n",
              "        vertical-align: middle;\n",
              "    }\n",
              "\n",
              "    .dataframe tbody tr th {\n",
              "        vertical-align: top;\n",
              "    }\n",
              "\n",
              "    .dataframe thead th {\n",
              "        text-align: right;\n",
              "    }\n",
              "</style>\n",
              "<table border=\"1\" class=\"dataframe\">\n",
              "  <thead>\n",
              "    <tr style=\"text-align: right;\">\n",
              "      <th></th>\n",
              "      <th>reads</th>\n",
              "      <th>length</th>\n",
              "      <th>start</th>\n",
              "      <th>end</th>\n",
              "      <th>RPKM</th>\n",
              "      <th>TPM</th>\n",
              "    </tr>\n",
              "    <tr>\n",
              "      <th>gene</th>\n",
              "      <th></th>\n",
              "      <th></th>\n",
              "      <th></th>\n",
              "      <th></th>\n",
              "      <th></th>\n",
              "      <th></th>\n",
              "    </tr>\n",
              "  </thead>\n",
              "  <tbody>\n",
              "    <tr>\n",
              "      <th>thrL</th>\n",
              "      <td>811</td>\n",
              "      <td>66</td>\n",
              "      <td>190</td>\n",
              "      <td>255</td>\n",
              "      <td>507.488347</td>\n",
              "      <td>304.785070</td>\n",
              "    </tr>\n",
              "    <tr>\n",
              "      <th>thrA</th>\n",
              "      <td>34298</td>\n",
              "      <td>2463</td>\n",
              "      <td>337</td>\n",
              "      <td>2799</td>\n",
              "      <td>575.113471</td>\n",
              "      <td>345.399063</td>\n",
              "    </tr>\n",
              "    <tr>\n",
              "      <th>thrB</th>\n",
              "      <td>6705</td>\n",
              "      <td>933</td>\n",
              "      <td>2801</td>\n",
              "      <td>3733</td>\n",
              "      <td>296.801639</td>\n",
              "      <td>178.251794</td>\n",
              "    </tr>\n",
              "    <tr>\n",
              "      <th>thrC</th>\n",
              "      <td>19613</td>\n",
              "      <td>1287</td>\n",
              "      <td>3734</td>\n",
              "      <td>5020</td>\n",
              "      <td>629.382463</td>\n",
              "      <td>377.991690</td>\n",
              "    </tr>\n",
              "    <tr>\n",
              "      <th>yaaX</th>\n",
              "      <td>121</td>\n",
              "      <td>297</td>\n",
              "      <td>5234</td>\n",
              "      <td>5530</td>\n",
              "      <td>16.825891</td>\n",
              "      <td>10.105218</td>\n",
              "    </tr>\n",
              "  </tbody>\n",
              "</table>\n",
              "</div>\n",
              "      <button class=\"colab-df-convert\" onclick=\"convertToInteractive('df-b591bf61-d9c6-474f-8870-c56efddccc31')\"\n",
              "              title=\"Convert this dataframe to an interactive table.\"\n",
              "              style=\"display:none;\">\n",
              "        \n",
              "  <svg xmlns=\"http://www.w3.org/2000/svg\" height=\"24px\"viewBox=\"0 0 24 24\"\n",
              "       width=\"24px\">\n",
              "    <path d=\"M0 0h24v24H0V0z\" fill=\"none\"/>\n",
              "    <path d=\"M18.56 5.44l.94 2.06.94-2.06 2.06-.94-2.06-.94-.94-2.06-.94 2.06-2.06.94zm-11 1L8.5 8.5l.94-2.06 2.06-.94-2.06-.94L8.5 2.5l-.94 2.06-2.06.94zm10 10l.94 2.06.94-2.06 2.06-.94-2.06-.94-.94-2.06-.94 2.06-2.06.94z\"/><path d=\"M17.41 7.96l-1.37-1.37c-.4-.4-.92-.59-1.43-.59-.52 0-1.04.2-1.43.59L10.3 9.45l-7.72 7.72c-.78.78-.78 2.05 0 2.83L4 21.41c.39.39.9.59 1.41.59.51 0 1.02-.2 1.41-.59l7.78-7.78 2.81-2.81c.8-.78.8-2.07 0-2.86zM5.41 20L4 18.59l7.72-7.72 1.47 1.35L5.41 20z\"/>\n",
              "  </svg>\n",
              "      </button>\n",
              "      \n",
              "  <style>\n",
              "    .colab-df-container {\n",
              "      display:flex;\n",
              "      flex-wrap:wrap;\n",
              "      gap: 12px;\n",
              "    }\n",
              "\n",
              "    .colab-df-convert {\n",
              "      background-color: #E8F0FE;\n",
              "      border: none;\n",
              "      border-radius: 50%;\n",
              "      cursor: pointer;\n",
              "      display: none;\n",
              "      fill: #1967D2;\n",
              "      height: 32px;\n",
              "      padding: 0 0 0 0;\n",
              "      width: 32px;\n",
              "    }\n",
              "\n",
              "    .colab-df-convert:hover {\n",
              "      background-color: #E2EBFA;\n",
              "      box-shadow: 0px 1px 2px rgba(60, 64, 67, 0.3), 0px 1px 3px 1px rgba(60, 64, 67, 0.15);\n",
              "      fill: #174EA6;\n",
              "    }\n",
              "\n",
              "    [theme=dark] .colab-df-convert {\n",
              "      background-color: #3B4455;\n",
              "      fill: #D2E3FC;\n",
              "    }\n",
              "\n",
              "    [theme=dark] .colab-df-convert:hover {\n",
              "      background-color: #434B5C;\n",
              "      box-shadow: 0px 1px 3px 1px rgba(0, 0, 0, 0.15);\n",
              "      filter: drop-shadow(0px 1px 2px rgba(0, 0, 0, 0.3));\n",
              "      fill: #FFFFFF;\n",
              "    }\n",
              "  </style>\n",
              "\n",
              "      <script>\n",
              "        const buttonEl =\n",
              "          document.querySelector('#df-b591bf61-d9c6-474f-8870-c56efddccc31 button.colab-df-convert');\n",
              "        buttonEl.style.display =\n",
              "          google.colab.kernel.accessAllowed ? 'block' : 'none';\n",
              "\n",
              "        async function convertToInteractive(key) {\n",
              "          const element = document.querySelector('#df-b591bf61-d9c6-474f-8870-c56efddccc31');\n",
              "          const dataTable =\n",
              "            await google.colab.kernel.invokeFunction('convertToInteractive',\n",
              "                                                     [key], {});\n",
              "          if (!dataTable) return;\n",
              "\n",
              "          const docLinkHtml = 'Like what you see? Visit the ' +\n",
              "            '<a target=\"_blank\" href=https://colab.research.google.com/notebooks/data_table.ipynb>data table notebook</a>'\n",
              "            + ' to learn more about interactive tables.';\n",
              "          element.innerHTML = '';\n",
              "          dataTable['output_type'] = 'display_data';\n",
              "          await google.colab.output.renderOutput(dataTable, element);\n",
              "          const docLink = document.createElement('div');\n",
              "          docLink.innerHTML = docLinkHtml;\n",
              "          element.appendChild(docLink);\n",
              "        }\n",
              "      </script>\n",
              "    </div>\n",
              "  </div>\n",
              "  "
            ]
          },
          "metadata": {},
          "execution_count": 159
        }
      ]
    },
    {
      "cell_type": "code",
      "source": [],
      "metadata": {
        "id": "_yxslh_kZLO_"
      },
      "execution_count": null,
      "outputs": []
    },
    {
      "cell_type": "markdown",
      "source": [
        "Посмотрим теперь на оперон"
      ],
      "metadata": {
        "id": "zWWal-qmZL4t"
      }
    },
    {
      "cell_type": "code",
      "source": [
        "atp_operon = ['atpB', 'atpE', 'atpF', 'atpH', 'atpA', 'atpG', 'atpD', 'atpC', 'atpI']"
      ],
      "metadata": {
        "id": "dGGDpUvnUG9u"
      },
      "execution_count": 166,
      "outputs": []
    },
    {
      "cell_type": "code",
      "source": [
        "print(f'границы оперона {genes_df.loc[atp_operon].start.min()}:{genes_df.loc[atp_operon].end.max()}')\n"
      ],
      "metadata": {
        "colab": {
          "base_uri": "https://localhost:8080/"
        },
        "id": "YiQCO-UHZReh",
        "outputId": "187b7647-9163-4e4e-b08f-6e035364caa8"
      },
      "execution_count": 167,
      "outputs": [
        {
          "output_type": "stream",
          "name": "stdout",
          "text": [
            "границы оперона 3915553:3922440\n"
          ]
        }
      ]
    },
    {
      "cell_type": "code",
      "source": [
        "genes_df.loc[atp_operon].sort_values('TPM')"
      ],
      "metadata": {
        "colab": {
          "base_uri": "https://localhost:8080/",
          "height": 363
        },
        "id": "xaB6vNavaDvM",
        "outputId": "20a8b438-0ce9-4fc9-c969-17ae388f83b9"
      },
      "execution_count": 168,
      "outputs": [
        {
          "output_type": "execute_result",
          "data": {
            "text/plain": [
              "      reads  length    start      end          RPKM          TPM\n",
              "gene                                                            \n",
              "atpI    511     381  3922060  3922440     55.391749    33.266928\n",
              "atpG  12615     864  3917402  3918265    603.007437   362.151496\n",
              "atpH   9440     534  3919870  3920403    730.095872   438.477697\n",
              "atpF  12632     471  3920418  3920888   1107.644425   665.224109\n",
              "atpC  11572     420  3915553  3915972   1137.910986   683.401465\n",
              "atpB  22894     816  3921236  3922051   1158.725796   695.902330\n",
              "atpA  73132    1542  3918316  3919857   1958.719436  1176.358914\n",
              "atpD  84129    1383  3915993  3917375   2512.306966  1508.830024\n",
              "atpE  71394     240  3920950  3921189  12285.692161  7378.485770"
            ],
            "text/html": [
              "\n",
              "  <div id=\"df-3ba884a5-4e64-42a2-8860-702194a9a16a\">\n",
              "    <div class=\"colab-df-container\">\n",
              "      <div>\n",
              "<style scoped>\n",
              "    .dataframe tbody tr th:only-of-type {\n",
              "        vertical-align: middle;\n",
              "    }\n",
              "\n",
              "    .dataframe tbody tr th {\n",
              "        vertical-align: top;\n",
              "    }\n",
              "\n",
              "    .dataframe thead th {\n",
              "        text-align: right;\n",
              "    }\n",
              "</style>\n",
              "<table border=\"1\" class=\"dataframe\">\n",
              "  <thead>\n",
              "    <tr style=\"text-align: right;\">\n",
              "      <th></th>\n",
              "      <th>reads</th>\n",
              "      <th>length</th>\n",
              "      <th>start</th>\n",
              "      <th>end</th>\n",
              "      <th>RPKM</th>\n",
              "      <th>TPM</th>\n",
              "    </tr>\n",
              "    <tr>\n",
              "      <th>gene</th>\n",
              "      <th></th>\n",
              "      <th></th>\n",
              "      <th></th>\n",
              "      <th></th>\n",
              "      <th></th>\n",
              "      <th></th>\n",
              "    </tr>\n",
              "  </thead>\n",
              "  <tbody>\n",
              "    <tr>\n",
              "      <th>atpI</th>\n",
              "      <td>511</td>\n",
              "      <td>381</td>\n",
              "      <td>3922060</td>\n",
              "      <td>3922440</td>\n",
              "      <td>55.391749</td>\n",
              "      <td>33.266928</td>\n",
              "    </tr>\n",
              "    <tr>\n",
              "      <th>atpG</th>\n",
              "      <td>12615</td>\n",
              "      <td>864</td>\n",
              "      <td>3917402</td>\n",
              "      <td>3918265</td>\n",
              "      <td>603.007437</td>\n",
              "      <td>362.151496</td>\n",
              "    </tr>\n",
              "    <tr>\n",
              "      <th>atpH</th>\n",
              "      <td>9440</td>\n",
              "      <td>534</td>\n",
              "      <td>3919870</td>\n",
              "      <td>3920403</td>\n",
              "      <td>730.095872</td>\n",
              "      <td>438.477697</td>\n",
              "    </tr>\n",
              "    <tr>\n",
              "      <th>atpF</th>\n",
              "      <td>12632</td>\n",
              "      <td>471</td>\n",
              "      <td>3920418</td>\n",
              "      <td>3920888</td>\n",
              "      <td>1107.644425</td>\n",
              "      <td>665.224109</td>\n",
              "    </tr>\n",
              "    <tr>\n",
              "      <th>atpC</th>\n",
              "      <td>11572</td>\n",
              "      <td>420</td>\n",
              "      <td>3915553</td>\n",
              "      <td>3915972</td>\n",
              "      <td>1137.910986</td>\n",
              "      <td>683.401465</td>\n",
              "    </tr>\n",
              "    <tr>\n",
              "      <th>atpB</th>\n",
              "      <td>22894</td>\n",
              "      <td>816</td>\n",
              "      <td>3921236</td>\n",
              "      <td>3922051</td>\n",
              "      <td>1158.725796</td>\n",
              "      <td>695.902330</td>\n",
              "    </tr>\n",
              "    <tr>\n",
              "      <th>atpA</th>\n",
              "      <td>73132</td>\n",
              "      <td>1542</td>\n",
              "      <td>3918316</td>\n",
              "      <td>3919857</td>\n",
              "      <td>1958.719436</td>\n",
              "      <td>1176.358914</td>\n",
              "    </tr>\n",
              "    <tr>\n",
              "      <th>atpD</th>\n",
              "      <td>84129</td>\n",
              "      <td>1383</td>\n",
              "      <td>3915993</td>\n",
              "      <td>3917375</td>\n",
              "      <td>2512.306966</td>\n",
              "      <td>1508.830024</td>\n",
              "    </tr>\n",
              "    <tr>\n",
              "      <th>atpE</th>\n",
              "      <td>71394</td>\n",
              "      <td>240</td>\n",
              "      <td>3920950</td>\n",
              "      <td>3921189</td>\n",
              "      <td>12285.692161</td>\n",
              "      <td>7378.485770</td>\n",
              "    </tr>\n",
              "  </tbody>\n",
              "</table>\n",
              "</div>\n",
              "      <button class=\"colab-df-convert\" onclick=\"convertToInteractive('df-3ba884a5-4e64-42a2-8860-702194a9a16a')\"\n",
              "              title=\"Convert this dataframe to an interactive table.\"\n",
              "              style=\"display:none;\">\n",
              "        \n",
              "  <svg xmlns=\"http://www.w3.org/2000/svg\" height=\"24px\"viewBox=\"0 0 24 24\"\n",
              "       width=\"24px\">\n",
              "    <path d=\"M0 0h24v24H0V0z\" fill=\"none\"/>\n",
              "    <path d=\"M18.56 5.44l.94 2.06.94-2.06 2.06-.94-2.06-.94-.94-2.06-.94 2.06-2.06.94zm-11 1L8.5 8.5l.94-2.06 2.06-.94-2.06-.94L8.5 2.5l-.94 2.06-2.06.94zm10 10l.94 2.06.94-2.06 2.06-.94-2.06-.94-.94-2.06-.94 2.06-2.06.94z\"/><path d=\"M17.41 7.96l-1.37-1.37c-.4-.4-.92-.59-1.43-.59-.52 0-1.04.2-1.43.59L10.3 9.45l-7.72 7.72c-.78.78-.78 2.05 0 2.83L4 21.41c.39.39.9.59 1.41.59.51 0 1.02-.2 1.41-.59l7.78-7.78 2.81-2.81c.8-.78.8-2.07 0-2.86zM5.41 20L4 18.59l7.72-7.72 1.47 1.35L5.41 20z\"/>\n",
              "  </svg>\n",
              "      </button>\n",
              "      \n",
              "  <style>\n",
              "    .colab-df-container {\n",
              "      display:flex;\n",
              "      flex-wrap:wrap;\n",
              "      gap: 12px;\n",
              "    }\n",
              "\n",
              "    .colab-df-convert {\n",
              "      background-color: #E8F0FE;\n",
              "      border: none;\n",
              "      border-radius: 50%;\n",
              "      cursor: pointer;\n",
              "      display: none;\n",
              "      fill: #1967D2;\n",
              "      height: 32px;\n",
              "      padding: 0 0 0 0;\n",
              "      width: 32px;\n",
              "    }\n",
              "\n",
              "    .colab-df-convert:hover {\n",
              "      background-color: #E2EBFA;\n",
              "      box-shadow: 0px 1px 2px rgba(60, 64, 67, 0.3), 0px 1px 3px 1px rgba(60, 64, 67, 0.15);\n",
              "      fill: #174EA6;\n",
              "    }\n",
              "\n",
              "    [theme=dark] .colab-df-convert {\n",
              "      background-color: #3B4455;\n",
              "      fill: #D2E3FC;\n",
              "    }\n",
              "\n",
              "    [theme=dark] .colab-df-convert:hover {\n",
              "      background-color: #434B5C;\n",
              "      box-shadow: 0px 1px 3px 1px rgba(0, 0, 0, 0.15);\n",
              "      filter: drop-shadow(0px 1px 2px rgba(0, 0, 0, 0.3));\n",
              "      fill: #FFFFFF;\n",
              "    }\n",
              "  </style>\n",
              "\n",
              "      <script>\n",
              "        const buttonEl =\n",
              "          document.querySelector('#df-3ba884a5-4e64-42a2-8860-702194a9a16a button.colab-df-convert');\n",
              "        buttonEl.style.display =\n",
              "          google.colab.kernel.accessAllowed ? 'block' : 'none';\n",
              "\n",
              "        async function convertToInteractive(key) {\n",
              "          const element = document.querySelector('#df-3ba884a5-4e64-42a2-8860-702194a9a16a');\n",
              "          const dataTable =\n",
              "            await google.colab.kernel.invokeFunction('convertToInteractive',\n",
              "                                                     [key], {});\n",
              "          if (!dataTable) return;\n",
              "\n",
              "          const docLinkHtml = 'Like what you see? Visit the ' +\n",
              "            '<a target=\"_blank\" href=https://colab.research.google.com/notebooks/data_table.ipynb>data table notebook</a>'\n",
              "            + ' to learn more about interactive tables.';\n",
              "          element.innerHTML = '';\n",
              "          dataTable['output_type'] = 'display_data';\n",
              "          await google.colab.output.renderOutput(dataTable, element);\n",
              "          const docLink = document.createElement('div');\n",
              "          docLink.innerHTML = docLinkHtml;\n",
              "          element.appendChild(docLink);\n",
              "        }\n",
              "      </script>\n",
              "    </div>\n",
              "  </div>\n",
              "  "
            ]
          },
          "metadata": {},
          "execution_count": 168
        }
      ]
    },
    {
      "cell_type": "markdown",
      "source": [
        "почитал что может быть . не очень уверен, но кажется можно предположить что гены atpI, atpG, atpH носят регуляторную функцию для всего оперона и например позволяют меньше экспрессировать в случае наличия в среде большого числа глюкозы. \n",
        "\n",
        "\n",
        "Можно ли было бы такое найти с помощью обычного RNA-seq -кажется нет. Но это верно при условии того что мой прошлый вывод оказался верным"
      ],
      "metadata": {
        "id": "IuNCSXRWcpHB"
      }
    }
  ]
}